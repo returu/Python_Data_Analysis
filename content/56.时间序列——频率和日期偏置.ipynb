{
 "cells": [
  {
   "cell_type": "code",
   "execution_count": 1,
   "id": "c972e1d9",
   "metadata": {},
   "outputs": [],
   "source": [
    "import pandas as pd"
   ]
  },
  {
   "cell_type": "markdown",
   "id": "5e6d4b8b",
   "metadata": {},
   "source": [
    "### 基础频率"
   ]
  },
  {
   "cell_type": "code",
   "execution_count": 2,
   "id": "c83b3c79",
   "metadata": {},
   "outputs": [
    {
     "data": {
      "text/plain": [
       "<Hour>"
      ]
     },
     "execution_count": 2,
     "metadata": {},
     "output_type": "execute_result"
    }
   ],
   "source": [
    "from pandas.tseries.offsets import Hour , Minute\n",
    "\n",
    "hour = Hour()\n",
    "hour"
   ]
  },
  {
   "cell_type": "markdown",
   "id": "574efa4a",
   "metadata": {},
   "source": [
    "### 可以通过传递整数来定义偏移量的倍数："
   ]
  },
  {
   "cell_type": "code",
   "execution_count": 3,
   "id": "fae29f4a",
   "metadata": {},
   "outputs": [
    {
     "data": {
      "text/plain": [
       "<5 * Hours>"
      ]
     },
     "execution_count": 3,
     "metadata": {},
     "output_type": "execute_result"
    }
   ],
   "source": [
    "hour = Hour(5)\n",
    "hour"
   ]
  },
  {
   "cell_type": "markdown",
   "id": "145f65d8",
   "metadata": {},
   "source": [
    "### 多个偏置可以通过加法联合："
   ]
  },
  {
   "cell_type": "code",
   "execution_count": 4,
   "id": "e6d6d1f2",
   "metadata": {},
   "outputs": [
    {
     "data": {
      "text/plain": [
       "<6 * Hours>"
      ]
     },
     "execution_count": 4,
     "metadata": {},
     "output_type": "execute_result"
    }
   ],
   "source": [
    "Hour(5) + Minute(60)"
   ]
  },
  {
   "cell_type": "markdown",
   "id": "9c043660",
   "metadata": {},
   "source": [
    "### 在大多数应用中，不需要显式地创建这些对象，而是使用字符串别名，例如“H”或“5H”。在基础频率前加一个整数可以生成倍数："
   ]
  },
  {
   "cell_type": "code",
   "execution_count": 5,
   "id": "ab458ea1",
   "metadata": {},
   "outputs": [
    {
     "data": {
      "text/plain": [
       "DatetimeIndex(['2022-12-01 00:00:00', '2022-12-01 05:00:00',\n",
       "               '2022-12-01 10:00:00', '2022-12-01 15:00:00',\n",
       "               '2022-12-01 20:00:00', '2022-12-02 01:00:00',\n",
       "               '2022-12-02 06:00:00', '2022-12-02 11:00:00'],\n",
       "              dtype='datetime64[ns]', freq='5H')"
      ]
     },
     "execution_count": 5,
     "metadata": {},
     "output_type": "execute_result"
    }
   ],
   "source": [
    "pd.date_range(\"2022-12-1\" , \"2022-12-2 12:12\" , freq=\"5H\")"
   ]
  },
  {
   "cell_type": "markdown",
   "id": "922987cd",
   "metadata": {},
   "source": [
    "### 类似地，也可以传递频率字符串，如“1h30min”将会被有效地解析为同等的表达式："
   ]
  },
  {
   "cell_type": "code",
   "execution_count": 6,
   "id": "65d6470b",
   "metadata": {},
   "outputs": [
    {
     "data": {
      "text/plain": [
       "DatetimeIndex(['2022-12-01 00:00:00', '2022-12-01 01:30:00',\n",
       "               '2022-12-01 03:00:00', '2022-12-01 04:30:00',\n",
       "               '2022-12-01 06:00:00', '2022-12-01 07:30:00',\n",
       "               '2022-12-01 09:00:00', '2022-12-01 10:30:00',\n",
       "               '2022-12-01 12:00:00', '2022-12-01 13:30:00',\n",
       "               '2022-12-01 15:00:00', '2022-12-01 16:30:00',\n",
       "               '2022-12-01 18:00:00', '2022-12-01 19:30:00',\n",
       "               '2022-12-01 21:00:00', '2022-12-01 22:30:00'],\n",
       "              dtype='datetime64[ns]', freq='90T')"
      ]
     },
     "execution_count": 6,
     "metadata": {},
     "output_type": "execute_result"
    }
   ],
   "source": [
    "pd.date_range(\"2022-12-1\" , \"2022-12-1 23:00\" , freq=\"1h30min\")"
   ]
  },
  {
   "cell_type": "markdown",
   "id": "6c4d74b1",
   "metadata": {},
   "source": [
    "### 月中某星期（“week of month”）是一个有用的频率类，以 WOM 开头："
   ]
  },
  {
   "cell_type": "markdown",
   "id": "e5fd16ec",
   "metadata": {},
   "source": [
    "### 例如，获取每个月的第三个星期五"
   ]
  },
  {
   "cell_type": "code",
   "execution_count": 7,
   "id": "d0dd22eb",
   "metadata": {},
   "outputs": [
    {
     "data": {
      "text/plain": [
       "DatetimeIndex(['2022-01-21', '2022-02-18', '2022-03-18', '2022-04-15',\n",
       "               '2022-05-20', '2022-06-17', '2022-07-15', '2022-08-19',\n",
       "               '2022-09-16', '2022-10-21', '2022-11-18'],\n",
       "              dtype='datetime64[ns]', freq='WOM-3FRI')"
      ]
     },
     "execution_count": 7,
     "metadata": {},
     "output_type": "execute_result"
    }
   ],
   "source": [
    "pd.date_range(\"2022-1-1\" , \"2022-12-1\" , freq=\"WOM-3FRI\")"
   ]
  },
  {
   "cell_type": "code",
   "execution_count": null,
   "id": "7aafe2ab",
   "metadata": {},
   "outputs": [],
   "source": []
  },
  {
   "cell_type": "code",
   "execution_count": null,
   "id": "88a20c72",
   "metadata": {},
   "outputs": [],
   "source": []
  },
  {
   "cell_type": "code",
   "execution_count": null,
   "id": "ffcd1216",
   "metadata": {},
   "outputs": [],
   "source": []
  },
  {
   "cell_type": "code",
   "execution_count": null,
   "id": "74630e03",
   "metadata": {},
   "outputs": [],
   "source": []
  },
  {
   "cell_type": "code",
   "execution_count": null,
   "id": "5d3fc6b1",
   "metadata": {},
   "outputs": [],
   "source": []
  },
  {
   "cell_type": "code",
   "execution_count": null,
   "id": "611dcbba",
   "metadata": {},
   "outputs": [],
   "source": []
  },
  {
   "cell_type": "code",
   "execution_count": null,
   "id": "44981033",
   "metadata": {},
   "outputs": [],
   "source": []
  },
  {
   "cell_type": "code",
   "execution_count": null,
   "id": "1d8013cc",
   "metadata": {},
   "outputs": [],
   "source": []
  }
 ],
 "metadata": {
  "kernelspec": {
   "display_name": "Python 3 (ipykernel)",
   "language": "python",
   "name": "python3"
  },
  "language_info": {
   "codemirror_mode": {
    "name": "ipython",
    "version": 3
   },
   "file_extension": ".py",
   "mimetype": "text/x-python",
   "name": "python",
   "nbconvert_exporter": "python",
   "pygments_lexer": "ipython3",
   "version": "3.9.12"
  }
 },
 "nbformat": 4,
 "nbformat_minor": 5
}
