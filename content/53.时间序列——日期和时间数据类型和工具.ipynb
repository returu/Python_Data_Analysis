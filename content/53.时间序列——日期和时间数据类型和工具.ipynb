{
 "cells": [
  {
   "cell_type": "code",
   "execution_count": 1,
   "id": "7cd00643",
   "metadata": {},
   "outputs": [],
   "source": [
    "import numpy as np\n",
    "import pandas as pd"
   ]
  },
  {
   "cell_type": "markdown",
   "id": "fc46f76f",
   "metadata": {},
   "source": [
    "# 1.日期和时间数据类型和工具："
   ]
  },
  {
   "cell_type": "markdown",
   "id": "76a72945",
   "metadata": {},
   "source": [
    "### datetime.datetime 类型"
   ]
  },
  {
   "cell_type": "code",
   "execution_count": 2,
   "id": "f5d8b22d",
   "metadata": {},
   "outputs": [
    {
     "data": {
      "text/plain": [
       "datetime.datetime(2022, 12, 24, 18, 32, 32, 483672)"
      ]
     },
     "execution_count": 2,
     "metadata": {},
     "output_type": "execute_result"
    }
   ],
   "source": [
    "from datetime import datetime\n",
    "\n",
    "now = datetime.now()\n",
    "now"
   ]
  },
  {
   "cell_type": "code",
   "execution_count": 3,
   "id": "a8dca93f",
   "metadata": {},
   "outputs": [
    {
     "data": {
      "text/plain": [
       "(2022, 12, 24)"
      ]
     },
     "execution_count": 3,
     "metadata": {},
     "output_type": "execute_result"
    }
   ],
   "source": [
    "now.year , now.month , now.day"
   ]
  },
  {
   "cell_type": "markdown",
   "id": "c6c389d7",
   "metadata": {},
   "source": [
    "### datetime.timedelta"
   ]
  },
  {
   "cell_type": "code",
   "execution_count": 4,
   "id": "734feca2",
   "metadata": {},
   "outputs": [
    {
     "data": {
      "text/plain": [
       "datetime.timedelta(days=4414, seconds=21000)"
      ]
     },
     "execution_count": 4,
     "metadata": {},
     "output_type": "execute_result"
    }
   ],
   "source": [
    "delta = datetime(2022,12,24) - datetime(2010,11,22,18,10)\n",
    "delta"
   ]
  },
  {
   "cell_type": "code",
   "execution_count": 5,
   "id": "937989d3",
   "metadata": {},
   "outputs": [
    {
     "data": {
      "text/plain": [
       "(4414, 21000)"
      ]
     },
     "execution_count": 5,
     "metadata": {},
     "output_type": "execute_result"
    }
   ],
   "source": [
    "delta.days , delta.seconds"
   ]
  },
  {
   "cell_type": "markdown",
   "id": "049279e2",
   "metadata": {},
   "source": [
    "### 向一个 datetime 对象添加（或减去）一个timedelta或其整数倍"
   ]
  },
  {
   "cell_type": "code",
   "execution_count": 6,
   "id": "352c4dc7",
   "metadata": {},
   "outputs": [],
   "source": [
    "from datetime import timedelta\n",
    "\n",
    "start = datetime(2010,11,22)"
   ]
  },
  {
   "cell_type": "code",
   "execution_count": 7,
   "id": "95a874cf",
   "metadata": {},
   "outputs": [
    {
     "data": {
      "text/plain": [
       "datetime.datetime(2010, 11, 10, 0, 0)"
      ]
     },
     "execution_count": 7,
     "metadata": {},
     "output_type": "execute_result"
    }
   ],
   "source": [
    "start - timedelta(12)"
   ]
  },
  {
   "cell_type": "code",
   "execution_count": 8,
   "id": "5c3c2683",
   "metadata": {},
   "outputs": [
    {
     "data": {
      "text/plain": [
       "datetime.datetime(2010, 11, 26, 0, 0)"
      ]
     },
     "execution_count": 8,
     "metadata": {},
     "output_type": "execute_result"
    }
   ],
   "source": [
    "start + timedelta(2)*2"
   ]
  },
  {
   "cell_type": "markdown",
   "id": "ac6a7780",
   "metadata": {},
   "source": [
    "# 2.字符串和Datetime相互转换："
   ]
  },
  {
   "cell_type": "markdown",
   "id": "98da4b84",
   "metadata": {},
   "source": [
    "### str 或 strftime 方法"
   ]
  },
  {
   "cell_type": "code",
   "execution_count": 9,
   "id": "8d774f0e",
   "metadata": {},
   "outputs": [],
   "source": [
    "stamp = datetime(2010,11,22)"
   ]
  },
  {
   "cell_type": "code",
   "execution_count": 10,
   "id": "188c63a2",
   "metadata": {},
   "outputs": [
    {
     "data": {
      "text/plain": [
       "'2010-11-22 00:00:00'"
      ]
     },
     "execution_count": 10,
     "metadata": {},
     "output_type": "execute_result"
    }
   ],
   "source": [
    "str(stamp)"
   ]
  },
  {
   "cell_type": "code",
   "execution_count": 11,
   "id": "3b5c1896",
   "metadata": {},
   "outputs": [
    {
     "data": {
      "text/plain": [
       "'2010-11-22'"
      ]
     },
     "execution_count": 11,
     "metadata": {},
     "output_type": "execute_result"
    }
   ],
   "source": [
    "stamp.strftime(\"%Y-%m-%d\")"
   ]
  },
  {
   "cell_type": "markdown",
   "id": "0ad4133a",
   "metadata": {},
   "source": [
    "### datetime.strptime "
   ]
  },
  {
   "cell_type": "code",
   "execution_count": 12,
   "id": "46fd5a7d",
   "metadata": {},
   "outputs": [],
   "source": [
    "value = \"2010-11-22\""
   ]
  },
  {
   "cell_type": "code",
   "execution_count": 13,
   "id": "640b56a8",
   "metadata": {},
   "outputs": [
    {
     "data": {
      "text/plain": [
       "datetime.datetime(2010, 11, 22, 0, 0)"
      ]
     },
     "execution_count": 13,
     "metadata": {},
     "output_type": "execute_result"
    }
   ],
   "source": [
    "datetime.strptime(value , \"%Y-%m-%d\")"
   ]
  },
  {
   "cell_type": "code",
   "execution_count": 14,
   "id": "5b2819dd",
   "metadata": {},
   "outputs": [],
   "source": [
    "datestrs = [\"2010-11-22\" , \"2012-5-17\"]"
   ]
  },
  {
   "cell_type": "code",
   "execution_count": 15,
   "id": "32d250d8",
   "metadata": {},
   "outputs": [
    {
     "data": {
      "text/plain": [
       "[datetime.datetime(2010, 11, 22, 0, 0), datetime.datetime(2012, 5, 17, 0, 0)]"
      ]
     },
     "execution_count": 15,
     "metadata": {},
     "output_type": "execute_result"
    }
   ],
   "source": [
    "[datetime.strptime(x, \"%Y-%m-%d\") for x in datestrs]"
   ]
  },
  {
   "cell_type": "markdown",
   "id": "7d715e7d",
   "metadata": {},
   "source": [
    "### pandas.to_datetime "
   ]
  },
  {
   "cell_type": "code",
   "execution_count": 16,
   "id": "586251f7",
   "metadata": {},
   "outputs": [],
   "source": [
    "datestrs = [\"2010-11-22\" , \"2012-5-17\"]"
   ]
  },
  {
   "cell_type": "code",
   "execution_count": 17,
   "id": "681e2e65",
   "metadata": {},
   "outputs": [
    {
     "data": {
      "text/plain": [
       "DatetimeIndex(['2010-11-22', '2012-05-17'], dtype='datetime64[ns]', freq=None)"
      ]
     },
     "execution_count": 17,
     "metadata": {},
     "output_type": "execute_result"
    }
   ],
   "source": [
    "pd.to_datetime(datestrs)"
   ]
  },
  {
   "cell_type": "markdown",
   "id": "b97fa53c",
   "metadata": {},
   "source": [
    "### NaT"
   ]
  },
  {
   "cell_type": "code",
   "execution_count": 18,
   "id": "30fc4384",
   "metadata": {},
   "outputs": [],
   "source": [
    "datestrs = [\"2010-11-22\" , \"2012-5-17\"] + [None]"
   ]
  },
  {
   "cell_type": "code",
   "execution_count": 19,
   "id": "ed3b0878",
   "metadata": {},
   "outputs": [
    {
     "data": {
      "text/plain": [
       "DatetimeIndex(['2010-11-22', '2012-05-17', 'NaT'], dtype='datetime64[ns]', freq=None)"
      ]
     },
     "execution_count": 19,
     "metadata": {},
     "output_type": "execute_result"
    }
   ],
   "source": [
    "pd.to_datetime(datestrs)"
   ]
  },
  {
   "cell_type": "code",
   "execution_count": 20,
   "id": "c6ec905e",
   "metadata": {},
   "outputs": [
    {
     "data": {
      "text/plain": [
       "NaT"
      ]
     },
     "execution_count": 20,
     "metadata": {},
     "output_type": "execute_result"
    }
   ],
   "source": [
    "pd.to_datetime(datestrs)[2]"
   ]
  },
  {
   "cell_type": "code",
   "execution_count": 21,
   "id": "bbe2151e",
   "metadata": {},
   "outputs": [
    {
     "data": {
      "text/plain": [
       "array([False, False,  True])"
      ]
     },
     "execution_count": 21,
     "metadata": {},
     "output_type": "execute_result"
    }
   ],
   "source": [
    "pd.isna(pd.to_datetime(datestrs))"
   ]
  },
  {
   "cell_type": "code",
   "execution_count": null,
   "id": "29a8f689",
   "metadata": {},
   "outputs": [],
   "source": []
  },
  {
   "cell_type": "code",
   "execution_count": null,
   "id": "55f89be7",
   "metadata": {},
   "outputs": [],
   "source": []
  },
  {
   "cell_type": "code",
   "execution_count": null,
   "id": "45bad245",
   "metadata": {},
   "outputs": [],
   "source": []
  },
  {
   "cell_type": "code",
   "execution_count": null,
   "id": "4f5a0d45",
   "metadata": {},
   "outputs": [],
   "source": []
  },
  {
   "cell_type": "code",
   "execution_count": null,
   "id": "48ff1c24",
   "metadata": {},
   "outputs": [],
   "source": []
  },
  {
   "cell_type": "code",
   "execution_count": null,
   "id": "42e2902d",
   "metadata": {},
   "outputs": [],
   "source": []
  },
  {
   "cell_type": "code",
   "execution_count": null,
   "id": "b265d4f3",
   "metadata": {},
   "outputs": [],
   "source": []
  },
  {
   "cell_type": "code",
   "execution_count": null,
   "id": "2ea57d64",
   "metadata": {},
   "outputs": [],
   "source": []
  },
  {
   "cell_type": "code",
   "execution_count": null,
   "id": "3ebf5c81",
   "metadata": {},
   "outputs": [],
   "source": []
  },
  {
   "cell_type": "code",
   "execution_count": null,
   "id": "8b4db4a1",
   "metadata": {},
   "outputs": [],
   "source": []
  },
  {
   "cell_type": "code",
   "execution_count": null,
   "id": "8ccc7896",
   "metadata": {},
   "outputs": [],
   "source": []
  },
  {
   "cell_type": "code",
   "execution_count": null,
   "id": "27ef4df6",
   "metadata": {},
   "outputs": [],
   "source": []
  },
  {
   "cell_type": "code",
   "execution_count": null,
   "id": "e0956372",
   "metadata": {},
   "outputs": [],
   "source": []
  },
  {
   "cell_type": "code",
   "execution_count": null,
   "id": "5729e3f5",
   "metadata": {},
   "outputs": [],
   "source": []
  },
  {
   "cell_type": "code",
   "execution_count": null,
   "id": "613faa9c",
   "metadata": {},
   "outputs": [],
   "source": []
  },
  {
   "cell_type": "code",
   "execution_count": null,
   "id": "dcb5e90e",
   "metadata": {},
   "outputs": [],
   "source": []
  },
  {
   "cell_type": "code",
   "execution_count": null,
   "id": "529393c3",
   "metadata": {},
   "outputs": [],
   "source": []
  }
 ],
 "metadata": {
  "kernelspec": {
   "display_name": "Python 3 (ipykernel)",
   "language": "python",
   "name": "python3"
  },
  "language_info": {
   "codemirror_mode": {
    "name": "ipython",
    "version": 3
   },
   "file_extension": ".py",
   "mimetype": "text/x-python",
   "name": "python",
   "nbconvert_exporter": "python",
   "pygments_lexer": "ipython3",
   "version": "3.9.12"
  }
 },
 "nbformat": 4,
 "nbformat_minor": 5
}
