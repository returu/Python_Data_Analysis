{
 "cells": [
  {
   "cell_type": "code",
   "execution_count": 1,
   "id": "0bf1cbb8",
   "metadata": {},
   "outputs": [],
   "source": [
    "import numpy as np\n",
    "import pandas as pd\n",
    "\n",
    "from datetime import datetime"
   ]
  },
  {
   "cell_type": "markdown",
   "id": "2d489674",
   "metadata": {},
   "source": [
    "### datetime 对象"
   ]
  },
  {
   "cell_type": "code",
   "execution_count": 2,
   "id": "beba9bea",
   "metadata": {},
   "outputs": [],
   "source": [
    "dates = [datetime(2022, 12, 2), datetime(2022, 12, 5),\n",
    "         datetime(2022, 12, 8), datetime(2022, 12, 12),\n",
    "         datetime(2022, 12, 15), datetime(2022, 12, 20)]"
   ]
  },
  {
   "cell_type": "code",
   "execution_count": 3,
   "id": "4acd3d26",
   "metadata": {},
   "outputs": [
    {
     "data": {
      "text/plain": [
       "2022-12-02    0\n",
       "2022-12-05    1\n",
       "2022-12-08    2\n",
       "2022-12-12    3\n",
       "2022-12-15    4\n",
       "2022-12-20    5\n",
       "dtype: int32"
      ]
     },
     "execution_count": 3,
     "metadata": {},
     "output_type": "execute_result"
    }
   ],
   "source": [
    "ts = pd.Series(np.arange(6), index=pd.to_datetime(dates))\n",
    "ts"
   ]
  },
  {
   "cell_type": "code",
   "execution_count": 4,
   "id": "2cecd577",
   "metadata": {},
   "outputs": [
    {
     "data": {
      "text/plain": [
       "DatetimeIndex(['2022-12-02', '2022-12-05', '2022-12-08', '2022-12-12',\n",
       "               '2022-12-15', '2022-12-20'],\n",
       "              dtype='datetime64[ns]', freq=None)"
      ]
     },
     "execution_count": 4,
     "metadata": {},
     "output_type": "execute_result"
    }
   ],
   "source": [
    "ts.index"
   ]
  },
  {
   "cell_type": "markdown",
   "id": "e6f5a714",
   "metadata": {},
   "source": [
    "### pandas 使用 NumPy 的 datetime64 数据类型以纳秒分辨率存储时间戳"
   ]
  },
  {
   "cell_type": "code",
   "execution_count": 5,
   "id": "a0c67eac",
   "metadata": {},
   "outputs": [
    {
     "data": {
      "text/plain": [
       "dtype('<M8[ns]')"
      ]
     },
     "execution_count": 5,
     "metadata": {},
     "output_type": "execute_result"
    }
   ],
   "source": [
    "ts.index.dtype"
   ]
  },
  {
   "cell_type": "markdown",
   "id": "97ab02ce",
   "metadata": {},
   "source": [
    "### DatetimeIndex 中的标量值是 pandas Timestamp 对象"
   ]
  },
  {
   "cell_type": "code",
   "execution_count": 6,
   "id": "4d1995f1",
   "metadata": {},
   "outputs": [
    {
     "data": {
      "text/plain": [
       "Timestamp('2022-12-08 00:00:00')"
      ]
     },
     "execution_count": 6,
     "metadata": {},
     "output_type": "execute_result"
    }
   ],
   "source": [
    "ts.index[2]"
   ]
  },
  {
   "cell_type": "markdown",
   "id": "44303ab7",
   "metadata": {},
   "source": [
    "### 与其他 Series 一样，不同索引的时间序列之间的算术运算会在日期上自动对齐"
   ]
  },
  {
   "cell_type": "code",
   "execution_count": 7,
   "id": "01e85ad3",
   "metadata": {},
   "outputs": [
    {
     "data": {
      "text/plain": [
       "2022-12-02    0\n",
       "2022-12-08    2\n",
       "2022-12-15    4\n",
       "dtype: int32"
      ]
     },
     "execution_count": 7,
     "metadata": {},
     "output_type": "execute_result"
    }
   ],
   "source": [
    "ts[::2]"
   ]
  },
  {
   "cell_type": "code",
   "execution_count": 8,
   "id": "473ee1dc",
   "metadata": {},
   "outputs": [
    {
     "data": {
      "text/plain": [
       "2022-12-02    0.0\n",
       "2022-12-05    NaN\n",
       "2022-12-08    4.0\n",
       "2022-12-12    NaN\n",
       "2022-12-15    8.0\n",
       "2022-12-20    NaN\n",
       "dtype: float64"
      ]
     },
     "execution_count": 8,
     "metadata": {},
     "output_type": "execute_result"
    }
   ],
   "source": [
    "ts + ts[::2]"
   ]
  },
  {
   "cell_type": "markdown",
   "id": "1bc226f3",
   "metadata": {},
   "source": [
    "# 1.索引、选择、子集："
   ]
  },
  {
   "cell_type": "markdown",
   "id": "2d915b33",
   "metadata": {},
   "source": [
    "### 当根据标签索引和选择数据时，时间序列的行为与任何其他 Series 一样："
   ]
  },
  {
   "cell_type": "code",
   "execution_count": 9,
   "id": "49362873",
   "metadata": {},
   "outputs": [
    {
     "data": {
      "text/plain": [
       "5"
      ]
     },
     "execution_count": 9,
     "metadata": {},
     "output_type": "execute_result"
    }
   ],
   "source": [
    "stamp = ts.index[-1]\n",
    "\n",
    "ts[stamp]"
   ]
  },
  {
   "cell_type": "markdown",
   "id": "e39e91ef",
   "metadata": {},
   "source": [
    "### 为方便起见，还可以传递一个可解释为日期的字符串："
   ]
  },
  {
   "cell_type": "code",
   "execution_count": 10,
   "id": "7b4bfeca",
   "metadata": {},
   "outputs": [
    {
     "data": {
      "text/plain": [
       "5"
      ]
     },
     "execution_count": 10,
     "metadata": {},
     "output_type": "execute_result"
    }
   ],
   "source": [
    "ts[\"2022-12-20\"]"
   ]
  },
  {
   "cell_type": "markdown",
   "id": "69b344d4",
   "metadata": {},
   "source": [
    "### 对于较长的时间序列，可以传递一个年份或一个年份和一个月份，来轻松选择数据切片："
   ]
  },
  {
   "cell_type": "code",
   "execution_count": 11,
   "id": "85c77886",
   "metadata": {},
   "outputs": [
    {
     "data": {
      "text/plain": [
       "2021-12-20      0\n",
       "2021-12-21      1\n",
       "2021-12-22      2\n",
       "2021-12-23      3\n",
       "2021-12-24      4\n",
       "             ... \n",
       "2024-09-10    995\n",
       "2024-09-11    996\n",
       "2024-09-12    997\n",
       "2024-09-13    998\n",
       "2024-09-14    999\n",
       "Freq: D, Length: 1000, dtype: int32"
      ]
     },
     "execution_count": 11,
     "metadata": {},
     "output_type": "execute_result"
    }
   ],
   "source": [
    "# pandas.date_range 用于生成日期范围\n",
    "long_ts = pd.Series(np.arange(1000) , index=pd.date_range(\"2021-12-20\" , periods=1000))\n",
    "long_ts"
   ]
  },
  {
   "cell_type": "code",
   "execution_count": 12,
   "id": "579ad86b",
   "metadata": {
    "scrolled": true
   },
   "outputs": [
    {
     "data": {
      "text/plain": [
       "2021-12-20     0\n",
       "2021-12-21     1\n",
       "2021-12-22     2\n",
       "2021-12-23     3\n",
       "2021-12-24     4\n",
       "2021-12-25     5\n",
       "2021-12-26     6\n",
       "2021-12-27     7\n",
       "2021-12-28     8\n",
       "2021-12-29     9\n",
       "2021-12-30    10\n",
       "2021-12-31    11\n",
       "Freq: D, dtype: int32"
      ]
     },
     "execution_count": 12,
     "metadata": {},
     "output_type": "execute_result"
    }
   ],
   "source": [
    "# 字符串“2021”被解释为年份,并选择该时间段对应的数据\n",
    "long_ts[\"2021\"]"
   ]
  },
  {
   "cell_type": "code",
   "execution_count": 13,
   "id": "ebaeb06c",
   "metadata": {
    "scrolled": true
   },
   "outputs": [
    {
     "data": {
      "text/plain": [
       "2021-12-20     0\n",
       "2021-12-21     1\n",
       "2021-12-22     2\n",
       "2021-12-23     3\n",
       "2021-12-24     4\n",
       "2021-12-25     5\n",
       "2021-12-26     6\n",
       "2021-12-27     7\n",
       "2021-12-28     8\n",
       "2021-12-29     9\n",
       "2021-12-30    10\n",
       "2021-12-31    11\n",
       "Freq: D, dtype: int32"
      ]
     },
     "execution_count": 13,
     "metadata": {},
     "output_type": "execute_result"
    }
   ],
   "source": [
    "# 指定月份\n",
    "long_ts[\"2021-12\"]"
   ]
  },
  {
   "cell_type": "markdown",
   "id": "c7af970e",
   "metadata": {},
   "source": [
    "### 因为大多数时间序列数据是按时间顺序排列的，所以可以使用时间序列中不包含的时间戳进行切片，以执行范围查询："
   ]
  },
  {
   "cell_type": "code",
   "execution_count": 14,
   "id": "225cb415",
   "metadata": {},
   "outputs": [
    {
     "data": {
      "text/plain": [
       "2021-12-20     0\n",
       "2021-12-21     1\n",
       "2021-12-22     2\n",
       "2021-12-23     3\n",
       "2021-12-24     4\n",
       "2021-12-25     5\n",
       "2021-12-26     6\n",
       "2021-12-27     7\n",
       "2021-12-28     8\n",
       "2021-12-29     9\n",
       "2021-12-30    10\n",
       "Freq: D, dtype: int32"
      ]
     },
     "execution_count": 14,
     "metadata": {},
     "output_type": "execute_result"
    }
   ],
   "source": [
    "# long_ts是从\"2021-12-20\"开始\n",
    "long_ts[\"2021-12-1\":\"2021-12-30\"]"
   ]
  },
  {
   "cell_type": "markdown",
   "id": "12e14d3e",
   "metadata": {},
   "source": [
    "### 使用 datetime 对象进行切片也可以："
   ]
  },
  {
   "cell_type": "code",
   "execution_count": 15,
   "id": "814754d0",
   "metadata": {},
   "outputs": [
    {
     "data": {
      "text/plain": [
       "2022-12-01    346\n",
       "2022-12-02    347\n",
       "2022-12-03    348\n",
       "2022-12-04    349\n",
       "2022-12-05    350\n",
       "2022-12-06    351\n",
       "2022-12-07    352\n",
       "2022-12-08    353\n",
       "2022-12-09    354\n",
       "2022-12-10    355\n",
       "Freq: D, dtype: int32"
      ]
     },
     "execution_count": 15,
     "metadata": {},
     "output_type": "execute_result"
    }
   ],
   "source": [
    "long_ts[datetime(2022,12,1):datetime(2022,12,10)]"
   ]
  },
  {
   "cell_type": "markdown",
   "id": "9a4ee45f",
   "metadata": {},
   "source": [
    "### 和之前一样，可以传递字符串日期、datetime或时间戳。需要注意的是，以这种方式切片会生成原时间序列的视图，就像切片 NumPy 数组一样。这意味着没有数据被复制，切片上的修改将反映在原始数据中。"
   ]
  },
  {
   "cell_type": "markdown",
   "id": "d0aef8f9",
   "metadata": {},
   "source": [
    "### 有一个等效的实例方法 truncate，它在两个日期之间对 Series 进行切片："
   ]
  },
  {
   "cell_type": "code",
   "execution_count": 16,
   "id": "a3db4077",
   "metadata": {},
   "outputs": [
    {
     "data": {
      "text/plain": [
       "2022-12-05    350\n",
       "2022-12-06    351\n",
       "2022-12-07    352\n",
       "2022-12-08    353\n",
       "2022-12-09    354\n",
       "2022-12-10    355\n",
       "Freq: D, dtype: int32"
      ]
     },
     "execution_count": 16,
     "metadata": {},
     "output_type": "execute_result"
    }
   ],
   "source": [
    "long_ts.truncate(before=\"2022-12-5\" , after=\"2022-12-10\")"
   ]
  },
  {
   "cell_type": "markdown",
   "id": "5b32805a",
   "metadata": {},
   "source": [
    "### 所有这一切也适用于 DataFrame，在其行上建立索引："
   ]
  },
  {
   "cell_type": "code",
   "execution_count": 17,
   "id": "2f3dda09",
   "metadata": {},
   "outputs": [],
   "source": [
    "# freq='W-FRI' 设置时间间隔为每周五\n",
    "dates = pd.date_range(\"2022-01-01\" , periods=100 , freq='W-FRI')"
   ]
  },
  {
   "cell_type": "code",
   "execution_count": 18,
   "id": "de6e5400",
   "metadata": {},
   "outputs": [
    {
     "data": {
      "text/html": [
       "<div>\n",
       "<style scoped>\n",
       "    .dataframe tbody tr th:only-of-type {\n",
       "        vertical-align: middle;\n",
       "    }\n",
       "\n",
       "    .dataframe tbody tr th {\n",
       "        vertical-align: top;\n",
       "    }\n",
       "\n",
       "    .dataframe thead th {\n",
       "        text-align: right;\n",
       "    }\n",
       "</style>\n",
       "<table border=\"1\" class=\"dataframe\">\n",
       "  <thead>\n",
       "    <tr style=\"text-align: right;\">\n",
       "      <th></th>\n",
       "      <th>X</th>\n",
       "      <th>Y</th>\n",
       "      <th>Z</th>\n",
       "    </tr>\n",
       "  </thead>\n",
       "  <tbody>\n",
       "    <tr>\n",
       "      <th>2022-01-07</th>\n",
       "      <td>0</td>\n",
       "      <td>1</td>\n",
       "      <td>2</td>\n",
       "    </tr>\n",
       "    <tr>\n",
       "      <th>2022-01-14</th>\n",
       "      <td>3</td>\n",
       "      <td>4</td>\n",
       "      <td>5</td>\n",
       "    </tr>\n",
       "    <tr>\n",
       "      <th>2022-01-21</th>\n",
       "      <td>6</td>\n",
       "      <td>7</td>\n",
       "      <td>8</td>\n",
       "    </tr>\n",
       "    <tr>\n",
       "      <th>2022-01-28</th>\n",
       "      <td>9</td>\n",
       "      <td>10</td>\n",
       "      <td>11</td>\n",
       "    </tr>\n",
       "    <tr>\n",
       "      <th>2022-02-04</th>\n",
       "      <td>12</td>\n",
       "      <td>13</td>\n",
       "      <td>14</td>\n",
       "    </tr>\n",
       "    <tr>\n",
       "      <th>...</th>\n",
       "      <td>...</td>\n",
       "      <td>...</td>\n",
       "      <td>...</td>\n",
       "    </tr>\n",
       "    <tr>\n",
       "      <th>2023-11-03</th>\n",
       "      <td>285</td>\n",
       "      <td>286</td>\n",
       "      <td>287</td>\n",
       "    </tr>\n",
       "    <tr>\n",
       "      <th>2023-11-10</th>\n",
       "      <td>288</td>\n",
       "      <td>289</td>\n",
       "      <td>290</td>\n",
       "    </tr>\n",
       "    <tr>\n",
       "      <th>2023-11-17</th>\n",
       "      <td>291</td>\n",
       "      <td>292</td>\n",
       "      <td>293</td>\n",
       "    </tr>\n",
       "    <tr>\n",
       "      <th>2023-11-24</th>\n",
       "      <td>294</td>\n",
       "      <td>295</td>\n",
       "      <td>296</td>\n",
       "    </tr>\n",
       "    <tr>\n",
       "      <th>2023-12-01</th>\n",
       "      <td>297</td>\n",
       "      <td>298</td>\n",
       "      <td>299</td>\n",
       "    </tr>\n",
       "  </tbody>\n",
       "</table>\n",
       "<p>100 rows × 3 columns</p>\n",
       "</div>"
      ],
      "text/plain": [
       "              X    Y    Z\n",
       "2022-01-07    0    1    2\n",
       "2022-01-14    3    4    5\n",
       "2022-01-21    6    7    8\n",
       "2022-01-28    9   10   11\n",
       "2022-02-04   12   13   14\n",
       "...         ...  ...  ...\n",
       "2023-11-03  285  286  287\n",
       "2023-11-10  288  289  290\n",
       "2023-11-17  291  292  293\n",
       "2023-11-24  294  295  296\n",
       "2023-12-01  297  298  299\n",
       "\n",
       "[100 rows x 3 columns]"
      ]
     },
     "execution_count": 18,
     "metadata": {},
     "output_type": "execute_result"
    }
   ],
   "source": [
    "df = pd.DataFrame(np.arange(300).reshape(100,3) , columns=[\"X\",\"Y\",\"Z\"] , index=dates)\n",
    "df"
   ]
  },
  {
   "cell_type": "code",
   "execution_count": 19,
   "id": "4cc169eb",
   "metadata": {
    "scrolled": true
   },
   "outputs": [
    {
     "data": {
      "text/html": [
       "<div>\n",
       "<style scoped>\n",
       "    .dataframe tbody tr th:only-of-type {\n",
       "        vertical-align: middle;\n",
       "    }\n",
       "\n",
       "    .dataframe tbody tr th {\n",
       "        vertical-align: top;\n",
       "    }\n",
       "\n",
       "    .dataframe thead th {\n",
       "        text-align: right;\n",
       "    }\n",
       "</style>\n",
       "<table border=\"1\" class=\"dataframe\">\n",
       "  <thead>\n",
       "    <tr style=\"text-align: right;\">\n",
       "      <th></th>\n",
       "      <th>X</th>\n",
       "      <th>Z</th>\n",
       "    </tr>\n",
       "  </thead>\n",
       "  <tbody>\n",
       "    <tr>\n",
       "      <th>2022-01-07</th>\n",
       "      <td>0</td>\n",
       "      <td>2</td>\n",
       "    </tr>\n",
       "    <tr>\n",
       "      <th>2022-01-14</th>\n",
       "      <td>3</td>\n",
       "      <td>5</td>\n",
       "    </tr>\n",
       "    <tr>\n",
       "      <th>2022-01-21</th>\n",
       "      <td>6</td>\n",
       "      <td>8</td>\n",
       "    </tr>\n",
       "    <tr>\n",
       "      <th>2022-01-28</th>\n",
       "      <td>9</td>\n",
       "      <td>11</td>\n",
       "    </tr>\n",
       "  </tbody>\n",
       "</table>\n",
       "</div>"
      ],
      "text/plain": [
       "            X   Z\n",
       "2022-01-07  0   2\n",
       "2022-01-14  3   5\n",
       "2022-01-21  6   8\n",
       "2022-01-28  9  11"
      ]
     },
     "execution_count": 19,
     "metadata": {},
     "output_type": "execute_result"
    }
   ],
   "source": [
    "# 使用loc索引\n",
    "df.loc[\"2022-01\",[\"X\",\"Z\"]]"
   ]
  },
  {
   "cell_type": "markdown",
   "id": "e2c93321",
   "metadata": {},
   "source": [
    "# 2.含有重复索引的时间序列："
   ]
  },
  {
   "cell_type": "markdown",
   "id": "34119841",
   "metadata": {},
   "source": [
    "### 在某些应用中，可能有多个数据观测值落在特定时间戳上。例如："
   ]
  },
  {
   "cell_type": "code",
   "execution_count": 20,
   "id": "e0040e4f",
   "metadata": {},
   "outputs": [],
   "source": [
    "dates = pd.DatetimeIndex([\"2022-01-01\", \"2022-01-02\", \"2022-01-02\",\"2022-01-02\", \"2022-01-03\"])"
   ]
  },
  {
   "cell_type": "code",
   "execution_count": 21,
   "id": "c78f3179",
   "metadata": {},
   "outputs": [
    {
     "data": {
      "text/plain": [
       "2022-01-01    0\n",
       "2022-01-02    1\n",
       "2022-01-02    2\n",
       "2022-01-02    3\n",
       "2022-01-03    4\n",
       "dtype: int32"
      ]
     },
     "execution_count": 21,
     "metadata": {},
     "output_type": "execute_result"
    }
   ],
   "source": [
    "dup_ts = pd.Series(np.arange(5) , index=dates)\n",
    "dup_ts"
   ]
  },
  {
   "cell_type": "markdown",
   "id": "f1f5d8d1",
   "metadata": {},
   "source": [
    "### 可以通过检查其 is_unique 属性来判断索引不是唯一的："
   ]
  },
  {
   "cell_type": "code",
   "execution_count": 22,
   "id": "221159ac",
   "metadata": {},
   "outputs": [
    {
     "data": {
      "text/plain": [
       "False"
      ]
     },
     "execution_count": 22,
     "metadata": {},
     "output_type": "execute_result"
    }
   ],
   "source": [
    "dup_ts.index.is_unique"
   ]
  },
  {
   "cell_type": "markdown",
   "id": "69c6bc39",
   "metadata": {},
   "source": [
    "### 对该时间序列的索引结果是标量值或切片具体取决于时间戳是否重复："
   ]
  },
  {
   "cell_type": "code",
   "execution_count": 23,
   "id": "4a2fd18a",
   "metadata": {},
   "outputs": [
    {
     "data": {
      "text/plain": [
       "0"
      ]
     },
     "execution_count": 23,
     "metadata": {},
     "output_type": "execute_result"
    }
   ],
   "source": [
    "# 唯一值\n",
    "dup_ts[\"2022-01-01\"]"
   ]
  },
  {
   "cell_type": "code",
   "execution_count": 24,
   "id": "2bafa454",
   "metadata": {},
   "outputs": [
    {
     "data": {
      "text/plain": [
       "2022-01-02    1\n",
       "2022-01-02    2\n",
       "2022-01-02    3\n",
       "dtype: int32"
      ]
     },
     "execution_count": 24,
     "metadata": {},
     "output_type": "execute_result"
    }
   ],
   "source": [
    "# 重复值\n",
    "dup_ts[\"2022-01-02\"]"
   ]
  },
  {
   "cell_type": "markdown",
   "id": "0a0115d7",
   "metadata": {},
   "source": [
    "### 假设您想要聚合具有非唯一时间戳的数据。一种方法是使用 groupby 并传递 level=0 （唯一的级别）："
   ]
  },
  {
   "cell_type": "code",
   "execution_count": 25,
   "id": "fada9ff0",
   "metadata": {},
   "outputs": [],
   "source": [
    "grouoped = dup_ts.groupby(level=0)"
   ]
  },
  {
   "cell_type": "code",
   "execution_count": 26,
   "id": "a4ddc42a",
   "metadata": {},
   "outputs": [
    {
     "data": {
      "text/plain": [
       "2022-01-01    1\n",
       "2022-01-02    3\n",
       "2022-01-03    1\n",
       "dtype: int64"
      ]
     },
     "execution_count": 26,
     "metadata": {},
     "output_type": "execute_result"
    }
   ],
   "source": [
    "grouoped.count()"
   ]
  },
  {
   "cell_type": "code",
   "execution_count": null,
   "id": "5ae83cf4",
   "metadata": {},
   "outputs": [],
   "source": []
  },
  {
   "cell_type": "code",
   "execution_count": null,
   "id": "45038795",
   "metadata": {},
   "outputs": [],
   "source": []
  },
  {
   "cell_type": "code",
   "execution_count": null,
   "id": "ce2c2a82",
   "metadata": {},
   "outputs": [],
   "source": []
  },
  {
   "cell_type": "code",
   "execution_count": null,
   "id": "7090bdad",
   "metadata": {},
   "outputs": [],
   "source": []
  },
  {
   "cell_type": "code",
   "execution_count": null,
   "id": "58fa1a7b",
   "metadata": {},
   "outputs": [],
   "source": []
  },
  {
   "cell_type": "code",
   "execution_count": null,
   "id": "e909c339",
   "metadata": {},
   "outputs": [],
   "source": []
  },
  {
   "cell_type": "code",
   "execution_count": null,
   "id": "c7c5f579",
   "metadata": {},
   "outputs": [],
   "source": []
  },
  {
   "cell_type": "code",
   "execution_count": null,
   "id": "dda2d3e4",
   "metadata": {},
   "outputs": [],
   "source": []
  },
  {
   "cell_type": "code",
   "execution_count": null,
   "id": "36868877",
   "metadata": {},
   "outputs": [],
   "source": []
  }
 ],
 "metadata": {
  "kernelspec": {
   "display_name": "Python 3 (ipykernel)",
   "language": "python",
   "name": "python3"
  },
  "language_info": {
   "codemirror_mode": {
    "name": "ipython",
    "version": 3
   },
   "file_extension": ".py",
   "mimetype": "text/x-python",
   "name": "python",
   "nbconvert_exporter": "python",
   "pygments_lexer": "ipython3",
   "version": "3.9.12"
  }
 },
 "nbformat": 4,
 "nbformat_minor": 5
}
