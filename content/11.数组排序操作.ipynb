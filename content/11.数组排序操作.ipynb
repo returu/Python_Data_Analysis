{
 "cells": [
  {
   "cell_type": "code",
   "execution_count": 1,
   "id": "ad12dc70",
   "metadata": {},
   "outputs": [],
   "source": [
    "import numpy as np"
   ]
  },
  {
   "cell_type": "markdown",
   "id": "d4061f24",
   "metadata": {},
   "source": [
    "# 1.sort()方法："
   ]
  },
  {
   "cell_type": "markdown",
   "id": "eac409ab",
   "metadata": {},
   "source": [
    "##### ndarray的sort实例方法"
   ]
  },
  {
   "cell_type": "code",
   "execution_count": 2,
   "id": "21d6896b",
   "metadata": {
    "scrolled": true
   },
   "outputs": [
    {
     "data": {
      "text/plain": [
       "array([[-1.00750391, -0.32094115, -0.03034299, -0.50093828],\n",
       "       [ 0.38724458,  0.41708784,  0.72765547, -0.79893206],\n",
       "       [-1.0404649 ,  0.72726869, -0.33227455, -0.51267791]])"
      ]
     },
     "execution_count": 2,
     "metadata": {},
     "output_type": "execute_result"
    }
   ],
   "source": [
    "arr = np.random.randn(3,4)\n",
    "arr"
   ]
  },
  {
   "cell_type": "code",
   "execution_count": 3,
   "id": "3ce017aa",
   "metadata": {},
   "outputs": [],
   "source": [
    "arr.sort()"
   ]
  },
  {
   "cell_type": "code",
   "execution_count": 4,
   "id": "64ac413c",
   "metadata": {},
   "outputs": [
    {
     "data": {
      "text/plain": [
       "array([[-1.00750391, -0.50093828, -0.32094115, -0.03034299],\n",
       "       [-0.79893206,  0.38724458,  0.41708784,  0.72765547],\n",
       "       [-1.0404649 , -0.51267791, -0.33227455,  0.72726869]])"
      ]
     },
     "execution_count": 4,
     "metadata": {},
     "output_type": "execute_result"
    }
   ],
   "source": [
    "arr"
   ]
  },
  {
   "cell_type": "markdown",
   "id": "92d7b478",
   "metadata": {},
   "source": [
    "#### 顶层的np.sort()方法"
   ]
  },
  {
   "cell_type": "code",
   "execution_count": 5,
   "id": "1e72e352",
   "metadata": {},
   "outputs": [
    {
     "data": {
      "text/plain": [
       "array([[ 0.51549219, -0.73507244, -0.74865696,  0.1459806 ],\n",
       "       [-1.49291753,  0.58386771,  1.82306737,  0.37704324],\n",
       "       [-0.79483826,  0.20976823,  1.16073258, -0.6924981 ]])"
      ]
     },
     "execution_count": 5,
     "metadata": {},
     "output_type": "execute_result"
    }
   ],
   "source": [
    "arr = np.random.randn(3,4)\n",
    "arr"
   ]
  },
  {
   "cell_type": "code",
   "execution_count": 6,
   "id": "13752fb4",
   "metadata": {},
   "outputs": [
    {
     "data": {
      "text/plain": [
       "array([[-0.74865696, -0.73507244,  0.1459806 ,  0.51549219],\n",
       "       [-1.49291753,  0.37704324,  0.58386771,  1.82306737],\n",
       "       [-0.79483826, -0.6924981 ,  0.20976823,  1.16073258]])"
      ]
     },
     "execution_count": 6,
     "metadata": {},
     "output_type": "execute_result"
    }
   ],
   "source": [
    "np.sort(arr)"
   ]
  },
  {
   "cell_type": "code",
   "execution_count": 7,
   "id": "8bb33100",
   "metadata": {},
   "outputs": [
    {
     "data": {
      "text/plain": [
       "array([[ 0.51549219, -0.73507244, -0.74865696,  0.1459806 ],\n",
       "       [-1.49291753,  0.58386771,  1.82306737,  0.37704324],\n",
       "       [-0.79483826,  0.20976823,  1.16073258, -0.6924981 ]])"
      ]
     },
     "execution_count": 7,
     "metadata": {},
     "output_type": "execute_result"
    }
   ],
   "source": [
    "# 原数组未变化\n",
    "arr"
   ]
  },
  {
   "cell_type": "markdown",
   "id": "4842cf18",
   "metadata": {},
   "source": [
    "#### 使用axis参数，对指定轴进行排序"
   ]
  },
  {
   "cell_type": "code",
   "execution_count": 8,
   "id": "36588af4",
   "metadata": {},
   "outputs": [
    {
     "data": {
      "text/plain": [
       "array([[ 0.02016259, -0.88519477,  0.18271565, -0.48720066],\n",
       "       [ 1.13585177,  0.84505628,  0.66586759,  0.72760203],\n",
       "       [-1.71443987, -0.33173916, -2.69395075,  0.49404124]])"
      ]
     },
     "execution_count": 8,
     "metadata": {},
     "output_type": "execute_result"
    }
   ],
   "source": [
    "arr = np.random.randn(3,4)\n",
    "arr"
   ]
  },
  {
   "cell_type": "code",
   "execution_count": 9,
   "id": "ea9b55fd",
   "metadata": {},
   "outputs": [],
   "source": [
    "arr.sort(axis=0)"
   ]
  },
  {
   "cell_type": "code",
   "execution_count": 10,
   "id": "fd59f42f",
   "metadata": {
    "scrolled": true
   },
   "outputs": [
    {
     "data": {
      "text/plain": [
       "array([[-1.71443987, -0.88519477, -2.69395075, -0.48720066],\n",
       "       [ 0.02016259, -0.33173916,  0.18271565,  0.49404124],\n",
       "       [ 1.13585177,  0.84505628,  0.66586759,  0.72760203]])"
      ]
     },
     "execution_count": 10,
     "metadata": {},
     "output_type": "execute_result"
    }
   ],
   "source": [
    "arr"
   ]
  },
  {
   "cell_type": "markdown",
   "id": "2d2b6cd4",
   "metadata": {},
   "source": [
    "# 2.间接排序："
   ]
  },
  {
   "cell_type": "markdown",
   "id": "4068a3cb",
   "metadata": {},
   "source": [
    "#### argsort()——返回对数组进行排序的整数索引"
   ]
  },
  {
   "cell_type": "code",
   "execution_count": 11,
   "id": "20bdcb9f",
   "metadata": {},
   "outputs": [
    {
     "data": {
      "text/plain": [
       "array([ 0.23219428, -1.10602896, -0.19865998,  0.25639759])"
      ]
     },
     "execution_count": 11,
     "metadata": {},
     "output_type": "execute_result"
    }
   ],
   "source": [
    "arr = np.random.randn(4)\n",
    "arr"
   ]
  },
  {
   "cell_type": "code",
   "execution_count": 12,
   "id": "2b23a3b1",
   "metadata": {},
   "outputs": [
    {
     "data": {
      "text/plain": [
       "array([1, 2, 0, 3], dtype=int64)"
      ]
     },
     "execution_count": 12,
     "metadata": {},
     "output_type": "execute_result"
    }
   ],
   "source": [
    "indexer = arr.argsort()\n",
    "indexer"
   ]
  },
  {
   "cell_type": "code",
   "execution_count": 13,
   "id": "5391d2e0",
   "metadata": {},
   "outputs": [
    {
     "data": {
      "text/plain": [
       "array([-1.10602896, -0.19865998,  0.23219428,  0.25639759])"
      ]
     },
     "execution_count": 13,
     "metadata": {},
     "output_type": "execute_result"
    }
   ],
   "source": [
    "arr[indexer]"
   ]
  },
  {
   "cell_type": "markdown",
   "id": "c4102469",
   "metadata": {},
   "source": [
    "#### lexsort()——使用多键数组执行间接稳定排序"
   ]
  },
  {
   "cell_type": "code",
   "execution_count": 48,
   "id": "cd73962e",
   "metadata": {},
   "outputs": [],
   "source": [
    "first = np.array(['Bo', 'Ja', 'St', 'Bl', 'Ba'])\n",
    "last = np.array(['Po', 'Ar', 'Ak', 'Po', 'Ta'])"
   ]
  },
  {
   "cell_type": "code",
   "execution_count": 49,
   "id": "76d5d69d",
   "metadata": {},
   "outputs": [
    {
     "data": {
      "text/plain": [
       "array([2, 1, 3, 0, 4], dtype=int64)"
      ]
     },
     "execution_count": 49,
     "metadata": {},
     "output_type": "execute_result"
    }
   ],
   "source": [
    "sorter = np.lexsort((first , last))\n",
    "sorter"
   ]
  },
  {
   "cell_type": "code",
   "execution_count": 50,
   "id": "6e5c2bcd",
   "metadata": {},
   "outputs": [
    {
     "data": {
      "text/plain": [
       "[('Ak', 'St'), ('Ar', 'Ja'), ('Po', 'Bl'), ('Po', 'Bo'), ('Ta', 'Ba')]"
      ]
     },
     "execution_count": 50,
     "metadata": {},
     "output_type": "execute_result"
    }
   ],
   "source": [
    "list(zip(last[sorter], first[sorter]))"
   ]
  },
  {
   "cell_type": "markdown",
   "id": "de0a9a39",
   "metadata": {},
   "source": [
    "# 3.数组的部分排序："
   ]
  },
  {
   "cell_type": "markdown",
   "id": "da711850",
   "metadata": {},
   "source": [
    "#### np.partition()——返回结果中的前k个元素为最小的k个值"
   ]
  },
  {
   "cell_type": "code",
   "execution_count": 17,
   "id": "817232cd",
   "metadata": {},
   "outputs": [
    {
     "data": {
      "text/plain": [
       "array([-1, -2, -5, -9, -7,  5,  2,  6])"
      ]
     },
     "execution_count": 17,
     "metadata": {},
     "output_type": "execute_result"
    }
   ],
   "source": [
    "arr = np.array([-1,-2,-5,-9,-7,5,2,6])\n",
    "arr"
   ]
  },
  {
   "cell_type": "code",
   "execution_count": 18,
   "id": "4eae01da",
   "metadata": {},
   "outputs": [
    {
     "data": {
      "text/plain": [
       "array([-9, -7, -5, -1, -2,  5,  2,  6])"
      ]
     },
     "execution_count": 18,
     "metadata": {},
     "output_type": "execute_result"
    }
   ],
   "source": [
    "np.partition(arr , 2)"
   ]
  },
  {
   "cell_type": "markdown",
   "id": "a591f58f",
   "metadata": {},
   "source": [
    "#### np.argpartition()——返回结果中的前k个元素为最小的k个值的索引值"
   ]
  },
  {
   "cell_type": "code",
   "execution_count": 19,
   "id": "05aa0c05",
   "metadata": {},
   "outputs": [
    {
     "data": {
      "text/plain": [
       "array([3, 4, 2, 0, 1, 5, 6, 7], dtype=int64)"
      ]
     },
     "execution_count": 19,
     "metadata": {},
     "output_type": "execute_result"
    }
   ],
   "source": [
    "indices = np.argpartition(arr,2)\n",
    "indices"
   ]
  },
  {
   "cell_type": "code",
   "execution_count": 20,
   "id": "e0dd17ea",
   "metadata": {},
   "outputs": [
    {
     "data": {
      "text/plain": [
       "array([-9, -7, -5, -1, -2,  5,  2,  6])"
      ]
     },
     "execution_count": 20,
     "metadata": {},
     "output_type": "execute_result"
    }
   ],
   "source": [
    "arr[indices]"
   ]
  },
  {
   "cell_type": "code",
   "execution_count": 21,
   "id": "857b6607",
   "metadata": {},
   "outputs": [
    {
     "data": {
      "text/plain": [
       "array([-9, -7, -5, -1, -2,  5,  2,  6])"
      ]
     },
     "execution_count": 21,
     "metadata": {},
     "output_type": "execute_result"
    }
   ],
   "source": [
    "arr.take(indices)"
   ]
  },
  {
   "cell_type": "markdown",
   "id": "e73820bd",
   "metadata": {},
   "source": [
    "# 4.在已排序的数组中寻找元素："
   ]
  },
  {
   "cell_type": "code",
   "execution_count": 22,
   "id": "23d52404",
   "metadata": {},
   "outputs": [],
   "source": [
    "arr = np.array([0, 1, 5, 10, 15])"
   ]
  },
  {
   "cell_type": "code",
   "execution_count": 23,
   "id": "ca0cee60",
   "metadata": {},
   "outputs": [
    {
     "data": {
      "text/plain": [
       "3"
      ]
     },
     "execution_count": 23,
     "metadata": {},
     "output_type": "execute_result"
    }
   ],
   "source": [
    "# 可以传递单个值\n",
    "arr.searchsorted(9)"
   ]
  },
  {
   "cell_type": "code",
   "execution_count": 24,
   "id": "759788fe",
   "metadata": {},
   "outputs": [
    {
     "data": {
      "text/plain": [
       "array([1, 2, 3, 5], dtype=int64)"
      ]
     },
     "execution_count": 24,
     "metadata": {},
     "output_type": "execute_result"
    }
   ],
   "source": [
    "# 可以传递一个值数组\n",
    "# 当传递的值与原数组中的值相同时，默认返回原数组相同值左侧的索引\n",
    "arr.searchsorted([1,3,9,20])"
   ]
  },
  {
   "cell_type": "markdown",
   "id": "685d9859",
   "metadata": {},
   "source": [
    "#### 作为该方法的一个小应用，可以用来分隔数据的单独的“桶边界”​数"
   ]
  },
  {
   "cell_type": "code",
   "execution_count": 25,
   "id": "2c9a58df",
   "metadata": {},
   "outputs": [
    {
     "data": {
      "text/plain": [
       "array([  0,  10,  50, 100])"
      ]
     },
     "execution_count": 25,
     "metadata": {},
     "output_type": "execute_result"
    }
   ],
   "source": [
    "bins = np.array([0,10,50,100])\n",
    "bins"
   ]
  },
  {
   "cell_type": "code",
   "execution_count": 26,
   "id": "b8ca4864",
   "metadata": {},
   "outputs": [
    {
     "data": {
      "text/plain": [
       "array([ 9.83824212, 31.45365149, 54.74011411, 61.32103292, 97.61036597,\n",
       "        4.43257959,  1.15463366, 93.37763642, 85.34062138, 71.21061072])"
      ]
     },
     "execution_count": 26,
     "metadata": {},
     "output_type": "execute_result"
    }
   ],
   "source": [
    "data = np.random.uniform(0, 100, size=10)\n",
    "data"
   ]
  },
  {
   "cell_type": "code",
   "execution_count": 27,
   "id": "a1acc146",
   "metadata": {},
   "outputs": [
    {
     "data": {
      "text/plain": [
       "array([1, 2, 3, 3, 3, 1, 1, 3, 3, 3], dtype=int64)"
      ]
     },
     "execution_count": 27,
     "metadata": {},
     "output_type": "execute_result"
    }
   ],
   "source": [
    "labels = bins.searchsorted(data)\n",
    "labels"
   ]
  },
  {
   "cell_type": "code",
   "execution_count": null,
   "id": "7099d393",
   "metadata": {},
   "outputs": [],
   "source": []
  },
  {
   "cell_type": "code",
   "execution_count": null,
   "id": "8065a724",
   "metadata": {},
   "outputs": [],
   "source": []
  },
  {
   "cell_type": "code",
   "execution_count": null,
   "id": "54cd6bc1",
   "metadata": {},
   "outputs": [],
   "source": []
  },
  {
   "cell_type": "code",
   "execution_count": null,
   "id": "4f1b02d3",
   "metadata": {},
   "outputs": [],
   "source": []
  }
 ],
 "metadata": {
  "kernelspec": {
   "display_name": "Python 3 (ipykernel)",
   "language": "python",
   "name": "python3"
  },
  "language_info": {
   "codemirror_mode": {
    "name": "ipython",
    "version": 3
   },
   "file_extension": ".py",
   "mimetype": "text/x-python",
   "name": "python",
   "nbconvert_exporter": "python",
   "pygments_lexer": "ipython3",
   "version": "3.9.12"
  }
 },
 "nbformat": 4,
 "nbformat_minor": 5
}
