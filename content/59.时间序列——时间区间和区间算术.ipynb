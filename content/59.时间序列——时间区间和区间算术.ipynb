{
 "cells": [
  {
   "cell_type": "code",
   "execution_count": 1,
   "id": "b4f4dadb",
   "metadata": {},
   "outputs": [],
   "source": [
    "import numpy as np\n",
    "import pandas as pd"
   ]
  },
  {
   "cell_type": "markdown",
   "id": "f3d95dc0",
   "metadata": {},
   "source": [
    "### 时间区间表示的是时间范围，例如天、月、季度或年。 pandas.Period 类表示此数据类型，需要使用一个字符串或数字以及有效的频率："
   ]
  },
  {
   "cell_type": "code",
   "execution_count": 2,
   "id": "1a5fa575",
   "metadata": {},
   "outputs": [
    {
     "data": {
      "text/plain": [
       "Period('2022', 'A-DEC')"
      ]
     },
     "execution_count": 2,
     "metadata": {},
     "output_type": "execute_result"
    }
   ],
   "source": [
    "# 在这种情况下，Period 对象表示从 2022 年 1 月 1 日到 2022 年 12 月 31 日（含）的完整时间跨度。\n",
    "p = pd.Period(\"2022\" , freq=\"A-DEC\")\n",
    "p"
   ]
  },
  {
   "cell_type": "markdown",
   "id": "8de17103",
   "metadata": {},
   "source": [
    "### 在时间段上增加或减去整数可以很方便的根据它们的频率进行移位："
   ]
  },
  {
   "cell_type": "code",
   "execution_count": 3,
   "id": "84fddeaf",
   "metadata": {},
   "outputs": [
    {
     "data": {
      "text/plain": [
       "Period('2025', 'A-DEC')"
      ]
     },
     "execution_count": 3,
     "metadata": {},
     "output_type": "execute_result"
    }
   ],
   "source": [
    "p + 3"
   ]
  },
  {
   "cell_type": "code",
   "execution_count": 4,
   "id": "c220f491",
   "metadata": {},
   "outputs": [
    {
     "data": {
      "text/plain": [
       "Period('2020', 'A-DEC')"
      ]
     },
     "execution_count": 4,
     "metadata": {},
     "output_type": "execute_result"
    }
   ],
   "source": [
    "p - 2"
   ]
  },
  {
   "cell_type": "markdown",
   "id": "8680345d",
   "metadata": {},
   "source": [
    "### 如果两个区间具有相同的频率，则它们的差值是它们之间的单位数："
   ]
  },
  {
   "cell_type": "code",
   "execution_count": 5,
   "id": "ef274dc4",
   "metadata": {},
   "outputs": [
    {
     "data": {
      "text/plain": [
       "<2 * YearEnds: month=12>"
      ]
     },
     "execution_count": 5,
     "metadata": {},
     "output_type": "execute_result"
    }
   ],
   "source": [
    "pd.Period(\"2024\", freq=\"A-DEC\") - p"
   ]
  },
  {
   "cell_type": "markdown",
   "id": "ad252aef",
   "metadata": {},
   "source": [
    "### 可以使用 period_range 函数构造规则的区间序列："
   ]
  },
  {
   "cell_type": "code",
   "execution_count": 6,
   "id": "712f0ee7",
   "metadata": {},
   "outputs": [
    {
     "data": {
      "text/plain": [
       "PeriodIndex(['2022-01', '2022-02', '2022-03', '2022-04', '2022-05', '2022-06',\n",
       "             '2022-07', '2022-08', '2022-09', '2022-10', '2022-11', '2022-12'],\n",
       "            dtype='period[M]')"
      ]
     },
     "execution_count": 6,
     "metadata": {},
     "output_type": "execute_result"
    }
   ],
   "source": [
    "periods = pd.period_range(\"2022-1-1\" , \"2022-12-12\" , freq=\"M\")\n",
    "periods"
   ]
  },
  {
   "cell_type": "markdown",
   "id": "fa75c698",
   "metadata": {},
   "source": [
    "### PeriodIndex 类存储的是区间的序列，可以作为任意pandas数据结构中的轴索引："
   ]
  },
  {
   "cell_type": "code",
   "execution_count": 7,
   "id": "8568752f",
   "metadata": {},
   "outputs": [
    {
     "data": {
      "text/plain": [
       "2022-01     0\n",
       "2022-02     1\n",
       "2022-03     2\n",
       "2022-04     3\n",
       "2022-05     4\n",
       "2022-06     5\n",
       "2022-07     6\n",
       "2022-08     7\n",
       "2022-09     8\n",
       "2022-10     9\n",
       "2022-11    10\n",
       "2022-12    11\n",
       "Freq: M, dtype: int32"
      ]
     },
     "execution_count": 7,
     "metadata": {},
     "output_type": "execute_result"
    }
   ],
   "source": [
    "pd.Series(np.arange(len(periods)), index=periods)"
   ]
  },
  {
   "cell_type": "markdown",
   "id": "d7370370",
   "metadata": {},
   "source": [
    "### 如果你有一个字符串数组，也可以使用 PeriodIndex 类，它的所有值都是时间区间："
   ]
  },
  {
   "cell_type": "code",
   "execution_count": 8,
   "id": "beb02a0b",
   "metadata": {},
   "outputs": [],
   "source": [
    "values = [\"2001Q3\", \"2002Q2\", \"2003Q1\"]"
   ]
  },
  {
   "cell_type": "code",
   "execution_count": 9,
   "id": "f05312c9",
   "metadata": {},
   "outputs": [
    {
     "data": {
      "text/plain": [
       "PeriodIndex(['2001Q3', '2002Q2', '2003Q1'], dtype='period[Q-DEC]')"
      ]
     },
     "execution_count": 9,
     "metadata": {},
     "output_type": "execute_result"
    }
   ],
   "source": [
    "index = pd.PeriodIndex(values, freq=\"Q-DEC\")\n",
    "index"
   ]
  },
  {
   "cell_type": "markdown",
   "id": "eafc00fe",
   "metadata": {},
   "source": [
    "# 1.区间频率转换："
   ]
  },
  {
   "cell_type": "markdown",
   "id": "44ddae94",
   "metadata": {},
   "source": [
    "### Periods 和 PeriodIndex 对象可以使用它们的 asfreq 方法将其转换为另一个频率。"
   ]
  },
  {
   "cell_type": "markdown",
   "id": "3edb17ca",
   "metadata": {},
   "source": [
    "### 例如，假设我们有一个年度区间，并希望在年初或年底将其转换为月度期间。可以这样做："
   ]
  },
  {
   "cell_type": "code",
   "execution_count": 10,
   "id": "43f11ebf",
   "metadata": {},
   "outputs": [
    {
     "data": {
      "text/plain": [
       "Period('2022', 'A-DEC')"
      ]
     },
     "execution_count": 10,
     "metadata": {},
     "output_type": "execute_result"
    }
   ],
   "source": [
    "# Period 对象表示从 2022 年 1 月 1 日到 2022 年 12 月 31 日（含）的完整时间跨度。\n",
    "p = pd.Period(\"2022\", freq=\"A-DEC\")\n",
    "p"
   ]
  },
  {
   "cell_type": "code",
   "execution_count": 11,
   "id": "691c8e8e",
   "metadata": {},
   "outputs": [
    {
     "data": {
      "text/plain": [
       "Period('2022-01', 'M')"
      ]
     },
     "execution_count": 11,
     "metadata": {},
     "output_type": "execute_result"
    }
   ],
   "source": [
    "p.asfreq(\"M\",how=\"start\")"
   ]
  },
  {
   "cell_type": "code",
   "execution_count": 12,
   "id": "9ebb2b3c",
   "metadata": {},
   "outputs": [
    {
     "data": {
      "text/plain": [
       "Period('2022-12', 'M')"
      ]
     },
     "execution_count": 12,
     "metadata": {},
     "output_type": "execute_result"
    }
   ],
   "source": [
    "p.asfreq(\"M\",how=\"end\")"
   ]
  },
  {
   "cell_type": "code",
   "execution_count": 13,
   "id": "8f9c0e8a",
   "metadata": {},
   "outputs": [
    {
     "data": {
      "text/plain": [
       "Period('2022-12', 'M')"
      ]
     },
     "execution_count": 13,
     "metadata": {},
     "output_type": "execute_result"
    }
   ],
   "source": [
    "p.asfreq(\"M\")"
   ]
  },
  {
   "cell_type": "markdown",
   "id": "04a468e2",
   "metadata": {},
   "source": [
    "### 对于除了12月份以外的一个月结束的财政年度，相应的每月分期是不同的："
   ]
  },
  {
   "cell_type": "code",
   "execution_count": 14,
   "id": "05acad1e",
   "metadata": {},
   "outputs": [
    {
     "data": {
      "text/plain": [
       "Period('2022', 'A-MAY')"
      ]
     },
     "execution_count": 14,
     "metadata": {},
     "output_type": "execute_result"
    }
   ],
   "source": [
    "p = pd.Period(\"2022\", freq=\"A-MAY\")\n",
    "p"
   ]
  },
  {
   "cell_type": "code",
   "execution_count": 15,
   "id": "8332e439",
   "metadata": {},
   "outputs": [
    {
     "data": {
      "text/plain": [
       "Period('2021-06', 'M')"
      ]
     },
     "execution_count": 15,
     "metadata": {},
     "output_type": "execute_result"
    }
   ],
   "source": [
    "p.asfreq(\"M\",how=\"start\")"
   ]
  },
  {
   "cell_type": "code",
   "execution_count": 16,
   "id": "2041f062",
   "metadata": {},
   "outputs": [
    {
     "data": {
      "text/plain": [
       "Period('2022-05', 'M')"
      ]
     },
     "execution_count": 16,
     "metadata": {},
     "output_type": "execute_result"
    }
   ],
   "source": [
    "p.asfreq(\"M\",how=\"end\")"
   ]
  },
  {
   "cell_type": "markdown",
   "id": "a534d6e8",
   "metadata": {},
   "source": [
    "### 当你从高频转换为低频时，pandas会根据子区间的所属来决定父区间。"
   ]
  },
  {
   "cell_type": "markdown",
   "id": "60b448a9",
   "metadata": {},
   "source": [
    "### 例如，在\"A-MAY\"频率中，\"Aug-2021\"是2022区间的一部分："
   ]
  },
  {
   "cell_type": "code",
   "execution_count": 17,
   "id": "db2d55e9",
   "metadata": {},
   "outputs": [],
   "source": [
    "p = pd.Period(\"Aug-2021\", \"M\")"
   ]
  },
  {
   "cell_type": "code",
   "execution_count": 18,
   "id": "f5269e4f",
   "metadata": {},
   "outputs": [
    {
     "data": {
      "text/plain": [
       "Period('2022', 'A-MAY')"
      ]
     },
     "execution_count": 18,
     "metadata": {},
     "output_type": "execute_result"
    }
   ],
   "source": [
    "p.asfreq(\"A-MAY\")"
   ]
  },
  {
   "cell_type": "markdown",
   "id": "c95b7523",
   "metadata": {},
   "source": [
    "### 可以使用相同的语义转换完整的PeriodIndex 对象或时间序列："
   ]
  },
  {
   "cell_type": "markdown",
   "id": "c00f9270",
   "metadata": {},
   "source": [
    "### 例如，使用“M”频率，年度期间将被替换为对应于每个年度区间的第一个月的月度期间。"
   ]
  },
  {
   "cell_type": "code",
   "execution_count": 19,
   "id": "951e3a97",
   "metadata": {},
   "outputs": [
    {
     "data": {
      "text/plain": [
       "PeriodIndex(['2019', '2020', '2021', '2022'], dtype='period[A-DEC]')"
      ]
     },
     "execution_count": 19,
     "metadata": {},
     "output_type": "execute_result"
    }
   ],
   "source": [
    "periods = pd.period_range(\"2019\", \"2022\", freq=\"A-DEC\")\n",
    "periods"
   ]
  },
  {
   "cell_type": "code",
   "execution_count": 20,
   "id": "42e81d9a",
   "metadata": {},
   "outputs": [
    {
     "data": {
      "text/plain": [
       "2019    0\n",
       "2020    1\n",
       "2021    2\n",
       "2022    3\n",
       "Freq: A-DEC, dtype: int32"
      ]
     },
     "execution_count": 20,
     "metadata": {},
     "output_type": "execute_result"
    }
   ],
   "source": [
    "ts = pd.Series(np.arange(len(periods)), index=periods)\n",
    "ts"
   ]
  },
  {
   "cell_type": "code",
   "execution_count": 21,
   "id": "5eb572ef",
   "metadata": {},
   "outputs": [
    {
     "data": {
      "text/plain": [
       "2019-01    0\n",
       "2020-01    1\n",
       "2021-01    2\n",
       "2022-01    3\n",
       "Freq: M, dtype: int32"
      ]
     },
     "execution_count": 21,
     "metadata": {},
     "output_type": "execute_result"
    }
   ],
   "source": [
    "ts.asfreq(\"M\" , how=\"start\")"
   ]
  },
  {
   "cell_type": "markdown",
   "id": "7e570aea",
   "metadata": {},
   "source": [
    "### 此处，使用“B”频率表明我们想要的区间末端，年度区间将被替换为每年最后一个工作日："
   ]
  },
  {
   "cell_type": "code",
   "execution_count": 22,
   "id": "4413756f",
   "metadata": {},
   "outputs": [
    {
     "data": {
      "text/plain": [
       "2019-12-31    0\n",
       "2020-12-31    1\n",
       "2021-12-31    2\n",
       "2022-12-30    3\n",
       "Freq: B, dtype: int32"
      ]
     },
     "execution_count": 22,
     "metadata": {},
     "output_type": "execute_result"
    }
   ],
   "source": [
    "ts.asfreq(\"B\", how=\"end\")"
   ]
  },
  {
   "cell_type": "markdown",
   "id": "7b7bb521",
   "metadata": {},
   "source": [
    "# 2.季度区间频率："
   ]
  },
  {
   "cell_type": "markdown",
   "id": "ea4ad5b9",
   "metadata": {},
   "source": [
    "### 季度数据是会计、金融和其他领域的标准。许多季度数据是相对于财政年度结束报告的，通常是一年中 12 个月之一的最后一个日历日或工作日。"
   ]
  },
  {
   "cell_type": "markdown",
   "id": "7f19d672",
   "metadata": {},
   "source": [
    "### 因此，2022Q4 期间根据财政年度结束具有不同的含义。 pandas 支持所有 12 种可能的季度频率，从 Q-JAN 到 Q-DEC："
   ]
  },
  {
   "cell_type": "code",
   "execution_count": 23,
   "id": "6c5564b1",
   "metadata": {},
   "outputs": [
    {
     "data": {
      "text/plain": [
       "Period('2022Q4', 'Q-JAN')"
      ]
     },
     "execution_count": 23,
     "metadata": {},
     "output_type": "execute_result"
    }
   ],
   "source": [
    "p = pd.Period(\"2022Q4\", freq=\"Q-JAN\")\n",
    "p"
   ]
  },
  {
   "cell_type": "markdown",
   "id": "cf54724c",
   "metadata": {},
   "source": [
    "### 对于在 1 月结束的财政年度，2022Q4 是从 2021 年 11 月到 2022 年 1 月，可以通过转换为每日频率来检查："
   ]
  },
  {
   "cell_type": "code",
   "execution_count": 24,
   "id": "0332e38c",
   "metadata": {
    "scrolled": true
   },
   "outputs": [
    {
     "data": {
      "text/plain": [
       "Period('2021-11-01', 'D')"
      ]
     },
     "execution_count": 24,
     "metadata": {},
     "output_type": "execute_result"
    }
   ],
   "source": [
    "p.asfreq(\"D\", how=\"start\")"
   ]
  },
  {
   "cell_type": "code",
   "execution_count": 25,
   "id": "bdb24935",
   "metadata": {
    "scrolled": true
   },
   "outputs": [
    {
     "data": {
      "text/plain": [
       "Period('2022-01-31', 'D')"
      ]
     },
     "execution_count": 25,
     "metadata": {},
     "output_type": "execute_result"
    }
   ],
   "source": [
    "p.asfreq(\"D\", how=\"end\")"
   ]
  },
  {
   "cell_type": "markdown",
   "id": "2a1dc775",
   "metadata": {},
   "source": [
    "### 因此，可以进行简单的区间运算。"
   ]
  },
  {
   "cell_type": "markdown",
   "id": "9eba16f9",
   "metadata": {},
   "source": [
    "### 例如，获取在本季度的倒数第二个工作日下午 4 点的时间戳："
   ]
  },
  {
   "cell_type": "code",
   "execution_count": 26,
   "id": "be2c033b",
   "metadata": {},
   "outputs": [
    {
     "data": {
      "text/plain": [
       "Period('2022-01-28 16:00', 'T')"
      ]
     },
     "execution_count": 26,
     "metadata": {},
     "output_type": "execute_result"
    }
   ],
   "source": [
    "# T 表示分钟\n",
    "p4pm = (p.asfreq(\"B\", how=\"end\") - 1).asfreq(\"T\", how=\"start\") + 16 * 60\n",
    "p4pm"
   ]
  },
  {
   "cell_type": "code",
   "execution_count": 27,
   "id": "ea1a88c4",
   "metadata": {},
   "outputs": [
    {
     "data": {
      "text/plain": [
       "Timestamp('2022-01-28 16:00:00')"
      ]
     },
     "execution_count": 27,
     "metadata": {},
     "output_type": "execute_result"
    }
   ],
   "source": [
    "# to_timestamp 方法默认返回周期开始时的时间戳。\n",
    "p4pm.to_timestamp()"
   ]
  },
  {
   "cell_type": "markdown",
   "id": "c49c87f2",
   "metadata": {},
   "source": [
    "### 可以使用 pandas.period_range 生成季度序列，其算法也是相同的："
   ]
  },
  {
   "cell_type": "code",
   "execution_count": 28,
   "id": "daf08b62",
   "metadata": {},
   "outputs": [
    {
     "data": {
      "text/plain": [
       "PeriodIndex(['2021Q3', '2021Q4', '2022Q1', '2022Q2', '2022Q3', '2022Q4'], dtype='period[Q-JAN]')"
      ]
     },
     "execution_count": 28,
     "metadata": {},
     "output_type": "execute_result"
    }
   ],
   "source": [
    "periods = pd.period_range(\"2021Q3\", \"2022Q4\", freq=\"Q-JAN\")\n",
    "periods"
   ]
  },
  {
   "cell_type": "code",
   "execution_count": 29,
   "id": "a5a98bfe",
   "metadata": {},
   "outputs": [
    {
     "data": {
      "text/plain": [
       "2021Q3    0\n",
       "2021Q4    1\n",
       "2022Q1    2\n",
       "2022Q2    3\n",
       "2022Q3    4\n",
       "2022Q4    5\n",
       "Freq: Q-JAN, dtype: int32"
      ]
     },
     "execution_count": 29,
     "metadata": {},
     "output_type": "execute_result"
    }
   ],
   "source": [
    "ts = pd.Series(np.arange(len(periods)), index=periods)\n",
    "ts"
   ]
  },
  {
   "cell_type": "code",
   "execution_count": 30,
   "id": "5fa01199",
   "metadata": {},
   "outputs": [
    {
     "data": {
      "text/plain": [
       "PeriodIndex(['2020-10-29 16:00', '2021-01-28 16:00', '2021-04-29 16:00',\n",
       "             '2021-07-29 16:00', '2021-10-28 16:00', '2022-01-28 16:00'],\n",
       "            dtype='period[H]')"
      ]
     },
     "execution_count": 30,
     "metadata": {},
     "output_type": "execute_result"
    }
   ],
   "source": [
    "new_periods = (periods.asfreq(\"B\", \"end\") - 1).asfreq(\"H\", \"start\") + 16\n",
    "new_periods"
   ]
  },
  {
   "cell_type": "code",
   "execution_count": 31,
   "id": "f653c67f",
   "metadata": {},
   "outputs": [],
   "source": [
    "ts.index = new_periods.to_timestamp()"
   ]
  },
  {
   "cell_type": "code",
   "execution_count": 32,
   "id": "fb8c2735",
   "metadata": {},
   "outputs": [
    {
     "data": {
      "text/plain": [
       "2020-10-29 16:00:00    0\n",
       "2021-01-28 16:00:00    1\n",
       "2021-04-29 16:00:00    2\n",
       "2021-07-29 16:00:00    3\n",
       "2021-10-28 16:00:00    4\n",
       "2022-01-28 16:00:00    5\n",
       "dtype: int32"
      ]
     },
     "execution_count": 32,
     "metadata": {},
     "output_type": "execute_result"
    }
   ],
   "source": [
    "ts"
   ]
  },
  {
   "cell_type": "code",
   "execution_count": null,
   "id": "4c88b614",
   "metadata": {},
   "outputs": [],
   "source": []
  },
  {
   "cell_type": "code",
   "execution_count": null,
   "id": "83bb9b1c",
   "metadata": {},
   "outputs": [],
   "source": []
  },
  {
   "cell_type": "code",
   "execution_count": null,
   "id": "4ecfb5d2",
   "metadata": {},
   "outputs": [],
   "source": []
  },
  {
   "cell_type": "code",
   "execution_count": null,
   "id": "6e66b477",
   "metadata": {},
   "outputs": [],
   "source": []
  },
  {
   "cell_type": "code",
   "execution_count": null,
   "id": "4d890eda",
   "metadata": {},
   "outputs": [],
   "source": []
  },
  {
   "cell_type": "code",
   "execution_count": null,
   "id": "a2e7e281",
   "metadata": {},
   "outputs": [],
   "source": []
  },
  {
   "cell_type": "code",
   "execution_count": null,
   "id": "a128d239",
   "metadata": {},
   "outputs": [],
   "source": []
  },
  {
   "cell_type": "code",
   "execution_count": null,
   "id": "02cc1822",
   "metadata": {},
   "outputs": [],
   "source": []
  }
 ],
 "metadata": {
  "kernelspec": {
   "display_name": "Python 3 (ipykernel)",
   "language": "python",
   "name": "python3"
  },
  "language_info": {
   "codemirror_mode": {
    "name": "ipython",
    "version": 3
   },
   "file_extension": ".py",
   "mimetype": "text/x-python",
   "name": "python",
   "nbconvert_exporter": "python",
   "pygments_lexer": "ipython3",
   "version": "3.9.12"
  }
 },
 "nbformat": 4,
 "nbformat_minor": 5
}
