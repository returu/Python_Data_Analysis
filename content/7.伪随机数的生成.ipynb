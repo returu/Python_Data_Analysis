{
 "cells": [
  {
   "cell_type": "code",
   "execution_count": 1,
   "id": "beea0b4f",
   "metadata": {},
   "outputs": [],
   "source": [
    "import numpy as np\n",
    "\n",
    "from random import normalvariate"
   ]
  },
  {
   "cell_type": "markdown",
   "id": "69f92741",
   "metadata": {},
   "source": [
    "# 1.numpy.random模块"
   ]
  },
  {
   "cell_type": "markdown",
   "id": "c9fade3e",
   "metadata": {},
   "source": [
    "#### numpy.random模块相比python内置random模块更高效"
   ]
  },
  {
   "cell_type": "code",
   "execution_count": 2,
   "id": "ba94baf8",
   "metadata": {
    "scrolled": true
   },
   "outputs": [
    {
     "name": "stdout",
     "output_type": "stream",
     "text": [
      "899 ms ± 39 ms per loop (mean ± std. dev. of 7 runs, 1 loop each)\n"
     ]
    }
   ],
   "source": [
    "%timeit [normalvariate(0,1) for _ in range(1_000_000)]"
   ]
  },
  {
   "cell_type": "code",
   "execution_count": 3,
   "id": "6074c912",
   "metadata": {},
   "outputs": [
    {
     "name": "stdout",
     "output_type": "stream",
     "text": [
      "28.3 ms ± 1.19 ms per loop (mean ± std. dev. of 7 runs, 10 loops each)\n"
     ]
    }
   ],
   "source": [
    "%timeit np.random.standard_normal(size=1_000_000)"
   ]
  },
  {
   "cell_type": "markdown",
   "id": "0a9f4792",
   "metadata": {},
   "source": [
    "# 2.随机数生成器（Random Number Generator）"
   ]
  },
  {
   "cell_type": "code",
   "execution_count": 4,
   "id": "b61a690e",
   "metadata": {},
   "outputs": [
    {
     "data": {
      "text/plain": [
       "array([-0.98912135, -0.36778665,  1.28792526])"
      ]
     },
     "execution_count": 4,
     "metadata": {},
     "output_type": "execute_result"
    }
   ],
   "source": [
    "rng = np.random.default_rng(seed=123)\n",
    "\n",
    "rng.standard_normal(size=3)"
   ]
  },
  {
   "cell_type": "markdown",
   "id": "90d32638",
   "metadata": {},
   "source": [
    "# 3.随机数生成函数："
   ]
  },
  {
   "cell_type": "markdown",
   "id": "99f746f5",
   "metadata": {},
   "source": [
    "#### permutation()——返回一个序列的随机排列，或者返回一个乱序的整数范围序列"
   ]
  },
  {
   "cell_type": "code",
   "execution_count": 5,
   "id": "cd8d28f2",
   "metadata": {},
   "outputs": [
    {
     "data": {
      "text/plain": [
       "array([[ 0,  1,  2,  3],\n",
       "       [ 4,  5,  6,  7],\n",
       "       [ 8,  9, 10, 11]])"
      ]
     },
     "execution_count": 5,
     "metadata": {},
     "output_type": "execute_result"
    }
   ],
   "source": [
    "arr = np.arange(12).reshape(3,4)\n",
    "arr"
   ]
  },
  {
   "cell_type": "code",
   "execution_count": 6,
   "id": "a58dd635",
   "metadata": {},
   "outputs": [
    {
     "data": {
      "text/plain": [
       "array([0, 9, 2, 6, 7, 1, 3, 4, 8, 5])"
      ]
     },
     "execution_count": 6,
     "metadata": {},
     "output_type": "execute_result"
    }
   ],
   "source": [
    "np.random.permutation(np.arange(10))"
   ]
  },
  {
   "cell_type": "code",
   "execution_count": 7,
   "id": "afa51de3",
   "metadata": {},
   "outputs": [
    {
     "data": {
      "text/plain": [
       "array([[ 0,  1,  2,  3],\n",
       "       [ 4,  5,  6,  7],\n",
       "       [ 8,  9, 10, 11]])"
      ]
     },
     "execution_count": 7,
     "metadata": {},
     "output_type": "execute_result"
    }
   ],
   "source": [
    "arr"
   ]
  },
  {
   "cell_type": "markdown",
   "id": "4af6225b",
   "metadata": {},
   "source": [
    "#### shuffle()——随机排列一个序列"
   ]
  },
  {
   "cell_type": "code",
   "execution_count": 8,
   "id": "b51aa74b",
   "metadata": {},
   "outputs": [
    {
     "data": {
      "text/plain": [
       "array([[ 0,  1,  2,  3],\n",
       "       [ 4,  5,  6,  7],\n",
       "       [ 8,  9, 10, 11]])"
      ]
     },
     "execution_count": 8,
     "metadata": {},
     "output_type": "execute_result"
    }
   ],
   "source": [
    "arr = np.arange(12).reshape(3,4)\n",
    "arr"
   ]
  },
  {
   "cell_type": "code",
   "execution_count": 9,
   "id": "299c0911",
   "metadata": {},
   "outputs": [],
   "source": [
    "np.random.shuffle(arr)"
   ]
  },
  {
   "cell_type": "code",
   "execution_count": 10,
   "id": "229bd52e",
   "metadata": {},
   "outputs": [
    {
     "data": {
      "text/plain": [
       "array([[ 4,  5,  6,  7],\n",
       "       [ 8,  9, 10, 11],\n",
       "       [ 0,  1,  2,  3]])"
      ]
     },
     "execution_count": 10,
     "metadata": {},
     "output_type": "execute_result"
    }
   ],
   "source": [
    "arr"
   ]
  },
  {
   "cell_type": "markdown",
   "id": "892686ad",
   "metadata": {},
   "source": [
    "#### rand()——服从[0,1)均匀分布的随机样本值"
   ]
  },
  {
   "cell_type": "code",
   "execution_count": 11,
   "id": "951ffacb",
   "metadata": {},
   "outputs": [
    {
     "data": {
      "text/plain": [
       "array([[[0.12453376, 0.587713  , 0.59353242, 0.68696834],\n",
       "        [0.26134011, 0.90174625, 0.0602396 , 0.69735556],\n",
       "        [0.95849126, 0.39550943, 0.04836672, 0.82208411]],\n",
       "\n",
       "       [[0.79226768, 0.04989878, 0.94357896, 0.38639065],\n",
       "        [0.35406239, 0.38787451, 0.91429871, 0.32593029],\n",
       "        [0.5629369 , 0.81546556, 0.02370342, 0.96933346]]])"
      ]
     },
     "execution_count": 11,
     "metadata": {},
     "output_type": "execute_result"
    }
   ],
   "source": [
    "np.random.rand(2,3,4)"
   ]
  },
  {
   "cell_type": "markdown",
   "id": "4baf9249",
   "metadata": {},
   "source": [
    "#### randint(low，high，size，dtype)——根据给定值，从低到高抽取随机整数"
   ]
  },
  {
   "cell_type": "code",
   "execution_count": 12,
   "id": "adf3da70",
   "metadata": {},
   "outputs": [
    {
     "data": {
      "text/plain": [
       "array([[ 6, 16, 18],\n",
       "       [93, 46, 90]], dtype=uint8)"
      ]
     },
     "execution_count": 12,
     "metadata": {},
     "output_type": "execute_result"
    }
   ],
   "source": [
    "np.random.randint(low=1,high=100,size=(2,3) , dtype=np.uint8)"
   ]
  },
  {
   "cell_type": "markdown",
   "id": "32168fd1",
   "metadata": {},
   "source": [
    "#### randn()——从均值为0方差为1的正态分布中抽取样本"
   ]
  },
  {
   "cell_type": "code",
   "execution_count": 13,
   "id": "49b3619d",
   "metadata": {},
   "outputs": [
    {
     "data": {
      "text/plain": [
       "array([[-2.08932259, -2.02220746, -1.55247689],\n",
       "       [-1.1040037 , -1.55304768, -0.50908448]])"
      ]
     },
     "execution_count": 13,
     "metadata": {},
     "output_type": "execute_result"
    }
   ],
   "source": [
    "np.random.randn(2,3)"
   ]
  },
  {
   "cell_type": "markdown",
   "id": "ada2c4c7",
   "metadata": {},
   "source": [
    "#### normal(loc,scale,size)——从正态高斯分布中抽取样本"
   ]
  },
  {
   "cell_type": "code",
   "execution_count": 14,
   "id": "bfcefa8e",
   "metadata": {},
   "outputs": [],
   "source": [
    "# 参数loc：正态分布的均值，对应着这个分布的中心。loc=0说明这一个以Y轴为对称轴的正态分布，\n",
    "# 参数scale：正态分布的标准差，对应分布的宽度，scale越大，正态分布的曲线越矮胖，scale越小，曲线越高瘦。\n",
    "# 参数size：输出的值赋在shape里，默认为None。"
   ]
  },
  {
   "cell_type": "code",
   "execution_count": 15,
   "id": "5e0ca9b1",
   "metadata": {},
   "outputs": [
    {
     "data": {
      "text/plain": [
       "array([[-6.06039553, -1.30168895,  5.01405663],\n",
       "       [ 5.21707312, -2.76304848,  7.58415285]])"
      ]
     },
     "execution_count": 15,
     "metadata": {},
     "output_type": "execute_result"
    }
   ],
   "source": [
    "np.random.normal(loc=1,scale=10,size=(2,3))"
   ]
  },
  {
   "cell_type": "markdown",
   "id": "bebddc59",
   "metadata": {},
   "source": [
    "#### uniform(low,high,size)——从均匀[low,high)分布总抽取样本"
   ]
  },
  {
   "cell_type": "code",
   "execution_count": 16,
   "id": "1d0fc163",
   "metadata": {},
   "outputs": [
    {
     "data": {
      "text/plain": [
       "array([[2.05445572, 1.81120029, 1.17701333],\n",
       "       [3.6072588 , 3.65197264, 2.55620417]])"
      ]
     },
     "execution_count": 16,
     "metadata": {},
     "output_type": "execute_result"
    }
   ],
   "source": [
    "np.random.uniform(low=1,high=5,size=(2,3))"
   ]
  },
  {
   "cell_type": "markdown",
   "id": "d720b816",
   "metadata": {},
   "source": [
    "#### binomial(n,p,size)——从二项分布中抽取样本"
   ]
  },
  {
   "cell_type": "code",
   "execution_count": 17,
   "id": "1df4456d",
   "metadata": {},
   "outputs": [],
   "source": [
    "# 参数n：一次试验的样本数n，并且相互不干扰。\n",
    "# 参数p：事件发生的概率p，范围[0,1]。\n",
    "# 参数size：限定了返回值的形式"
   ]
  },
  {
   "cell_type": "code",
   "execution_count": 18,
   "id": "fce017d4",
   "metadata": {},
   "outputs": [
    {
     "data": {
      "text/plain": [
       "array([[16, 10, 10],\n",
       "       [ 9, 10, 15]])"
      ]
     },
     "execution_count": 18,
     "metadata": {},
     "output_type": "execute_result"
    }
   ],
   "source": [
    "np.random.binomial(n=20 ,p=0.5 , size=(2,3))"
   ]
  },
  {
   "cell_type": "markdown",
   "id": "09d93124",
   "metadata": {},
   "source": [
    "#### beta(a,b,size)——从beta分布中抽取样本"
   ]
  },
  {
   "cell_type": "code",
   "execution_count": 19,
   "id": "c904b73d",
   "metadata": {},
   "outputs": [
    {
     "data": {
      "text/plain": [
       "array([[0.29955353, 0.27305211, 0.29631743],\n",
       "       [0.24527276, 0.39024413, 0.32837931]])"
      ]
     },
     "execution_count": 19,
     "metadata": {},
     "output_type": "execute_result"
    }
   ],
   "source": [
    "np.random.beta(10,20,(2,3))"
   ]
  },
  {
   "cell_type": "markdown",
   "id": "595d03da",
   "metadata": {},
   "source": [
    "#### chisquare(df,size)——从卡方分布中抽取样本"
   ]
  },
  {
   "cell_type": "code",
   "execution_count": 20,
   "id": "cd78fd11",
   "metadata": {},
   "outputs": [
    {
     "data": {
      "text/plain": [
       "array([[1.98222902, 3.0758696 , 0.51192377],\n",
       "       [0.3869275 , 0.76172903, 2.51366813]])"
      ]
     },
     "execution_count": 20,
     "metadata": {},
     "output_type": "execute_result"
    }
   ],
   "source": [
    "np.random.chisquare(df=2, size=(2, 3))"
   ]
  },
  {
   "cell_type": "markdown",
   "id": "eb35856b",
   "metadata": {},
   "source": [
    "#### gamma(shape, scale, size)——从伽马分布中抽取样本"
   ]
  },
  {
   "cell_type": "code",
   "execution_count": 21,
   "id": "18f5171a",
   "metadata": {},
   "outputs": [
    {
     "data": {
      "text/plain": [
       "array([[ 49.1124033 ,  57.9164554 ,  52.17023793],\n",
       "       [147.00978216, 192.88657351,  42.82605707]])"
      ]
     },
     "execution_count": 21,
     "metadata": {},
     "output_type": "execute_result"
    }
   ],
   "source": [
    "np.random.gamma(shape=3,scale=20,size=(2,3))"
   ]
  },
  {
   "cell_type": "code",
   "execution_count": null,
   "id": "44396777",
   "metadata": {},
   "outputs": [],
   "source": []
  },
  {
   "cell_type": "code",
   "execution_count": null,
   "id": "e35ca49c",
   "metadata": {},
   "outputs": [],
   "source": []
  },
  {
   "cell_type": "code",
   "execution_count": null,
   "id": "1bca67f1",
   "metadata": {},
   "outputs": [],
   "source": []
  },
  {
   "cell_type": "code",
   "execution_count": null,
   "id": "640d6ba2",
   "metadata": {},
   "outputs": [],
   "source": []
  }
 ],
 "metadata": {
  "kernelspec": {
   "display_name": "Python 3 (ipykernel)",
   "language": "python",
   "name": "python3"
  },
  "language_info": {
   "codemirror_mode": {
    "name": "ipython",
    "version": 3
   },
   "file_extension": ".py",
   "mimetype": "text/x-python",
   "name": "python",
   "nbconvert_exporter": "python",
   "pygments_lexer": "ipython3",
   "version": "3.9.12"
  }
 },
 "nbformat": 4,
 "nbformat_minor": 5
}
