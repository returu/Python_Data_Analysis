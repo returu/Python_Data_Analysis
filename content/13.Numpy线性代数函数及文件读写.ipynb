{
 "cells": [
  {
   "cell_type": "code",
   "execution_count": 1,
   "id": "bd91c1c0",
   "metadata": {},
   "outputs": [],
   "source": [
    "import numpy as np"
   ]
  },
  {
   "cell_type": "markdown",
   "id": "c3b36616",
   "metadata": {},
   "source": [
    "# 1.线性代数函数："
   ]
  },
  {
   "cell_type": "code",
   "execution_count": 2,
   "id": "88b0f2f4",
   "metadata": {},
   "outputs": [
    {
     "data": {
      "text/plain": [
       "array([[1., 2., 3.],\n",
       "       [4., 5., 6.]])"
      ]
     },
     "execution_count": 2,
     "metadata": {},
     "output_type": "execute_result"
    }
   ],
   "source": [
    "x = np.array([[1., 2., 3.], [4., 5., 6.]])\n",
    "x"
   ]
  },
  {
   "cell_type": "code",
   "execution_count": 3,
   "id": "f97482e9",
   "metadata": {},
   "outputs": [
    {
     "data": {
      "text/plain": [
       "array([[ 6., 23.],\n",
       "       [-1.,  7.],\n",
       "       [ 8.,  9.]])"
      ]
     },
     "execution_count": 3,
     "metadata": {},
     "output_type": "execute_result"
    }
   ],
   "source": [
    "y = np.array([[6., 23.], [-1, 7], [8, 9]])\n",
    "y"
   ]
  },
  {
   "cell_type": "code",
   "execution_count": 4,
   "id": "d4b76b6a",
   "metadata": {},
   "outputs": [
    {
     "data": {
      "text/plain": [
       "array([[ 28.,  64.],\n",
       "       [ 67., 181.]])"
      ]
     },
     "execution_count": 4,
     "metadata": {},
     "output_type": "execute_result"
    }
   ],
   "source": [
    "x.dot(y)"
   ]
  },
  {
   "cell_type": "code",
   "execution_count": 5,
   "id": "398bf185",
   "metadata": {},
   "outputs": [
    {
     "data": {
      "text/plain": [
       "array([[ 28.,  64.],\n",
       "       [ 67., 181.]])"
      ]
     },
     "execution_count": 5,
     "metadata": {},
     "output_type": "execute_result"
    }
   ],
   "source": [
    "x@y"
   ]
  },
  {
   "cell_type": "markdown",
   "id": "d7ea251a",
   "metadata": {},
   "source": [
    "# 2.文件读写"
   ]
  },
  {
   "cell_type": "markdown",
   "id": "8ecf9bc6",
   "metadata": {},
   "source": [
    "#### save()方法用于将数组存储到硬盘中"
   ]
  },
  {
   "cell_type": "code",
   "execution_count": 6,
   "id": "49078803",
   "metadata": {},
   "outputs": [],
   "source": [
    "arr = np.arange(5)"
   ]
  },
  {
   "cell_type": "code",
   "execution_count": 7,
   "id": "37716a24",
   "metadata": {},
   "outputs": [],
   "source": [
    "np.save('test' , arr)"
   ]
  },
  {
   "cell_type": "markdown",
   "id": "4d69a625",
   "metadata": {},
   "source": [
    "#### load()方法用于将数组从硬盘中载入"
   ]
  },
  {
   "cell_type": "code",
   "execution_count": 8,
   "id": "13d69ead",
   "metadata": {},
   "outputs": [
    {
     "data": {
      "text/plain": [
       "array([0, 1, 2, 3, 4])"
      ]
     },
     "execution_count": 8,
     "metadata": {},
     "output_type": "execute_result"
    }
   ],
   "source": [
    "np.load('test.npy')"
   ]
  },
  {
   "cell_type": "markdown",
   "id": "29ea8bfd",
   "metadata": {},
   "source": [
    "#### savez()方法，可以用于保存多个数组"
   ]
  },
  {
   "cell_type": "code",
   "execution_count": 9,
   "id": "dc6e45e7",
   "metadata": {},
   "outputs": [],
   "source": [
    "arr1 = np.arange(0,5)\n",
    "arr2 = np.arange(5,10)"
   ]
  },
  {
   "cell_type": "code",
   "execution_count": 10,
   "id": "f471e3e8",
   "metadata": {},
   "outputs": [],
   "source": [
    "np.savez('test2.npz' , x=arr1 , y=arr2)"
   ]
  },
  {
   "cell_type": "markdown",
   "id": "53640088",
   "metadata": {},
   "source": [
    "#### 当加载一个.npz文件时，会得到一个类似字典的对象"
   ]
  },
  {
   "cell_type": "code",
   "execution_count": 11,
   "id": "61f3579f",
   "metadata": {},
   "outputs": [],
   "source": [
    "data = np.load('test2.npz')"
   ]
  },
  {
   "cell_type": "code",
   "execution_count": 12,
   "id": "0d0f7528",
   "metadata": {},
   "outputs": [
    {
     "data": {
      "text/plain": [
       "array([0, 1, 2, 3, 4])"
      ]
     },
     "execution_count": 12,
     "metadata": {},
     "output_type": "execute_result"
    }
   ],
   "source": [
    "data['x']"
   ]
  },
  {
   "cell_type": "code",
   "execution_count": 13,
   "id": "b93b9fb8",
   "metadata": {},
   "outputs": [
    {
     "data": {
      "text/plain": [
       "array([5, 6, 7, 8, 9])"
      ]
     },
     "execution_count": 13,
     "metadata": {},
     "output_type": "execute_result"
    }
   ],
   "source": [
    "data['y']"
   ]
  },
  {
   "cell_type": "code",
   "execution_count": null,
   "id": "2b7410b3",
   "metadata": {},
   "outputs": [],
   "source": []
  },
  {
   "cell_type": "code",
   "execution_count": null,
   "id": "893ce1c4",
   "metadata": {},
   "outputs": [],
   "source": []
  },
  {
   "cell_type": "code",
   "execution_count": null,
   "id": "dbb40845",
   "metadata": {},
   "outputs": [],
   "source": []
  },
  {
   "cell_type": "code",
   "execution_count": null,
   "id": "2333232d",
   "metadata": {},
   "outputs": [],
   "source": []
  },
  {
   "cell_type": "code",
   "execution_count": null,
   "id": "b0ebe745",
   "metadata": {},
   "outputs": [],
   "source": []
  }
 ],
 "metadata": {
  "kernelspec": {
   "display_name": "Python 3 (ipykernel)",
   "language": "python",
   "name": "python3"
  },
  "language_info": {
   "codemirror_mode": {
    "name": "ipython",
    "version": 3
   },
   "file_extension": ".py",
   "mimetype": "text/x-python",
   "name": "python",
   "nbconvert_exporter": "python",
   "pygments_lexer": "ipython3",
   "version": "3.9.12"
  }
 },
 "nbformat": 4,
 "nbformat_minor": 5
}
