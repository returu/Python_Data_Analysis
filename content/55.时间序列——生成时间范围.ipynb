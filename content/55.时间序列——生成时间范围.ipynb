{
 "cells": [
  {
   "cell_type": "code",
   "execution_count": 1,
   "id": "87bba5fd",
   "metadata": {},
   "outputs": [],
   "source": [
    "import pandas as pd"
   ]
  },
  {
   "cell_type": "markdown",
   "id": "9c3cfb73",
   "metadata": {},
   "source": [
    "### pandas.date_range "
   ]
  },
  {
   "cell_type": "code",
   "execution_count": 2,
   "id": "e8026dec",
   "metadata": {},
   "outputs": [
    {
     "data": {
      "text/plain": [
       "DatetimeIndex(['2022-11-01', '2022-11-02', '2022-11-03', '2022-11-04',\n",
       "               '2022-11-05', '2022-11-06', '2022-11-07', '2022-11-08',\n",
       "               '2022-11-09', '2022-11-10', '2022-11-11', '2022-11-12',\n",
       "               '2022-11-13', '2022-11-14', '2022-11-15', '2022-11-16',\n",
       "               '2022-11-17', '2022-11-18', '2022-11-19', '2022-11-20',\n",
       "               '2022-11-21', '2022-11-22', '2022-11-23', '2022-11-24',\n",
       "               '2022-11-25', '2022-11-26', '2022-11-27', '2022-11-28',\n",
       "               '2022-11-29', '2022-11-30', '2022-12-01'],\n",
       "              dtype='datetime64[ns]', freq='D')"
      ]
     },
     "execution_count": 2,
     "metadata": {},
     "output_type": "execute_result"
    }
   ],
   "source": [
    "index = pd.date_range(\"2022-11-1\" , \"2022-12-1\")\n",
    "index"
   ]
  },
  {
   "cell_type": "markdown",
   "id": "ae7a2bd4",
   "metadata": {},
   "source": [
    "### periods 参数"
   ]
  },
  {
   "cell_type": "code",
   "execution_count": 3,
   "id": "25e3db9c",
   "metadata": {},
   "outputs": [
    {
     "data": {
      "text/plain": [
       "DatetimeIndex(['2022-11-01', '2022-11-02', '2022-11-03', '2022-11-04',\n",
       "               '2022-11-05', '2022-11-06', '2022-11-07', '2022-11-08',\n",
       "               '2022-11-09', '2022-11-10'],\n",
       "              dtype='datetime64[ns]', freq='D')"
      ]
     },
     "execution_count": 3,
     "metadata": {},
     "output_type": "execute_result"
    }
   ],
   "source": [
    "pd.date_range(start=\"2022-11-1\" , periods=10)"
   ]
  },
  {
   "cell_type": "code",
   "execution_count": 4,
   "id": "e13607d6",
   "metadata": {},
   "outputs": [
    {
     "data": {
      "text/plain": [
       "DatetimeIndex(['2022-11-22', '2022-11-23', '2022-11-24', '2022-11-25',\n",
       "               '2022-11-26', '2022-11-27', '2022-11-28', '2022-11-29',\n",
       "               '2022-11-30', '2022-12-01'],\n",
       "              dtype='datetime64[ns]', freq='D')"
      ]
     },
     "execution_count": 4,
     "metadata": {},
     "output_type": "execute_result"
    }
   ],
   "source": [
    "pd.date_range(end=\"2022-12-1\" , periods=10)"
   ]
  },
  {
   "cell_type": "markdown",
   "id": "2099b989",
   "metadata": {},
   "source": [
    "### freq 参数"
   ]
  },
  {
   "cell_type": "code",
   "execution_count": 5,
   "id": "4a4f1b16",
   "metadata": {},
   "outputs": [
    {
     "data": {
      "text/plain": [
       "DatetimeIndex(['2022-01-31', '2022-02-28', '2022-03-31', '2022-04-29',\n",
       "               '2022-05-31', '2022-06-30', '2022-07-29', '2022-08-31',\n",
       "               '2022-09-30', '2022-10-31', '2022-11-30', '2022-12-30'],\n",
       "              dtype='datetime64[ns]', freq='BM')"
      ]
     },
     "execution_count": 5,
     "metadata": {},
     "output_type": "execute_result"
    }
   ],
   "source": [
    "pd.date_range(start=\"2022-1-1\" , end=\"2023-1-1\" , freq=\"BM\")"
   ]
  },
  {
   "cell_type": "markdown",
   "id": "8da9ca7d",
   "metadata": {},
   "source": [
    "### pandas.date_range 默认保留开始或结束时间戳的时间（如果有）："
   ]
  },
  {
   "cell_type": "code",
   "execution_count": 6,
   "id": "6595be31",
   "metadata": {},
   "outputs": [
    {
     "data": {
      "text/plain": [
       "DatetimeIndex(['2022-12-12 12:12:12', '2022-12-13 12:12:12',\n",
       "               '2022-12-14 12:12:12', '2022-12-15 12:12:12',\n",
       "               '2022-12-16 12:12:12'],\n",
       "              dtype='datetime64[ns]', freq='D')"
      ]
     },
     "execution_count": 6,
     "metadata": {},
     "output_type": "execute_result"
    }
   ],
   "source": [
    "pd.date_range(\"2022-12-12 12:12:12\", periods=5)"
   ]
  },
  {
   "cell_type": "markdown",
   "id": "5d54dd54",
   "metadata": {},
   "source": [
    "### normalize 参数"
   ]
  },
  {
   "cell_type": "code",
   "execution_count": 7,
   "id": "ff86fb46",
   "metadata": {},
   "outputs": [
    {
     "data": {
      "text/plain": [
       "DatetimeIndex(['2022-12-12', '2022-12-13', '2022-12-14', '2022-12-15',\n",
       "               '2022-12-16'],\n",
       "              dtype='datetime64[ns]', freq='D')"
      ]
     },
     "execution_count": 7,
     "metadata": {},
     "output_type": "execute_result"
    }
   ],
   "source": [
    "pd.date_range(\"2022-12-12 12:12:12\", periods=5 , normalize=True)"
   ]
  },
  {
   "cell_type": "code",
   "execution_count": null,
   "id": "dfdfbe60",
   "metadata": {},
   "outputs": [],
   "source": []
  },
  {
   "cell_type": "code",
   "execution_count": null,
   "id": "2c2717db",
   "metadata": {},
   "outputs": [],
   "source": []
  },
  {
   "cell_type": "code",
   "execution_count": null,
   "id": "2fe84739",
   "metadata": {},
   "outputs": [],
   "source": []
  },
  {
   "cell_type": "code",
   "execution_count": null,
   "id": "ce0a14dc",
   "metadata": {},
   "outputs": [],
   "source": []
  },
  {
   "cell_type": "code",
   "execution_count": null,
   "id": "e8b45a85",
   "metadata": {},
   "outputs": [],
   "source": []
  },
  {
   "cell_type": "code",
   "execution_count": null,
   "id": "a03a747f",
   "metadata": {},
   "outputs": [],
   "source": []
  }
 ],
 "metadata": {
  "kernelspec": {
   "display_name": "Python 3 (ipykernel)",
   "language": "python",
   "name": "python3"
  },
  "language_info": {
   "codemirror_mode": {
    "name": "ipython",
    "version": 3
   },
   "file_extension": ".py",
   "mimetype": "text/x-python",
   "name": "python",
   "nbconvert_exporter": "python",
   "pygments_lexer": "ipython3",
   "version": "3.9.12"
  }
 },
 "nbformat": 4,
 "nbformat_minor": 5
}
