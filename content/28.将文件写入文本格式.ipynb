{
 "cells": [
  {
   "cell_type": "code",
   "execution_count": 1,
   "id": "6a01b50b",
   "metadata": {},
   "outputs": [],
   "source": [
    "import numpy as np\n",
    "import pandas as pd\n",
    "\n",
    "import sys"
   ]
  },
  {
   "cell_type": "code",
   "execution_count": 2,
   "id": "415e4a1d",
   "metadata": {},
   "outputs": [
    {
     "data": {
      "text/html": [
       "<div>\n",
       "<style scoped>\n",
       "    .dataframe tbody tr th:only-of-type {\n",
       "        vertical-align: middle;\n",
       "    }\n",
       "\n",
       "    .dataframe tbody tr th {\n",
       "        vertical-align: top;\n",
       "    }\n",
       "\n",
       "    .dataframe thead th {\n",
       "        text-align: right;\n",
       "    }\n",
       "</style>\n",
       "<table border=\"1\" class=\"dataframe\">\n",
       "  <thead>\n",
       "    <tr style=\"text-align: right;\">\n",
       "      <th></th>\n",
       "      <th>A</th>\n",
       "      <th>B</th>\n",
       "      <th>C</th>\n",
       "      <th>D</th>\n",
       "    </tr>\n",
       "  </thead>\n",
       "  <tbody>\n",
       "    <tr>\n",
       "      <th>0</th>\n",
       "      <td>1.0</td>\n",
       "      <td>4</td>\n",
       "      <td>7</td>\n",
       "      <td>x</td>\n",
       "    </tr>\n",
       "    <tr>\n",
       "      <th>1</th>\n",
       "      <td>NaN</td>\n",
       "      <td>5</td>\n",
       "      <td>8</td>\n",
       "      <td>y</td>\n",
       "    </tr>\n",
       "    <tr>\n",
       "      <th>2</th>\n",
       "      <td>3.0</td>\n",
       "      <td>6</td>\n",
       "      <td>9</td>\n",
       "      <td>NaN</td>\n",
       "    </tr>\n",
       "  </tbody>\n",
       "</table>\n",
       "</div>"
      ],
      "text/plain": [
       "     A  B  C    D\n",
       "0  1.0  4  7    x\n",
       "1  NaN  5  8    y\n",
       "2  3.0  6  9  NaN"
      ]
     },
     "execution_count": 2,
     "metadata": {},
     "output_type": "execute_result"
    }
   ],
   "source": [
    "data = {\"A\":[1,np.nan,3] , \"B\":[4,5,6] , \"C\":[7,8,9] , \"D\":[\"x\",\"y\",np.nan]}\n",
    "\n",
    "df = pd.DataFrame(data)\n",
    "df"
   ]
  },
  {
   "cell_type": "code",
   "execution_count": 3,
   "id": "7d118335",
   "metadata": {},
   "outputs": [],
   "source": [
    "#  将数据写入文件\n",
    "df.to_csv(\"./data/out.csv\")"
   ]
  },
  {
   "cell_type": "code",
   "execution_count": 4,
   "id": "e5aee483",
   "metadata": {},
   "outputs": [
    {
     "name": "stdout",
     "output_type": "stream",
     "text": [
      ",A,B,C,D\r\n",
      "0,1.0,4,7,x\r\n",
      "1,,5,8,y\r\n",
      "2,3.0,6,9,\r\n"
     ]
    }
   ],
   "source": [
    "# 使用 sys.stdout ， 通过控制台打印文本结果，而不是写入文件\n",
    "df.to_csv(sys.stdout)"
   ]
  },
  {
   "cell_type": "markdown",
   "id": "796a0181",
   "metadata": {},
   "source": [
    "#### na_rep参数"
   ]
  },
  {
   "cell_type": "code",
   "execution_count": 5,
   "id": "4f4006ec",
   "metadata": {},
   "outputs": [
    {
     "name": "stdout",
     "output_type": "stream",
     "text": [
      ",A,B,C,D\r\n",
      "0,1.0,4,7,x\r\n",
      "1,NULL,5,8,y\r\n",
      "2,3.0,6,9,NULL\r\n"
     ]
    }
   ],
   "source": [
    "df.to_csv(sys.stdout , na_rep=\"NULL\")"
   ]
  },
  {
   "cell_type": "markdown",
   "id": "6098cbae",
   "metadata": {},
   "source": [
    "#### sep参数"
   ]
  },
  {
   "cell_type": "code",
   "execution_count": 6,
   "id": "520fc4ee",
   "metadata": {},
   "outputs": [
    {
     "name": "stdout",
     "output_type": "stream",
     "text": [
      "|A|B|C|D\r\n",
      "0|1.0|4|7|x\r\n",
      "1|NULL|5|8|y\r\n",
      "2|3.0|6|9|NULL\r\n"
     ]
    }
   ],
   "source": [
    "df.to_csv(sys.stdout , sep=\"|\" , na_rep=\"NULL\")"
   ]
  },
  {
   "cell_type": "markdown",
   "id": "ddc01aab",
   "metadata": {},
   "source": [
    "#### index, header参数"
   ]
  },
  {
   "cell_type": "code",
   "execution_count": 7,
   "id": "10bdcc60",
   "metadata": {},
   "outputs": [
    {
     "name": "stdout",
     "output_type": "stream",
     "text": [
      "1.0|4|7|x\r\n",
      "NULL|5|8|y\r\n",
      "3.0|6|9|NULL\r\n"
     ]
    }
   ],
   "source": [
    "df.to_csv(sys.stdout , sep=\"|\" , na_rep=\"NULL\" , index=False , header=False)"
   ]
  },
  {
   "cell_type": "markdown",
   "id": "02228cb2",
   "metadata": {},
   "source": [
    "#### columns参数"
   ]
  },
  {
   "cell_type": "code",
   "execution_count": 8,
   "id": "ce6c17fa",
   "metadata": {},
   "outputs": [
    {
     "name": "stdout",
     "output_type": "stream",
     "text": [
      "D|B|C\r\n",
      "x|4|7\r\n",
      "y|5|8\r\n",
      "NULL|6|9\r\n"
     ]
    }
   ],
   "source": [
    "df.to_csv(sys.stdout , sep=\"|\" , na_rep=\"NULL\" , index=False , columns=[\"D\",\"B\",\"C\"])"
   ]
  },
  {
   "cell_type": "code",
   "execution_count": null,
   "id": "367af93b",
   "metadata": {},
   "outputs": [],
   "source": []
  },
  {
   "cell_type": "code",
   "execution_count": null,
   "id": "744ca817",
   "metadata": {},
   "outputs": [],
   "source": []
  },
  {
   "cell_type": "code",
   "execution_count": null,
   "id": "a0b44a40",
   "metadata": {},
   "outputs": [],
   "source": []
  },
  {
   "cell_type": "code",
   "execution_count": null,
   "id": "f41599d4",
   "metadata": {},
   "outputs": [],
   "source": []
  },
  {
   "cell_type": "code",
   "execution_count": null,
   "id": "fa0c25fb",
   "metadata": {},
   "outputs": [],
   "source": []
  },
  {
   "cell_type": "code",
   "execution_count": null,
   "id": "9ef687ac",
   "metadata": {},
   "outputs": [],
   "source": []
  },
  {
   "cell_type": "code",
   "execution_count": null,
   "id": "955d29b8",
   "metadata": {},
   "outputs": [],
   "source": []
  }
 ],
 "metadata": {
  "kernelspec": {
   "display_name": "Python 3 (ipykernel)",
   "language": "python",
   "name": "python3"
  },
  "language_info": {
   "codemirror_mode": {
    "name": "ipython",
    "version": 3
   },
   "file_extension": ".py",
   "mimetype": "text/x-python",
   "name": "python",
   "nbconvert_exporter": "python",
   "pygments_lexer": "ipython3",
   "version": "3.9.12"
  }
 },
 "nbformat": 4,
 "nbformat_minor": 5
}
