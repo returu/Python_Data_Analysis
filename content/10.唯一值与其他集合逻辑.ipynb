{
 "cells": [
  {
   "cell_type": "code",
   "execution_count": 1,
   "id": "9fa61688",
   "metadata": {},
   "outputs": [],
   "source": [
    "import numpy as np"
   ]
  },
  {
   "cell_type": "markdown",
   "id": "b235692f",
   "metadata": {},
   "source": [
    "# 1.唯一值："
   ]
  },
  {
   "cell_type": "code",
   "execution_count": 2,
   "id": "b406162a",
   "metadata": {},
   "outputs": [
    {
     "data": {
      "text/plain": [
       "array([1, 2, 3])"
      ]
     },
     "execution_count": 2,
     "metadata": {},
     "output_type": "execute_result"
    }
   ],
   "source": [
    "np.unique([1, 1, 2, 2, 3, 3])"
   ]
  },
  {
   "cell_type": "code",
   "execution_count": 3,
   "id": "26a0dc60",
   "metadata": {},
   "outputs": [
    {
     "data": {
      "text/plain": [
       "array([[1, 1, 3],\n",
       "       [2, 3, 2]])"
      ]
     },
     "execution_count": 3,
     "metadata": {},
     "output_type": "execute_result"
    }
   ],
   "source": [
    "arr = np.array([[1,1,3], [2,3,2]])\n",
    "arr"
   ]
  },
  {
   "cell_type": "code",
   "execution_count": 4,
   "id": "3cfecb07",
   "metadata": {},
   "outputs": [
    {
     "data": {
      "text/plain": [
       "array([1, 2, 3])"
      ]
     },
     "execution_count": 4,
     "metadata": {},
     "output_type": "execute_result"
    }
   ],
   "source": [
    "np.unique(arr)"
   ]
  },
  {
   "cell_type": "markdown",
   "id": "41294058",
   "metadata": {},
   "source": [
    "#### 返回一个二维数组的唯一行"
   ]
  },
  {
   "cell_type": "code",
   "execution_count": 5,
   "id": "5ac5e2d4",
   "metadata": {},
   "outputs": [
    {
     "data": {
      "text/plain": [
       "array([[1, 2, 3],\n",
       "       [1, 2, 3],\n",
       "       [3, 4, 5]])"
      ]
     },
     "execution_count": 5,
     "metadata": {},
     "output_type": "execute_result"
    }
   ],
   "source": [
    "arr_2d = np.array([[1, 2, 3], [1, 2, 3], [3, 4, 5]])\n",
    "arr_2d"
   ]
  },
  {
   "cell_type": "code",
   "execution_count": 6,
   "id": "0016d44e",
   "metadata": {},
   "outputs": [
    {
     "data": {
      "text/plain": [
       "array([[1, 2, 3],\n",
       "       [3, 4, 5]])"
      ]
     },
     "execution_count": 6,
     "metadata": {},
     "output_type": "execute_result"
    }
   ],
   "source": [
    "np.unique(arr_2d ,axis=0)"
   ]
  },
  {
   "cell_type": "markdown",
   "id": "775910d0",
   "metadata": {},
   "source": [
    "#### 返回唯一值在输入数组中的索引"
   ]
  },
  {
   "cell_type": "code",
   "execution_count": 7,
   "id": "ee557397",
   "metadata": {},
   "outputs": [
    {
     "data": {
      "text/plain": [
       "array([[1, 2, 3],\n",
       "       [1, 2, 3],\n",
       "       [3, 4, 5]])"
      ]
     },
     "execution_count": 7,
     "metadata": {},
     "output_type": "execute_result"
    }
   ],
   "source": [
    "arr = np.array([[1, 2, 3], [1, 2, 3], [3, 4, 5]])\n",
    "arr"
   ]
  },
  {
   "cell_type": "code",
   "execution_count": 8,
   "id": "8a23885a",
   "metadata": {},
   "outputs": [
    {
     "data": {
      "text/plain": [
       "(array([1, 2, 3, 4, 5]), array([0, 1, 2, 7, 8], dtype=int64))"
      ]
     },
     "execution_count": 8,
     "metadata": {},
     "output_type": "execute_result"
    }
   ],
   "source": [
    "np.unique(arr, return_index=True)"
   ]
  },
  {
   "cell_type": "markdown",
   "id": "383b3585",
   "metadata": {},
   "source": [
    "#### 根据唯一的值的索引重构输入数组"
   ]
  },
  {
   "cell_type": "code",
   "execution_count": 9,
   "id": "e9376607",
   "metadata": {},
   "outputs": [
    {
     "data": {
      "text/plain": [
       "array([[1, 2, 3],\n",
       "       [1, 2, 3],\n",
       "       [3, 4, 5]])"
      ]
     },
     "execution_count": 9,
     "metadata": {},
     "output_type": "execute_result"
    }
   ],
   "source": [
    "arr = np.array([[1, 2, 3], [1, 2, 3], [3, 4, 5]])\n",
    "arr"
   ]
  },
  {
   "cell_type": "code",
   "execution_count": 10,
   "id": "06d06af5",
   "metadata": {},
   "outputs": [
    {
     "data": {
      "text/plain": [
       "(array([1, 2, 3, 4, 5]), array([0, 1, 2, 0, 1, 2, 2, 3, 4], dtype=int64))"
      ]
     },
     "execution_count": 10,
     "metadata": {},
     "output_type": "execute_result"
    }
   ],
   "source": [
    "np.unique(arr, return_inverse=True)"
   ]
  },
  {
   "cell_type": "markdown",
   "id": "1782ee52",
   "metadata": {},
   "source": [
    "#### 计算每个唯一值在输入数组中出现的次数"
   ]
  },
  {
   "cell_type": "code",
   "execution_count": 11,
   "id": "36209e5e",
   "metadata": {},
   "outputs": [
    {
     "data": {
      "text/plain": [
       "array([[1, 2, 3],\n",
       "       [1, 2, 3],\n",
       "       [3, 4, 5]])"
      ]
     },
     "execution_count": 11,
     "metadata": {},
     "output_type": "execute_result"
    }
   ],
   "source": [
    "arr = np.array([[1, 2, 3], [1, 2, 3], [3, 4, 5]])\n",
    "arr"
   ]
  },
  {
   "cell_type": "code",
   "execution_count": 12,
   "id": "ee20c5db",
   "metadata": {},
   "outputs": [
    {
     "data": {
      "text/plain": [
       "(array([1, 2, 3, 4, 5]), array([2, 2, 3, 1, 1], dtype=int64))"
      ]
     },
     "execution_count": 12,
     "metadata": {},
     "output_type": "execute_result"
    }
   ],
   "source": [
    "np.unique(arr, return_counts=True)"
   ]
  },
  {
   "cell_type": "markdown",
   "id": "e8d47cb3",
   "metadata": {},
   "source": [
    "# 2.其他集合逻辑："
   ]
  },
  {
   "cell_type": "markdown",
   "id": "48a442a2",
   "metadata": {},
   "source": [
    "#### 计算x和y的交集、差集、并集、异或集"
   ]
  },
  {
   "cell_type": "code",
   "execution_count": 13,
   "id": "ad142e71",
   "metadata": {},
   "outputs": [
    {
     "data": {
      "text/plain": [
       "array([1, 3])"
      ]
     },
     "execution_count": 13,
     "metadata": {},
     "output_type": "execute_result"
    }
   ],
   "source": [
    "# 计算x和y的交集，并排序\n",
    "np.intersect1d([1, 3, 4, 3], [3, 1, 2, 1])"
   ]
  },
  {
   "cell_type": "code",
   "execution_count": 14,
   "id": "79b85004",
   "metadata": {},
   "outputs": [
    {
     "data": {
      "text/plain": [
       "array([1, 2, 3, 4])"
      ]
     },
     "execution_count": 14,
     "metadata": {},
     "output_type": "execute_result"
    }
   ],
   "source": [
    "# 计算x和y的并集，并排序\n",
    "np.union1d([1, 3, 4, 3], [3, 1, 2, 1])"
   ]
  },
  {
   "cell_type": "code",
   "execution_count": 15,
   "id": "1b2d1486",
   "metadata": {},
   "outputs": [
    {
     "data": {
      "text/plain": [
       "array([4])"
      ]
     },
     "execution_count": 15,
     "metadata": {},
     "output_type": "execute_result"
    }
   ],
   "source": [
    "# 计算x和y的差集，在x中但是不在y中的元素\n",
    "np.setdiff1d([1, 3, 4, 3], [3, 1, 2, 1])"
   ]
  },
  {
   "cell_type": "code",
   "execution_count": 16,
   "id": "3fd93c3f",
   "metadata": {},
   "outputs": [
    {
     "data": {
      "text/plain": [
       "array([2, 4])"
      ]
     },
     "execution_count": 16,
     "metadata": {},
     "output_type": "execute_result"
    }
   ],
   "source": [
    "# 计算x和y的异或集，在x或y中，但是不属于x和y交集的元素\n",
    "np.setxor1d([1, 3, 4, 3], [3, 1, 2, 1])"
   ]
  },
  {
   "cell_type": "markdown",
   "id": "aea3de17",
   "metadata": {},
   "source": [
    "#### 如果需要计算两个以上数组的交集和并集需要使用Python中的Functools模块"
   ]
  },
  {
   "cell_type": "code",
   "execution_count": 17,
   "id": "3ca72327",
   "metadata": {},
   "outputs": [],
   "source": [
    "from functools import reduce"
   ]
  },
  {
   "cell_type": "code",
   "execution_count": 18,
   "id": "ff3074c0",
   "metadata": {},
   "outputs": [
    {
     "data": {
      "text/plain": [
       "array([3])"
      ]
     },
     "execution_count": 18,
     "metadata": {},
     "output_type": "execute_result"
    }
   ],
   "source": [
    "# 计算x、y、z的交集\n",
    "reduce(np.intersect1d , ([1, 3, 4, 3], [3, 1, 2, 1], [6, 3, 4, 2]))"
   ]
  },
  {
   "cell_type": "code",
   "execution_count": 19,
   "id": "790df19d",
   "metadata": {},
   "outputs": [
    {
     "data": {
      "text/plain": [
       "array([1, 2, 3, 4, 6])"
      ]
     },
     "execution_count": 19,
     "metadata": {},
     "output_type": "execute_result"
    }
   ],
   "source": [
    "# 计算x、y、z的并集\n",
    "reduce(np.union1d , ([1, 3, 4, 3], [3, 1, 2, 1], [6, 3, 4, 2]))"
   ]
  },
  {
   "cell_type": "markdown",
   "id": "bf1f3d2d",
   "metadata": {},
   "source": [
    "#### in1d(arr1，arr2)测试一维数组的每个元素是否存在于第二个数组中。"
   ]
  },
  {
   "cell_type": "code",
   "execution_count": 20,
   "id": "ad3e5e79",
   "metadata": {},
   "outputs": [],
   "source": [
    "test = np.array([0, 1, 2, 5, 0])"
   ]
  },
  {
   "cell_type": "code",
   "execution_count": 21,
   "id": "c4357ab1",
   "metadata": {},
   "outputs": [],
   "source": [
    "states = [0, 2]"
   ]
  },
  {
   "cell_type": "code",
   "execution_count": 22,
   "id": "856f753d",
   "metadata": {},
   "outputs": [
    {
     "data": {
      "text/plain": [
       "array([ True, False,  True, False,  True])"
      ]
     },
     "execution_count": 22,
     "metadata": {},
     "output_type": "execute_result"
    }
   ],
   "source": [
    "mask = np.in1d(test, states)\n",
    "mask"
   ]
  },
  {
   "cell_type": "code",
   "execution_count": 23,
   "id": "2c872880",
   "metadata": {},
   "outputs": [
    {
     "data": {
      "text/plain": [
       "array([0, 2, 0])"
      ]
     },
     "execution_count": 23,
     "metadata": {},
     "output_type": "execute_result"
    }
   ],
   "source": [
    "test[mask]"
   ]
  },
  {
   "cell_type": "code",
   "execution_count": 24,
   "id": "9415e889",
   "metadata": {},
   "outputs": [
    {
     "data": {
      "text/plain": [
       "array([False,  True, False,  True, False])"
      ]
     },
     "execution_count": 24,
     "metadata": {},
     "output_type": "execute_result"
    }
   ],
   "source": [
    "# invert参数如果为 True，则返回数组中的值被反转（即，如果 ar1 的元素在 ar2 中，则为 False，否则为 True）。默认为假。\n",
    "mask = np.in1d(test, states, invert=True)\n",
    "mask"
   ]
  },
  {
   "cell_type": "code",
   "execution_count": 25,
   "id": "596bddad",
   "metadata": {},
   "outputs": [
    {
     "data": {
      "text/plain": [
       "array([1, 5])"
      ]
     },
     "execution_count": 25,
     "metadata": {},
     "output_type": "execute_result"
    }
   ],
   "source": [
    "test[mask]"
   ]
  },
  {
   "cell_type": "markdown",
   "id": "454f5b70",
   "metadata": {},
   "source": [
    "#### isin(element, test_elements)返回一个与 element 形状相同的布尔数组，如果 element 的元素在 test_elements 中，则为 True，否则为 False。"
   ]
  },
  {
   "cell_type": "code",
   "execution_count": 26,
   "id": "af8c484b",
   "metadata": {},
   "outputs": [
    {
     "data": {
      "text/plain": [
       "array([[0, 2],\n",
       "       [4, 6]])"
      ]
     },
     "execution_count": 26,
     "metadata": {},
     "output_type": "execute_result"
    }
   ],
   "source": [
    "element = 2*np.arange(4).reshape((2, 2))\n",
    "element"
   ]
  },
  {
   "cell_type": "code",
   "execution_count": 27,
   "id": "29fc929e",
   "metadata": {},
   "outputs": [],
   "source": [
    "test_elements = [1, 2, 4, 8]"
   ]
  },
  {
   "cell_type": "code",
   "execution_count": 28,
   "id": "a28a1ad3",
   "metadata": {},
   "outputs": [
    {
     "data": {
      "text/plain": [
       "array([[False,  True],\n",
       "       [ True, False]])"
      ]
     },
     "execution_count": 28,
     "metadata": {},
     "output_type": "execute_result"
    }
   ],
   "source": [
    "mask = np.isin(element, test_elements)\n",
    "mask"
   ]
  },
  {
   "cell_type": "code",
   "execution_count": 29,
   "id": "53a3b475",
   "metadata": {},
   "outputs": [
    {
     "data": {
      "text/plain": [
       "array([2, 4])"
      ]
     },
     "execution_count": 29,
     "metadata": {},
     "output_type": "execute_result"
    }
   ],
   "source": [
    "element[mask]"
   ]
  },
  {
   "cell_type": "code",
   "execution_count": null,
   "id": "e5b0bf90",
   "metadata": {},
   "outputs": [],
   "source": []
  },
  {
   "cell_type": "code",
   "execution_count": null,
   "id": "1cd6fc10",
   "metadata": {},
   "outputs": [],
   "source": []
  },
  {
   "cell_type": "code",
   "execution_count": null,
   "id": "c3d7e293",
   "metadata": {},
   "outputs": [],
   "source": []
  },
  {
   "cell_type": "code",
   "execution_count": null,
   "id": "1aaad089",
   "metadata": {},
   "outputs": [],
   "source": []
  }
 ],
 "metadata": {
  "kernelspec": {
   "display_name": "Python 3 (ipykernel)",
   "language": "python",
   "name": "python3"
  },
  "language_info": {
   "codemirror_mode": {
    "name": "ipython",
    "version": 3
   },
   "file_extension": ".py",
   "mimetype": "text/x-python",
   "name": "python",
   "nbconvert_exporter": "python",
   "pygments_lexer": "ipython3",
   "version": "3.9.12"
  }
 },
 "nbformat": 4,
 "nbformat_minor": 5
}
