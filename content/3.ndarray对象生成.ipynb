{
 "cells": [
  {
   "cell_type": "code",
   "execution_count": 1,
   "id": "4dece804",
   "metadata": {},
   "outputs": [],
   "source": [
    "import numpy as np"
   ]
  },
  {
   "cell_type": "markdown",
   "id": "ea4cc068",
   "metadata": {},
   "source": [
    "# 1.生成ndarray："
   ]
  },
  {
   "cell_type": "markdown",
   "id": "7d081c77",
   "metadata": {},
   "source": [
    "### 1.1 使用array函数生成ndarray："
   ]
  },
  {
   "cell_type": "code",
   "execution_count": 2,
   "id": "0f0bec0e",
   "metadata": {},
   "outputs": [
    {
     "data": {
      "text/plain": [
       "array([1.1, 2.2, 3.3, 4.4])"
      ]
     },
     "execution_count": 2,
     "metadata": {},
     "output_type": "execute_result"
    }
   ],
   "source": [
    "np.array([1.1 , 2.2 , 3.3 , 4.4])"
   ]
  },
  {
   "cell_type": "code",
   "execution_count": 3,
   "id": "b0014588",
   "metadata": {},
   "outputs": [
    {
     "data": {
      "text/plain": [
       "array([[1.1, 2.2, 3.3, 4.4],\n",
       "       [5.5, 6.6, 7.7, 8.8]])"
      ]
     },
     "execution_count": 3,
     "metadata": {},
     "output_type": "execute_result"
    }
   ],
   "source": [
    "np.array([[1.1 , 2.2 , 3.3 , 4.4] , [5.5 , 6.6 , 7.7 , 8.8]])"
   ]
  },
  {
   "cell_type": "code",
   "execution_count": 4,
   "id": "860489e2",
   "metadata": {},
   "outputs": [
    {
     "data": {
      "text/plain": [
       "array([1.1, 2.2, 3.3, 4.4])"
      ]
     },
     "execution_count": 4,
     "metadata": {},
     "output_type": "execute_result"
    }
   ],
   "source": [
    "np.array((1.1 , 2.2 , 3.3 , 4.4))"
   ]
  },
  {
   "cell_type": "markdown",
   "id": "d003e21b",
   "metadata": {},
   "source": [
    "### 1.2 使用生成函数生成ndarray："
   ]
  },
  {
   "cell_type": "code",
   "execution_count": 5,
   "id": "ad25b929",
   "metadata": {},
   "outputs": [
    {
     "data": {
      "text/plain": [
       "array([1.1, 2.2, 3.3, 4.4])"
      ]
     },
     "execution_count": 5,
     "metadata": {},
     "output_type": "execute_result"
    }
   ],
   "source": [
    "# np.asarray()——将输入转换为ndarray\n",
    "np.asarray([1.1 , 2.2 , 3.3 , 4.4])"
   ]
  },
  {
   "cell_type": "code",
   "execution_count": 6,
   "id": "556d8054",
   "metadata": {
    "scrolled": true
   },
   "outputs": [
    {
     "data": {
      "text/plain": [
       "array([5.5, 6.6, 7.7, 8.8])"
      ]
     },
     "execution_count": 6,
     "metadata": {},
     "output_type": "execute_result"
    }
   ],
   "source": [
    "# np.asarray()——将输入转换为ndarray，但是如果输入已经是ndarray则不再复制\n",
    "arr = np.array([5.5 , 6.6 , 7.7 , 8.8])\n",
    "np.asarray(arr)"
   ]
  },
  {
   "cell_type": "code",
   "execution_count": 7,
   "id": "e1101a9a",
   "metadata": {},
   "outputs": [
    {
     "data": {
      "text/plain": [
       "array([0, 1, 2, 3, 4, 5, 6, 7, 8, 9])"
      ]
     },
     "execution_count": 7,
     "metadata": {},
     "output_type": "execute_result"
    }
   ],
   "source": [
    "# np.arange(n)——类似range()函数，返回ndarray类型，元素从0到n-1\n",
    "arr = np.arange(10)\n",
    "arr"
   ]
  },
  {
   "cell_type": "code",
   "execution_count": 8,
   "id": "ced43646",
   "metadata": {},
   "outputs": [
    {
     "data": {
      "text/plain": [
       "array([[1., 1., 1.],\n",
       "       [1., 1., 1.]])"
      ]
     },
     "execution_count": 8,
     "metadata": {},
     "output_type": "execute_result"
    }
   ],
   "source": [
    "# np.ones(shape)——根据shape生成一个全1数组，shape是元祖类型\n",
    "np.ones((2,3))"
   ]
  },
  {
   "cell_type": "code",
   "execution_count": 9,
   "id": "63a82926",
   "metadata": {},
   "outputs": [
    {
     "data": {
      "text/plain": [
       "array([[[1.1, 2.2],\n",
       "        [3.3, 4.4]],\n",
       "\n",
       "       [[5.5, 6.6],\n",
       "        [7.7, 8.8]]])"
      ]
     },
     "execution_count": 9,
     "metadata": {},
     "output_type": "execute_result"
    }
   ],
   "source": [
    "# np.ones_like(a)——根据数组a的形状生成一个全1数组\n",
    "arr = np.array([[[1.1 , 2.2] , [3.3 , 4.4]] , [[5.5 , 6.6] , [7.7 , 8.8]]])\n",
    "arr"
   ]
  },
  {
   "cell_type": "code",
   "execution_count": 10,
   "id": "db9d76cc",
   "metadata": {},
   "outputs": [
    {
     "data": {
      "text/plain": [
       "array([[[1., 1.],\n",
       "        [1., 1.]],\n",
       "\n",
       "       [[1., 1.],\n",
       "        [1., 1.]]])"
      ]
     },
     "execution_count": 10,
     "metadata": {},
     "output_type": "execute_result"
    }
   ],
   "source": [
    "np.ones_like(arr)"
   ]
  },
  {
   "cell_type": "code",
   "execution_count": 11,
   "id": "3f3c25f0",
   "metadata": {},
   "outputs": [
    {
     "data": {
      "text/plain": [
       "array([[0., 0., 0.],\n",
       "       [0., 0., 0.]])"
      ]
     },
     "execution_count": 11,
     "metadata": {},
     "output_type": "execute_result"
    }
   ],
   "source": [
    "# np.zeros(shape)——根据shape生成一个全0数组，shape是元祖类型\n",
    "np.zeros((2,3))"
   ]
  },
  {
   "cell_type": "code",
   "execution_count": 12,
   "id": "e2bba3d0",
   "metadata": {},
   "outputs": [
    {
     "data": {
      "text/plain": [
       "array([[[0., 0.],\n",
       "        [0., 0.]],\n",
       "\n",
       "       [[0., 0.],\n",
       "        [0., 0.]]])"
      ]
     },
     "execution_count": 12,
     "metadata": {},
     "output_type": "execute_result"
    }
   ],
   "source": [
    "# np.zeros_like(a)——根据数组a的形状生成一个全0数组\n",
    "arr = np.array([[[1.1 , 2.2] , [3.3 , 4.4]] , [[5.5 , 6.6] , [7.7 , 8.8]]])\n",
    "np.zeros_like(arr)"
   ]
  },
  {
   "cell_type": "code",
   "execution_count": 13,
   "id": "cbc5b1bf",
   "metadata": {},
   "outputs": [
    {
     "data": {
      "text/plain": [
       "array([[0., 0., 0.],\n",
       "       [0., 0., 0.]])"
      ]
     },
     "execution_count": 13,
     "metadata": {},
     "output_type": "execute_result"
    }
   ],
   "source": [
    "# np.empty(shape)——根据shape生成一个没有初始化数值的空数组，shape是元祖类型\n",
    "np.empty((2,3))"
   ]
  },
  {
   "cell_type": "code",
   "execution_count": 14,
   "id": "d885f8ab",
   "metadata": {},
   "outputs": [
    {
     "data": {
      "text/plain": [
       "array([[[1.1, 2.2],\n",
       "        [3.3, 4.4]],\n",
       "\n",
       "       [[5.5, 6.6],\n",
       "        [7.7, 8.8]]])"
      ]
     },
     "execution_count": 14,
     "metadata": {},
     "output_type": "execute_result"
    }
   ],
   "source": [
    "# np.empty_like(a)——根据数组a的形状生成一个没有初始化数值的空数组\n",
    "arr = np.array([[[1.1 , 2.2] , [3.3 , 4.4]] , [[5.5 , 6.6] , [7.7 , 8.8]]])\n",
    "np.empty_like(arr)"
   ]
  },
  {
   "cell_type": "code",
   "execution_count": 15,
   "id": "bb99253f",
   "metadata": {},
   "outputs": [
    {
     "data": {
      "text/plain": [
       "array([[99, 99, 99],\n",
       "       [99, 99, 99]])"
      ]
     },
     "execution_count": 15,
     "metadata": {},
     "output_type": "execute_result"
    }
   ],
   "source": [
    "# np.full(shape,val)——根据shape生成一个数组，每个元素都是val\n",
    "np.full((2,3) , 99)"
   ]
  },
  {
   "cell_type": "code",
   "execution_count": 16,
   "id": "f78fb58f",
   "metadata": {},
   "outputs": [
    {
     "data": {
      "text/plain": [
       "array([[[99., 99.],\n",
       "        [99., 99.]],\n",
       "\n",
       "       [[99., 99.],\n",
       "        [99., 99.]]])"
      ]
     },
     "execution_count": 16,
     "metadata": {},
     "output_type": "execute_result"
    }
   ],
   "source": [
    "# np.full_like(a,val)——根据数组a的形状生成一个数组，每个元素值都是val\n",
    "arr = np.array([[[1.1 , 2.2] , [3.3 , 4.4]] , [[5.5 , 6.6] , [7.7 , 8.8]]])\n",
    "np.full_like(arr , 99)"
   ]
  },
  {
   "cell_type": "code",
   "execution_count": 17,
   "id": "5ccc2ef4",
   "metadata": {},
   "outputs": [
    {
     "data": {
      "text/plain": [
       "array([[1., 0., 0., 0., 0.],\n",
       "       [0., 1., 0., 0., 0.],\n",
       "       [0., 0., 1., 0., 0.],\n",
       "       [0., 0., 0., 1., 0.],\n",
       "       [0., 0., 0., 0., 1.]])"
      ]
     },
     "execution_count": 17,
     "metadata": {},
     "output_type": "execute_result"
    }
   ],
   "source": [
    "# np.eye(n)——创建一个正方的n×n单位矩阵，对角线为1，其余为0\n",
    "np.eye(5)"
   ]
  },
  {
   "cell_type": "code",
   "execution_count": 18,
   "id": "a4122050",
   "metadata": {},
   "outputs": [
    {
     "data": {
      "text/plain": [
       "array([ 0. ,  2.5,  5. ,  7.5, 10. ])"
      ]
     },
     "execution_count": 18,
     "metadata": {},
     "output_type": "execute_result"
    }
   ],
   "source": [
    "# np.linspace(start, stop, num, endpoint, retstep, dtype)\n",
    "\n",
    "# star和stop为起始和终止位置，均为标量\n",
    "# num为包括start和stop的间隔点总数，默认为50\n",
    "# endpoint为bool值，为False时将会去掉最后一个点计算间隔\n",
    "# restep为bool值，为True时会同时返回数据列表和间隔值\n",
    "# dtype默认为输入变量的类型，给定类型后将会把生成的数组类型转为目标类型\n",
    "np.linspace(0,10 , num=5)"
   ]
  },
  {
   "cell_type": "markdown",
   "id": "8467b3c8",
   "metadata": {},
   "source": [
    "# 2.ndarray对象的属性："
   ]
  },
  {
   "cell_type": "code",
   "execution_count": 19,
   "id": "aa2fb936",
   "metadata": {},
   "outputs": [
    {
     "data": {
      "text/plain": [
       "array([[[1.1, 2.2],\n",
       "        [3.3, 4.4]],\n",
       "\n",
       "       [[5.5, 6.6],\n",
       "        [7.7, 8.8]]])"
      ]
     },
     "execution_count": 19,
     "metadata": {},
     "output_type": "execute_result"
    }
   ],
   "source": [
    "arr = np.array([[[1.1 , 2.2] , [3.3 , 4.4]] , [[5.5 , 6.6] , [7.7 , 8.8]]])\n",
    "arr"
   ]
  },
  {
   "cell_type": "code",
   "execution_count": 20,
   "id": "623714c1",
   "metadata": {},
   "outputs": [
    {
     "data": {
      "text/plain": [
       "3"
      ]
     },
     "execution_count": 20,
     "metadata": {},
     "output_type": "execute_result"
    }
   ],
   "source": [
    "# 轴的数量或维度的数量\n",
    "arr.ndim"
   ]
  },
  {
   "cell_type": "code",
   "execution_count": 21,
   "id": "9c6e3b3c",
   "metadata": {},
   "outputs": [
    {
     "data": {
      "text/plain": [
       "(2, 2, 2)"
      ]
     },
     "execution_count": 21,
     "metadata": {},
     "output_type": "execute_result"
    }
   ],
   "source": [
    "# ndarray对象尺度\n",
    "arr.shape"
   ]
  },
  {
   "cell_type": "code",
   "execution_count": 22,
   "id": "cecda660",
   "metadata": {},
   "outputs": [
    {
     "data": {
      "text/plain": [
       "8"
      ]
     },
     "execution_count": 22,
     "metadata": {},
     "output_type": "execute_result"
    }
   ],
   "source": [
    "# ndarray对象元素的个数\n",
    "arr.size"
   ]
  },
  {
   "cell_type": "code",
   "execution_count": 23,
   "id": "c5aff1a2",
   "metadata": {},
   "outputs": [
    {
     "data": {
      "text/plain": [
       "dtype('float64')"
      ]
     },
     "execution_count": 23,
     "metadata": {},
     "output_type": "execute_result"
    }
   ],
   "source": [
    "# ndarray对象的元素类型\n",
    "arr.dtype"
   ]
  },
  {
   "cell_type": "code",
   "execution_count": 24,
   "id": "f1629715",
   "metadata": {},
   "outputs": [
    {
     "data": {
      "text/plain": [
       "8"
      ]
     },
     "execution_count": 24,
     "metadata": {},
     "output_type": "execute_result"
    }
   ],
   "source": [
    "# ndarray对象中每个元素的大小，以字节为单位\n",
    "arr.itemsize"
   ]
  },
  {
   "cell_type": "code",
   "execution_count": null,
   "id": "be38ad8e",
   "metadata": {},
   "outputs": [],
   "source": []
  }
 ],
 "metadata": {
  "kernelspec": {
   "display_name": "Python 3 (ipykernel)",
   "language": "python",
   "name": "python3"
  },
  "language_info": {
   "codemirror_mode": {
    "name": "ipython",
    "version": 3
   },
   "file_extension": ".py",
   "mimetype": "text/x-python",
   "name": "python",
   "nbconvert_exporter": "python",
   "pygments_lexer": "ipython3",
   "version": "3.9.12"
  }
 },
 "nbformat": 4,
 "nbformat_minor": 5
}
