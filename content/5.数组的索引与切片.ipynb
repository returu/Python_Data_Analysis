{
 "cells": [
  {
   "cell_type": "code",
   "execution_count": 1,
   "id": "0409f360",
   "metadata": {},
   "outputs": [],
   "source": [
    "import numpy as np"
   ]
  },
  {
   "cell_type": "markdown",
   "id": "e9da9833",
   "metadata": {},
   "source": [
    "# 1.基础索引与切片："
   ]
  },
  {
   "cell_type": "markdown",
   "id": "a45ec6a0",
   "metadata": {},
   "source": [
    "### 1.1 基础索引："
   ]
  },
  {
   "cell_type": "markdown",
   "id": "a290abab",
   "metadata": {},
   "source": [
    "#### 一维数组的索引：与python的列表类似"
   ]
  },
  {
   "cell_type": "code",
   "execution_count": 2,
   "id": "5d7db016",
   "metadata": {},
   "outputs": [
    {
     "data": {
      "text/plain": [
       "array([9, 8, 7, 6, 5])"
      ]
     },
     "execution_count": 2,
     "metadata": {},
     "output_type": "execute_result"
    }
   ],
   "source": [
    "arr = np.array([9,8,7,6,5])\n",
    "arr"
   ]
  },
  {
   "cell_type": "code",
   "execution_count": 3,
   "id": "b0c2d12e",
   "metadata": {},
   "outputs": [
    {
     "data": {
      "text/plain": [
       "7"
      ]
     },
     "execution_count": 3,
     "metadata": {},
     "output_type": "execute_result"
    }
   ],
   "source": [
    "arr[2]"
   ]
  },
  {
   "cell_type": "markdown",
   "id": "aa704dbc",
   "metadata": {},
   "source": [
    "#### 多维数组的索引：每个维度一个索引值，以逗号分隔"
   ]
  },
  {
   "cell_type": "code",
   "execution_count": 4,
   "id": "325a82a7",
   "metadata": {},
   "outputs": [
    {
     "data": {
      "text/plain": [
       "array([[9, 8, 7],\n",
       "       [6, 5, 4],\n",
       "       [3, 2, 1]])"
      ]
     },
     "execution_count": 4,
     "metadata": {},
     "output_type": "execute_result"
    }
   ],
   "source": [
    "# 二维数组\n",
    "arr_2d = np.array([[9,8,7] , [6,5,4] , [3,2,1]])\n",
    "arr_2d"
   ]
  },
  {
   "cell_type": "code",
   "execution_count": 5,
   "id": "fe01398a",
   "metadata": {},
   "outputs": [
    {
     "data": {
      "text/plain": [
       "(3, 3)"
      ]
     },
     "execution_count": 5,
     "metadata": {},
     "output_type": "execute_result"
    }
   ],
   "source": [
    "# 查看数组的形状尺度\n",
    "arr_2d.shape"
   ]
  },
  {
   "cell_type": "code",
   "execution_count": 6,
   "id": "1f36bb63",
   "metadata": {},
   "outputs": [
    {
     "data": {
      "text/plain": [
       "4"
      ]
     },
     "execution_count": 6,
     "metadata": {},
     "output_type": "execute_result"
    }
   ],
   "source": [
    "# 在第一个维度上获取第2个，在第二个维度上获取第3个\n",
    "arr_2d[1,2]"
   ]
  },
  {
   "cell_type": "code",
   "execution_count": 7,
   "id": "13d8ae19",
   "metadata": {},
   "outputs": [
    {
     "data": {
      "text/plain": [
       "4"
      ]
     },
     "execution_count": 7,
     "metadata": {},
     "output_type": "execute_result"
    }
   ],
   "source": [
    "# 单个元素的获取也可以通过递归的方式获得\n",
    "arr_2d[1][2]"
   ]
  },
  {
   "cell_type": "code",
   "execution_count": 8,
   "id": "c0400ba7",
   "metadata": {},
   "outputs": [
    {
     "data": {
      "text/plain": [
       "(2, 2)"
      ]
     },
     "execution_count": 8,
     "metadata": {},
     "output_type": "execute_result"
    }
   ],
   "source": [
    "arr_2d[-1,-2] , arr_2d[-1][-2]"
   ]
  },
  {
   "cell_type": "code",
   "execution_count": 9,
   "id": "6e3d7193",
   "metadata": {},
   "outputs": [
    {
     "data": {
      "text/plain": [
       "array([[[12, 11, 10],\n",
       "        [ 9,  8,  7]],\n",
       "\n",
       "       [[ 6,  5,  4],\n",
       "        [ 3,  2,  1]]])"
      ]
     },
     "execution_count": 9,
     "metadata": {},
     "output_type": "execute_result"
    }
   ],
   "source": [
    "# 三维数组\n",
    "arr_3d = np.array([[[12,11,10] , [9,8,7]] , [[6,5,4] , [3,2,1]]])\n",
    "arr_3d"
   ]
  },
  {
   "cell_type": "code",
   "execution_count": 10,
   "id": "3dee41f6",
   "metadata": {},
   "outputs": [
    {
     "data": {
      "text/plain": [
       "(2, 2, 3)"
      ]
     },
     "execution_count": 10,
     "metadata": {},
     "output_type": "execute_result"
    }
   ],
   "source": [
    "arr_3d.shape"
   ]
  },
  {
   "cell_type": "code",
   "execution_count": 11,
   "id": "15b29552",
   "metadata": {},
   "outputs": [
    {
     "data": {
      "text/plain": [
       "4"
      ]
     },
     "execution_count": 11,
     "metadata": {},
     "output_type": "execute_result"
    }
   ],
   "source": [
    "arr_3d[1,0,2]"
   ]
  },
  {
   "cell_type": "code",
   "execution_count": 12,
   "id": "0c95050d",
   "metadata": {},
   "outputs": [
    {
     "data": {
      "text/plain": [
       "4"
      ]
     },
     "execution_count": 12,
     "metadata": {},
     "output_type": "execute_result"
    }
   ],
   "source": [
    "arr_3d[1][0][2]"
   ]
  },
  {
   "cell_type": "code",
   "execution_count": 13,
   "id": "2b5fe30b",
   "metadata": {},
   "outputs": [
    {
     "data": {
      "text/plain": [
       "(2, 2)"
      ]
     },
     "execution_count": 13,
     "metadata": {},
     "output_type": "execute_result"
    }
   ],
   "source": [
    "arr_3d[-1,-1,-2] , arr_3d[-1][-1][-2]"
   ]
  },
  {
   "cell_type": "markdown",
   "id": "4806c78b",
   "metadata": {},
   "source": [
    "### 1.2 基础切片："
   ]
  },
  {
   "cell_type": "markdown",
   "id": "fd93585a",
   "metadata": {},
   "source": [
    "#### 一维数组的索引：与python的列表类似"
   ]
  },
  {
   "cell_type": "code",
   "execution_count": 14,
   "id": "d7dbb9e8",
   "metadata": {},
   "outputs": [
    {
     "data": {
      "text/plain": [
       "array([9, 8, 7, 6, 5])"
      ]
     },
     "execution_count": 14,
     "metadata": {},
     "output_type": "execute_result"
    }
   ],
   "source": [
    "arr = np.array([9,8,7,6,5])\n",
    "arr"
   ]
  },
  {
   "cell_type": "code",
   "execution_count": 15,
   "id": "81af06eb",
   "metadata": {},
   "outputs": [
    {
     "data": {
      "text/plain": [
       "array([8, 6])"
      ]
     },
     "execution_count": 15,
     "metadata": {},
     "output_type": "execute_result"
    }
   ],
   "source": [
    "arr[1:4:2]"
   ]
  },
  {
   "cell_type": "markdown",
   "id": "658c8131",
   "metadata": {},
   "source": [
    "#### 多维数组的切片："
   ]
  },
  {
   "cell_type": "code",
   "execution_count": 16,
   "id": "0e5e5a02",
   "metadata": {},
   "outputs": [
    {
     "data": {
      "text/plain": [
       "array([[9, 8, 7],\n",
       "       [6, 5, 4],\n",
       "       [3, 2, 1]])"
      ]
     },
     "execution_count": 16,
     "metadata": {},
     "output_type": "execute_result"
    }
   ],
   "source": [
    "# 二维数组\n",
    "arr_2d = np.array([[9,8,7] , [6,5,4] , [3,2,1]])\n",
    "arr_2d"
   ]
  },
  {
   "cell_type": "code",
   "execution_count": 17,
   "id": "6fae1eec",
   "metadata": {},
   "outputs": [
    {
     "data": {
      "text/plain": [
       "(3, 3)"
      ]
     },
     "execution_count": 17,
     "metadata": {},
     "output_type": "execute_result"
    }
   ],
   "source": [
    "arr_2d.shape"
   ]
  },
  {
   "cell_type": "code",
   "execution_count": 18,
   "id": "4a76ff18",
   "metadata": {},
   "outputs": [
    {
     "data": {
      "text/plain": [
       "array([[6, 5],\n",
       "       [3, 2]])"
      ]
     },
     "execution_count": 18,
     "metadata": {},
     "output_type": "execute_result"
    }
   ],
   "source": [
    "arr_2d[1: , :2]"
   ]
  },
  {
   "cell_type": "code",
   "execution_count": 19,
   "id": "7307621e",
   "metadata": {},
   "outputs": [
    {
     "data": {
      "text/plain": [
       "(2, 2)"
      ]
     },
     "execution_count": 19,
     "metadata": {},
     "output_type": "execute_result"
    }
   ],
   "source": [
    "arr_2d[1: , :2].shape"
   ]
  },
  {
   "cell_type": "code",
   "execution_count": 20,
   "id": "32d66b56",
   "metadata": {},
   "outputs": [
    {
     "data": {
      "text/plain": [
       "array([[[18, 17, 16],\n",
       "        [15, 14, 13],\n",
       "        [12, 11, 10]],\n",
       "\n",
       "       [[ 9,  8,  7],\n",
       "        [ 6,  5,  4],\n",
       "        [ 3,  2,  1]]])"
      ]
     },
     "execution_count": 20,
     "metadata": {},
     "output_type": "execute_result"
    }
   ],
   "source": [
    "# 三维数组\n",
    "arr_3d = np.array([[[18,17,16] , [15,14,13] , [12,11,10]] , [[9,8,7] , [6,5,4] , [3,2,1]]])\n",
    "arr_3d"
   ]
  },
  {
   "cell_type": "code",
   "execution_count": 21,
   "id": "2f05730f",
   "metadata": {},
   "outputs": [
    {
     "data": {
      "text/plain": [
       "(2, 3, 3)"
      ]
     },
     "execution_count": 21,
     "metadata": {},
     "output_type": "execute_result"
    }
   ],
   "source": [
    "arr_3d.shape"
   ]
  },
  {
   "cell_type": "code",
   "execution_count": 22,
   "id": "76799ca1",
   "metadata": {},
   "outputs": [
    {
     "data": {
      "text/plain": [
       "array([[[7],\n",
       "        [4]]])"
      ]
     },
     "execution_count": 22,
     "metadata": {},
     "output_type": "execute_result"
    }
   ],
   "source": [
    "arr_3d[1: ,:2 ,2:]"
   ]
  },
  {
   "cell_type": "code",
   "execution_count": 23,
   "id": "89c97a6c",
   "metadata": {},
   "outputs": [
    {
     "data": {
      "text/plain": [
       "(1, 2, 1)"
      ]
     },
     "execution_count": 23,
     "metadata": {},
     "output_type": "execute_result"
    }
   ],
   "source": [
    "arr_3d[1: ,:2 ,2:].shape"
   ]
  },
  {
   "cell_type": "markdown",
   "id": "53ac1423",
   "metadata": {},
   "source": [
    "#### 如果将索引和切片混合使用，可以得到低维度的切片："
   ]
  },
  {
   "cell_type": "code",
   "execution_count": 24,
   "id": "73aecba6",
   "metadata": {},
   "outputs": [
    {
     "data": {
      "text/plain": [
       "array([[9, 8, 7],\n",
       "       [6, 5, 4],\n",
       "       [3, 2, 1]])"
      ]
     },
     "execution_count": 24,
     "metadata": {},
     "output_type": "execute_result"
    }
   ],
   "source": [
    "# 二维数组\n",
    "arr_2d = np.array([[9,8,7] , [6,5,4] , [3,2,1]])\n",
    "arr_2d"
   ]
  },
  {
   "cell_type": "code",
   "execution_count": 25,
   "id": "4471227d",
   "metadata": {},
   "outputs": [
    {
     "data": {
      "text/plain": [
       "(3, 3)"
      ]
     },
     "execution_count": 25,
     "metadata": {},
     "output_type": "execute_result"
    }
   ],
   "source": [
    "arr_2d.shape"
   ]
  },
  {
   "cell_type": "code",
   "execution_count": 26,
   "id": "35d22bc6",
   "metadata": {},
   "outputs": [
    {
     "data": {
      "text/plain": [
       "array([4, 1])"
      ]
     },
     "execution_count": 26,
     "metadata": {},
     "output_type": "execute_result"
    }
   ],
   "source": [
    "arr_2d[1: , 2]"
   ]
  },
  {
   "cell_type": "code",
   "execution_count": 27,
   "id": "5cec2f3f",
   "metadata": {},
   "outputs": [
    {
     "data": {
      "text/plain": [
       "(2,)"
      ]
     },
     "execution_count": 27,
     "metadata": {},
     "output_type": "execute_result"
    }
   ],
   "source": [
    "arr_2d[1: , 2].shape"
   ]
  },
  {
   "cell_type": "code",
   "execution_count": 28,
   "id": "ca14be7a",
   "metadata": {},
   "outputs": [
    {
     "data": {
      "text/plain": [
       "array([[[18, 17, 16],\n",
       "        [15, 14, 13],\n",
       "        [12, 11, 10]],\n",
       "\n",
       "       [[ 9,  8,  7],\n",
       "        [ 6,  5,  4],\n",
       "        [ 3,  2,  1]]])"
      ]
     },
     "execution_count": 28,
     "metadata": {},
     "output_type": "execute_result"
    }
   ],
   "source": [
    "# 三维数组\n",
    "arr_3d = np.array([[[18,17,16] , [15,14,13] , [12,11,10]] , [[9,8,7] , [6,5,4] , [3,2,1]]])\n",
    "arr_3d"
   ]
  },
  {
   "cell_type": "code",
   "execution_count": 29,
   "id": "80905b53",
   "metadata": {},
   "outputs": [
    {
     "data": {
      "text/plain": [
       "(2, 3, 3)"
      ]
     },
     "execution_count": 29,
     "metadata": {},
     "output_type": "execute_result"
    }
   ],
   "source": [
    "arr_3d.shape"
   ]
  },
  {
   "cell_type": "code",
   "execution_count": 30,
   "id": "e01d1d30",
   "metadata": {},
   "outputs": [
    {
     "data": {
      "text/plain": [
       "array([[7, 4]])"
      ]
     },
     "execution_count": 30,
     "metadata": {},
     "output_type": "execute_result"
    }
   ],
   "source": [
    "arr_3d[1: ,:2 ,2]"
   ]
  },
  {
   "cell_type": "code",
   "execution_count": 31,
   "id": "57c24716",
   "metadata": {},
   "outputs": [
    {
     "data": {
      "text/plain": [
       "(1, 2)"
      ]
     },
     "execution_count": 31,
     "metadata": {},
     "output_type": "execute_result"
    }
   ],
   "source": [
    "arr_3d[1: ,:2 ,2].shape"
   ]
  },
  {
   "cell_type": "markdown",
   "id": "da58b06e",
   "metadata": {},
   "source": [
    "#### 数组切片是原始数组的视图。这意味着数据不会被复制，对视图的任何修改都会反映在源数组上。"
   ]
  },
  {
   "cell_type": "code",
   "execution_count": 32,
   "id": "41010bf5",
   "metadata": {},
   "outputs": [
    {
     "data": {
      "text/plain": [
       "array([0, 1, 2, 3, 4, 5, 6, 7, 8, 9])"
      ]
     },
     "execution_count": 32,
     "metadata": {},
     "output_type": "execute_result"
    }
   ],
   "source": [
    "arr = np.arange(10)\n",
    "arr"
   ]
  },
  {
   "cell_type": "code",
   "execution_count": 33,
   "id": "1cf0bc93",
   "metadata": {},
   "outputs": [
    {
     "data": {
      "text/plain": [
       "array([0, 2, 4, 6, 8])"
      ]
     },
     "execution_count": 33,
     "metadata": {},
     "output_type": "execute_result"
    }
   ],
   "source": [
    "arr[::2]"
   ]
  },
  {
   "cell_type": "code",
   "execution_count": 34,
   "id": "1bf32735",
   "metadata": {},
   "outputs": [],
   "source": [
    "arr[::2] = 99"
   ]
  },
  {
   "cell_type": "code",
   "execution_count": 35,
   "id": "c7ac82c1",
   "metadata": {},
   "outputs": [
    {
     "data": {
      "text/plain": [
       "array([99,  1, 99,  3, 99,  5, 99,  7, 99,  9])"
      ]
     },
     "execution_count": 35,
     "metadata": {},
     "output_type": "execute_result"
    }
   ],
   "source": [
    "arr"
   ]
  },
  {
   "cell_type": "markdown",
   "id": "739b30be",
   "metadata": {},
   "source": [
    "# 2.布尔索引："
   ]
  },
  {
   "cell_type": "code",
   "execution_count": 36,
   "id": "237efc8c",
   "metadata": {
    "scrolled": true
   },
   "outputs": [
    {
     "data": {
      "text/plain": [
       "array([[[ 18,  17, -16],\n",
       "        [ 15, -14,  13],\n",
       "        [ 12, -11, -10]],\n",
       "\n",
       "       [[  9,  -8,   7],\n",
       "        [  6,   5,  -4],\n",
       "        [  3,  -2,   1]]])"
      ]
     },
     "execution_count": 36,
     "metadata": {},
     "output_type": "execute_result"
    }
   ],
   "source": [
    "arr = np.array([[[18,17,-16] , [15,-14,13] , [12,-11,-10]] , [[9,-8,7] , [6,5,-4] , [3,-2,1]]])\n",
    "arr"
   ]
  },
  {
   "cell_type": "code",
   "execution_count": 37,
   "id": "154b8b7e",
   "metadata": {
    "scrolled": true
   },
   "outputs": [
    {
     "data": {
      "text/plain": [
       "array([[[False, False,  True],\n",
       "        [False,  True, False],\n",
       "        [False,  True,  True]],\n",
       "\n",
       "       [[False,  True, False],\n",
       "        [False, False,  True],\n",
       "        [False,  True, False]]])"
      ]
     },
     "execution_count": 37,
     "metadata": {},
     "output_type": "execute_result"
    }
   ],
   "source": [
    "arr < 0"
   ]
  },
  {
   "cell_type": "code",
   "execution_count": 38,
   "id": "2c153fb9",
   "metadata": {
    "scrolled": true
   },
   "outputs": [
    {
     "data": {
      "text/plain": [
       "array([-16, -14, -11, -10,  -8,  -4,  -2])"
      ]
     },
     "execution_count": 38,
     "metadata": {},
     "output_type": "execute_result"
    }
   ],
   "source": [
    "arr[arr < 0]"
   ]
  },
  {
   "cell_type": "code",
   "execution_count": 39,
   "id": "e2ad562d",
   "metadata": {},
   "outputs": [],
   "source": [
    "arr[arr < 0] = 0"
   ]
  },
  {
   "cell_type": "code",
   "execution_count": 40,
   "id": "e07be82e",
   "metadata": {
    "scrolled": true
   },
   "outputs": [
    {
     "data": {
      "text/plain": [
       "array([[[18, 17,  0],\n",
       "        [15,  0, 13],\n",
       "        [12,  0,  0]],\n",
       "\n",
       "       [[ 9,  0,  7],\n",
       "        [ 6,  5,  0],\n",
       "        [ 3,  0,  1]]])"
      ]
     },
     "execution_count": 40,
     "metadata": {},
     "output_type": "execute_result"
    }
   ],
   "source": [
    "arr"
   ]
  },
  {
   "cell_type": "markdown",
   "id": "c947dfe4",
   "metadata": {},
   "source": [
    "# 3.神奇索引："
   ]
  },
  {
   "cell_type": "code",
   "execution_count": 41,
   "id": "9138d80e",
   "metadata": {},
   "outputs": [
    {
     "data": {
      "text/plain": [
       "array([[18, 17, 16],\n",
       "       [15, 14, 13],\n",
       "       [12, 11, 10],\n",
       "       [ 9,  8,  7],\n",
       "       [ 6,  5,  4],\n",
       "       [ 3,  2,  1]])"
      ]
     },
     "execution_count": 41,
     "metadata": {},
     "output_type": "execute_result"
    }
   ],
   "source": [
    "arr = np.array([[18,17,16] , [15,14,13] , [12,11,10] , [9,8,7] , [6,5,4] , [3,2,1]])\n",
    "arr"
   ]
  },
  {
   "cell_type": "code",
   "execution_count": 42,
   "id": "e0d004f0",
   "metadata": {},
   "outputs": [
    {
     "data": {
      "text/plain": [
       "(6, 3)"
      ]
     },
     "execution_count": 42,
     "metadata": {},
     "output_type": "execute_result"
    }
   ],
   "source": [
    "arr.shape"
   ]
  },
  {
   "cell_type": "code",
   "execution_count": 43,
   "id": "a84038f7",
   "metadata": {},
   "outputs": [
    {
     "data": {
      "text/plain": [
       "array([[18, 17, 16],\n",
       "       [12, 11, 10],\n",
       "       [ 6,  5,  4],\n",
       "       [ 3,  2,  1]])"
      ]
     },
     "execution_count": 43,
     "metadata": {},
     "output_type": "execute_result"
    }
   ],
   "source": [
    "# 传递一个包含指明所需顺序的列表或数组\n",
    "arr[[0,2,4,5]]"
   ]
  },
  {
   "cell_type": "code",
   "execution_count": 44,
   "id": "9abae437",
   "metadata": {},
   "outputs": [
    {
     "data": {
      "text/plain": [
       "array([[18, 17, 16],\n",
       "       [12, 11, 10],\n",
       "       [ 6,  5,  4],\n",
       "       [ 3,  2,  1]])"
      ]
     },
     "execution_count": 44,
     "metadata": {},
     "output_type": "execute_result"
    }
   ],
   "source": [
    "# 传递一个包含指明所需顺序的列表或数组——负索引\n",
    "arr[[-6,-4,-2,-1]]"
   ]
  },
  {
   "cell_type": "code",
   "execution_count": 45,
   "id": "2f676afb",
   "metadata": {},
   "outputs": [
    {
     "data": {
      "text/plain": [
       "array([18, 11,  6,  2])"
      ]
     },
     "execution_count": 45,
     "metadata": {},
     "output_type": "execute_result"
    }
   ],
   "source": [
    "# 传递多个数组\n",
    "arr[[0,2,4,5] , [0,1,0,1]]"
   ]
  },
  {
   "cell_type": "code",
   "execution_count": 46,
   "id": "3624448f",
   "metadata": {},
   "outputs": [
    {
     "data": {
      "text/plain": [
       "(18, 11, 6, 2)"
      ]
     },
     "execution_count": 46,
     "metadata": {},
     "output_type": "execute_result"
    }
   ],
   "source": [
    "# 根据每个索引元祖对应的元素选出一个一维数组进行索引\n",
    "arr[0,0] , arr[2,1] , arr[4,0] , arr[5,1]"
   ]
  },
  {
   "cell_type": "code",
   "execution_count": null,
   "id": "6e7b94fd",
   "metadata": {},
   "outputs": [],
   "source": []
  },
  {
   "cell_type": "code",
   "execution_count": null,
   "id": "b54df9ca",
   "metadata": {},
   "outputs": [],
   "source": []
  }
 ],
 "metadata": {
  "kernelspec": {
   "display_name": "Python 3 (ipykernel)",
   "language": "python",
   "name": "python3"
  },
  "language_info": {
   "codemirror_mode": {
    "name": "ipython",
    "version": 3
   },
   "file_extension": ".py",
   "mimetype": "text/x-python",
   "name": "python",
   "nbconvert_exporter": "python",
   "pygments_lexer": "ipython3",
   "version": "3.9.12"
  }
 },
 "nbformat": 4,
 "nbformat_minor": 5
}
