{
 "cells": [
  {
   "cell_type": "code",
   "execution_count": 1,
   "id": "2fb8d1a0",
   "metadata": {},
   "outputs": [],
   "source": [
    "import json\n",
    "import sys\n",
    "\n",
    "import pandas as pd"
   ]
  },
  {
   "cell_type": "code",
   "execution_count": 2,
   "id": "0a4958ef",
   "metadata": {},
   "outputs": [],
   "source": [
    "obj = \"\"\"{\n",
    "\"status\": 0,\n",
    "\"message\": \"ok\",\n",
    "\"results\":[{\"name\": \"中国民生银行(安定门支行)\",\n",
    "             \"location\": {\"lat\": 39.971315,\"lng\": 116.413576},\n",
    "             \"address\": \"北京市朝阳区安定门外大街1号\"\n",
    "            },{\n",
    "             \"name\": \"北京银行(中轴路支行)\", \n",
    "             \"location\": {\"lat\": 39.957457,\"lng\": 116.40428},\n",
    "             \"address\": \"北京市东城区安德路16号(洲际大厦首层)\"\n",
    "            },{\n",
    "             \"name\": \"交通银行(北京和平里支行)\", \n",
    "             \"location\": {\"lat\": 39.968787,\"lng\": 116.410049}, \n",
    "             \"address\": \"北京市朝阳区外馆东街51号\"\n",
    "            },{\n",
    "             \"name\": \"中国进出口银行(北京分行)\",\n",
    "             \"location\": {\"lat\": 39.934898,\"lng\": 116.411758},\n",
    "             \"address\": \"北京市东城区北河沿大街77号\"\n",
    "            },{\n",
    "             \"name\": \"中国工商银行(北京地坛支行)\",\n",
    "             \"location\": {\"lat\": 39.965762,\"lng\": 116.412735},\n",
    "             \"address\": \"北京市东城区安外大街9号\"\n",
    "}\n",
    "]}\"\"\""
   ]
  },
  {
   "cell_type": "markdown",
   "id": "ed22e707",
   "metadata": {},
   "source": [
    "#### json.loads()"
   ]
  },
  {
   "cell_type": "code",
   "execution_count": 3,
   "id": "8c36d495",
   "metadata": {},
   "outputs": [
    {
     "data": {
      "text/plain": [
       "{'status': 0,\n",
       " 'message': 'ok',\n",
       " 'results': [{'name': '中国民生银行(安定门支行)',\n",
       "   'location': {'lat': 39.971315, 'lng': 116.413576},\n",
       "   'address': '北京市朝阳区安定门外大街1号'},\n",
       "  {'name': '北京银行(中轴路支行)',\n",
       "   'location': {'lat': 39.957457, 'lng': 116.40428},\n",
       "   'address': '北京市东城区安德路16号(洲际大厦首层)'},\n",
       "  {'name': '交通银行(北京和平里支行)',\n",
       "   'location': {'lat': 39.968787, 'lng': 116.410049},\n",
       "   'address': '北京市朝阳区外馆东街51号'},\n",
       "  {'name': '中国进出口银行(北京分行)',\n",
       "   'location': {'lat': 39.934898, 'lng': 116.411758},\n",
       "   'address': '北京市东城区北河沿大街77号'},\n",
       "  {'name': '中国工商银行(北京地坛支行)',\n",
       "   'location': {'lat': 39.965762, 'lng': 116.412735},\n",
       "   'address': '北京市东城区安外大街9号'}]}"
      ]
     },
     "execution_count": 3,
     "metadata": {},
     "output_type": "execute_result"
    }
   ],
   "source": [
    "result = json.loads(obj)\n",
    "result"
   ]
  },
  {
   "cell_type": "markdown",
   "id": "0a3b39f5",
   "metadata": {},
   "source": [
    "#### json.dumps()"
   ]
  },
  {
   "cell_type": "code",
   "execution_count": 4,
   "id": "635fea90",
   "metadata": {},
   "outputs": [
    {
     "data": {
      "text/plain": [
       "'{\"status\": 0, \"message\": \"ok\", \"results\": [{\"name\": \"\\\\u4e2d\\\\u56fd\\\\u6c11\\\\u751f\\\\u94f6\\\\u884c(\\\\u5b89\\\\u5b9a\\\\u95e8\\\\u652f\\\\u884c)\", \"location\": {\"lat\": 39.971315, \"lng\": 116.413576}, \"address\": \"\\\\u5317\\\\u4eac\\\\u5e02\\\\u671d\\\\u9633\\\\u533a\\\\u5b89\\\\u5b9a\\\\u95e8\\\\u5916\\\\u5927\\\\u88571\\\\u53f7\"}, {\"name\": \"\\\\u5317\\\\u4eac\\\\u94f6\\\\u884c(\\\\u4e2d\\\\u8f74\\\\u8def\\\\u652f\\\\u884c)\", \"location\": {\"lat\": 39.957457, \"lng\": 116.40428}, \"address\": \"\\\\u5317\\\\u4eac\\\\u5e02\\\\u4e1c\\\\u57ce\\\\u533a\\\\u5b89\\\\u5fb7\\\\u8def16\\\\u53f7(\\\\u6d32\\\\u9645\\\\u5927\\\\u53a6\\\\u9996\\\\u5c42)\"}, {\"name\": \"\\\\u4ea4\\\\u901a\\\\u94f6\\\\u884c(\\\\u5317\\\\u4eac\\\\u548c\\\\u5e73\\\\u91cc\\\\u652f\\\\u884c)\", \"location\": {\"lat\": 39.968787, \"lng\": 116.410049}, \"address\": \"\\\\u5317\\\\u4eac\\\\u5e02\\\\u671d\\\\u9633\\\\u533a\\\\u5916\\\\u9986\\\\u4e1c\\\\u885751\\\\u53f7\"}, {\"name\": \"\\\\u4e2d\\\\u56fd\\\\u8fdb\\\\u51fa\\\\u53e3\\\\u94f6\\\\u884c(\\\\u5317\\\\u4eac\\\\u5206\\\\u884c)\", \"location\": {\"lat\": 39.934898, \"lng\": 116.411758}, \"address\": \"\\\\u5317\\\\u4eac\\\\u5e02\\\\u4e1c\\\\u57ce\\\\u533a\\\\u5317\\\\u6cb3\\\\u6cbf\\\\u5927\\\\u885777\\\\u53f7\"}, {\"name\": \"\\\\u4e2d\\\\u56fd\\\\u5de5\\\\u5546\\\\u94f6\\\\u884c(\\\\u5317\\\\u4eac\\\\u5730\\\\u575b\\\\u652f\\\\u884c)\", \"location\": {\"lat\": 39.965762, \"lng\": 116.412735}, \"address\": \"\\\\u5317\\\\u4eac\\\\u5e02\\\\u4e1c\\\\u57ce\\\\u533a\\\\u5b89\\\\u5916\\\\u5927\\\\u88579\\\\u53f7\"}]}'"
      ]
     },
     "execution_count": 4,
     "metadata": {},
     "output_type": "execute_result"
    }
   ],
   "source": [
    "asjson = json.dumps(result)\n",
    "asjson"
   ]
  },
  {
   "cell_type": "markdown",
   "id": "dd454835",
   "metadata": {},
   "source": [
    "#### 将json数据转换为Pandas数据格式"
   ]
  },
  {
   "cell_type": "code",
   "execution_count": 5,
   "id": "a4b3227b",
   "metadata": {},
   "outputs": [
    {
     "data": {
      "text/html": [
       "<div>\n",
       "<style scoped>\n",
       "    .dataframe tbody tr th:only-of-type {\n",
       "        vertical-align: middle;\n",
       "    }\n",
       "\n",
       "    .dataframe tbody tr th {\n",
       "        vertical-align: top;\n",
       "    }\n",
       "\n",
       "    .dataframe thead th {\n",
       "        text-align: right;\n",
       "    }\n",
       "</style>\n",
       "<table border=\"1\" class=\"dataframe\">\n",
       "  <thead>\n",
       "    <tr style=\"text-align: right;\">\n",
       "      <th></th>\n",
       "      <th>name</th>\n",
       "      <th>address</th>\n",
       "    </tr>\n",
       "  </thead>\n",
       "  <tbody>\n",
       "    <tr>\n",
       "      <th>0</th>\n",
       "      <td>中国民生银行(安定门支行)</td>\n",
       "      <td>北京市朝阳区安定门外大街1号</td>\n",
       "    </tr>\n",
       "    <tr>\n",
       "      <th>1</th>\n",
       "      <td>北京银行(中轴路支行)</td>\n",
       "      <td>北京市东城区安德路16号(洲际大厦首层)</td>\n",
       "    </tr>\n",
       "    <tr>\n",
       "      <th>2</th>\n",
       "      <td>交通银行(北京和平里支行)</td>\n",
       "      <td>北京市朝阳区外馆东街51号</td>\n",
       "    </tr>\n",
       "    <tr>\n",
       "      <th>3</th>\n",
       "      <td>中国进出口银行(北京分行)</td>\n",
       "      <td>北京市东城区北河沿大街77号</td>\n",
       "    </tr>\n",
       "    <tr>\n",
       "      <th>4</th>\n",
       "      <td>中国工商银行(北京地坛支行)</td>\n",
       "      <td>北京市东城区安外大街9号</td>\n",
       "    </tr>\n",
       "  </tbody>\n",
       "</table>\n",
       "</div>"
      ],
      "text/plain": [
       "             name               address\n",
       "0   中国民生银行(安定门支行)        北京市朝阳区安定门外大街1号\n",
       "1     北京银行(中轴路支行)  北京市东城区安德路16号(洲际大厦首层)\n",
       "2   交通银行(北京和平里支行)         北京市朝阳区外馆东街51号\n",
       "3   中国进出口银行(北京分行)        北京市东城区北河沿大街77号\n",
       "4  中国工商银行(北京地坛支行)          北京市东城区安外大街9号"
      ]
     },
     "execution_count": 5,
     "metadata": {},
     "output_type": "execute_result"
    }
   ],
   "source": [
    "siblings = pd.DataFrame(result[\"results\"], columns=[\"name\",  \"address\"])\n",
    "siblings"
   ]
  },
  {
   "cell_type": "markdown",
   "id": "ac485471",
   "metadata": {},
   "source": [
    "#### pandas.read_json()"
   ]
  },
  {
   "cell_type": "code",
   "execution_count": 6,
   "id": "7f868755",
   "metadata": {},
   "outputs": [
    {
     "data": {
      "text/html": [
       "<div>\n",
       "<style scoped>\n",
       "    .dataframe tbody tr th:only-of-type {\n",
       "        vertical-align: middle;\n",
       "    }\n",
       "\n",
       "    .dataframe tbody tr th {\n",
       "        vertical-align: top;\n",
       "    }\n",
       "\n",
       "    .dataframe thead th {\n",
       "        text-align: right;\n",
       "    }\n",
       "</style>\n",
       "<table border=\"1\" class=\"dataframe\">\n",
       "  <thead>\n",
       "    <tr style=\"text-align: right;\">\n",
       "      <th></th>\n",
       "      <th>a</th>\n",
       "      <th>b</th>\n",
       "      <th>c</th>\n",
       "    </tr>\n",
       "  </thead>\n",
       "  <tbody>\n",
       "    <tr>\n",
       "      <th>0</th>\n",
       "      <td>1</td>\n",
       "      <td>2</td>\n",
       "      <td>3</td>\n",
       "    </tr>\n",
       "    <tr>\n",
       "      <th>1</th>\n",
       "      <td>4</td>\n",
       "      <td>5</td>\n",
       "      <td>6</td>\n",
       "    </tr>\n",
       "    <tr>\n",
       "      <th>2</th>\n",
       "      <td>7</td>\n",
       "      <td>8</td>\n",
       "      <td>9</td>\n",
       "    </tr>\n",
       "  </tbody>\n",
       "</table>\n",
       "</div>"
      ],
      "text/plain": [
       "   a  b  c\n",
       "0  1  2  3\n",
       "1  4  5  6\n",
       "2  7  8  9"
      ]
     },
     "execution_count": 6,
     "metadata": {},
     "output_type": "execute_result"
    }
   ],
   "source": [
    "data = pd.read_json(\"data/example.json\")\n",
    "data"
   ]
  },
  {
   "cell_type": "markdown",
   "id": "06526ee3",
   "metadata": {},
   "source": [
    "#### to_json()"
   ]
  },
  {
   "cell_type": "code",
   "execution_count": 7,
   "id": "0b9899e7",
   "metadata": {},
   "outputs": [
    {
     "name": "stdout",
     "output_type": "stream",
     "text": [
      "{\"a\":{\"0\":1,\"1\":4,\"2\":7},\"b\":{\"0\":2,\"1\":5,\"2\":8},\"c\":{\"0\":3,\"1\":6,\"2\":9}}"
     ]
    }
   ],
   "source": [
    "data.to_json(sys.stdout)"
   ]
  },
  {
   "cell_type": "code",
   "execution_count": 8,
   "id": "5aa7ee85",
   "metadata": {},
   "outputs": [
    {
     "name": "stdout",
     "output_type": "stream",
     "text": [
      "[{\"a\":1,\"b\":2,\"c\":3},{\"a\":4,\"b\":5,\"c\":6},{\"a\":7,\"b\":8,\"c\":9}]"
     ]
    }
   ],
   "source": [
    "data.to_json(sys.stdout , orient=\"records\")"
   ]
  },
  {
   "cell_type": "code",
   "execution_count": null,
   "id": "832fda0d",
   "metadata": {},
   "outputs": [],
   "source": []
  },
  {
   "cell_type": "code",
   "execution_count": null,
   "id": "2528245d",
   "metadata": {},
   "outputs": [],
   "source": []
  },
  {
   "cell_type": "code",
   "execution_count": null,
   "id": "312389d8",
   "metadata": {},
   "outputs": [],
   "source": []
  },
  {
   "cell_type": "code",
   "execution_count": null,
   "id": "58448d9e",
   "metadata": {},
   "outputs": [],
   "source": []
  },
  {
   "cell_type": "code",
   "execution_count": null,
   "id": "db9b4836",
   "metadata": {},
   "outputs": [],
   "source": []
  },
  {
   "cell_type": "code",
   "execution_count": null,
   "id": "075d7ac8",
   "metadata": {},
   "outputs": [],
   "source": []
  },
  {
   "cell_type": "code",
   "execution_count": null,
   "id": "8d900f0c",
   "metadata": {},
   "outputs": [],
   "source": []
  },
  {
   "cell_type": "code",
   "execution_count": null,
   "id": "85143e36",
   "metadata": {},
   "outputs": [],
   "source": []
  },
  {
   "cell_type": "code",
   "execution_count": null,
   "id": "a2714190",
   "metadata": {},
   "outputs": [],
   "source": []
  }
 ],
 "metadata": {
  "language_info": {
   "codemirror_mode": {
    "name": "ipython",
    "version": 3
   },
   "file_extension": ".py",
   "mimetype": "text/x-python",
   "name": "python",
   "nbconvert_exporter": "python",
   "pygments_lexer": "ipython3",
   "version": "3.9.12"
  }
 },
 "nbformat": 4,
 "nbformat_minor": 5
}
