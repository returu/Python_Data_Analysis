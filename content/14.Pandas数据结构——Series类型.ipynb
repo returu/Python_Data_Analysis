{
 "cells": [
  {
   "cell_type": "code",
   "execution_count": 1,
   "id": "af3ef87b",
   "metadata": {},
   "outputs": [],
   "source": [
    "import pandas as pd\n",
    "import numpy as np"
   ]
  },
  {
   "cell_type": "markdown",
   "id": "865dac19",
   "metadata": {},
   "source": [
    "## 3.2 Series类型的创建"
   ]
  },
  {
   "cell_type": "markdown",
   "id": "fd232e94",
   "metadata": {},
   "source": [
    "#### Python列表："
   ]
  },
  {
   "cell_type": "code",
   "execution_count": 2,
   "id": "b909dd6f",
   "metadata": {},
   "outputs": [
    {
     "data": {
      "text/plain": [
       "0     2\n",
       "1     5\n",
       "2     8\n",
       "3   -12\n",
       "dtype: int64"
      ]
     },
     "execution_count": 2,
     "metadata": {},
     "output_type": "execute_result"
    }
   ],
   "source": [
    "obj = pd.Series([2,5,8,-12])\n",
    "obj"
   ]
  },
  {
   "cell_type": "code",
   "execution_count": 3,
   "id": "7be67f5d",
   "metadata": {},
   "outputs": [
    {
     "data": {
      "text/plain": [
       "a     2\n",
       "b     5\n",
       "c     8\n",
       "d   -12\n",
       "dtype: int64"
      ]
     },
     "execution_count": 3,
     "metadata": {},
     "output_type": "execute_result"
    }
   ],
   "source": [
    "# 通过index参数指定索引序列\n",
    "obj = pd.Series([2,5,8,-12] , index=['a','b','c','d'])\n",
    "obj"
   ]
  },
  {
   "cell_type": "markdown",
   "id": "0489184e",
   "metadata": {},
   "source": [
    "#### 标量值："
   ]
  },
  {
   "cell_type": "code",
   "execution_count": 4,
   "id": "82442eb4",
   "metadata": {},
   "outputs": [
    {
     "data": {
      "text/plain": [
       "a    25\n",
       "b    25\n",
       "c    25\n",
       "d    25\n",
       "e    25\n",
       "dtype: int64"
      ]
     },
     "execution_count": 4,
     "metadata": {},
     "output_type": "execute_result"
    }
   ],
   "source": [
    "obj = pd.Series(25 , index=['a','b','c','d','e'])\n",
    "obj"
   ]
  },
  {
   "cell_type": "markdown",
   "id": "884f5feb",
   "metadata": {},
   "source": [
    "#### Python字典："
   ]
  },
  {
   "cell_type": "code",
   "execution_count": 5,
   "id": "017cb66a",
   "metadata": {},
   "outputs": [
    {
     "data": {
      "text/plain": [
       "d    9\n",
       "a    8\n",
       "b    7\n",
       "c    6\n",
       "dtype: int64"
      ]
     },
     "execution_count": 5,
     "metadata": {},
     "output_type": "execute_result"
    }
   ],
   "source": [
    "obj = pd.Series({'d': 9,'a': 8,'b': 7,'c': 6})\n",
    "obj"
   ]
  },
  {
   "cell_type": "code",
   "execution_count": 6,
   "id": "e7a791d8",
   "metadata": {},
   "outputs": [
    {
     "data": {
      "text/plain": [
       "{'d': 9, 'a': 8, 'b': 7, 'c': 6}"
      ]
     },
     "execution_count": 6,
     "metadata": {},
     "output_type": "execute_result"
    }
   ],
   "source": [
    "# 使用 to_dict 方法将 Series 转换回字典\n",
    "obj.to_dict()"
   ]
  },
  {
   "cell_type": "code",
   "execution_count": 7,
   "id": "d1d6e517",
   "metadata": {},
   "outputs": [
    {
     "data": {
      "text/plain": [
       "a    8\n",
       "b    7\n",
       "c    6\n",
       "d    9\n",
       "dtype: int64"
      ]
     },
     "execution_count": 7,
     "metadata": {},
     "output_type": "execute_result"
    }
   ],
   "source": [
    "# 通过传递index索引序列，从而使得生成的Series的索引顺序符合预期\n",
    "obj = pd.Series({'d': 9,'a': 8,'b': 7,'c': 6},index=['a','b','c','d'])\n",
    "obj"
   ]
  },
  {
   "cell_type": "markdown",
   "id": "2c42c1ac",
   "metadata": {},
   "source": [
    "#### ndarray数组："
   ]
  },
  {
   "cell_type": "code",
   "execution_count": 8,
   "id": "164c7c0a",
   "metadata": {},
   "outputs": [
    {
     "data": {
      "text/plain": [
       "0    0\n",
       "1    1\n",
       "2    2\n",
       "3    3\n",
       "4    4\n",
       "dtype: int32"
      ]
     },
     "execution_count": 8,
     "metadata": {},
     "output_type": "execute_result"
    }
   ],
   "source": [
    "obj = pd.Series(np.arange(5))\n",
    "obj"
   ]
  },
  {
   "cell_type": "code",
   "execution_count": 9,
   "id": "52f93f8f",
   "metadata": {},
   "outputs": [
    {
     "data": {
      "text/plain": [
       "9    0\n",
       "8    1\n",
       "7    2\n",
       "6    3\n",
       "5    4\n",
       "dtype: int32"
      ]
     },
     "execution_count": 9,
     "metadata": {},
     "output_type": "execute_result"
    }
   ],
   "source": [
    "obj = pd.Series(np.arange(5) , index=np.arange(9,4,-1))\n",
    "obj"
   ]
  },
  {
   "cell_type": "markdown",
   "id": "883df79b",
   "metadata": {},
   "source": [
    "## 3.3 检查缺失数据："
   ]
  },
  {
   "cell_type": "code",
   "execution_count": 10,
   "id": "6a35f012",
   "metadata": {},
   "outputs": [
    {
     "data": {
      "text/plain": [
       "a    8.0\n",
       "b    7.0\n",
       "c    6.0\n",
       "d    9.0\n",
       "e    NaN\n",
       "dtype: float64"
      ]
     },
     "execution_count": 10,
     "metadata": {},
     "output_type": "execute_result"
    }
   ],
   "source": [
    "obj = pd.Series({'d': 9,'a': 8,'b': 7,'c': 6},index=['a','b','c','d','e'])\n",
    "obj"
   ]
  },
  {
   "cell_type": "markdown",
   "id": "08af078d",
   "metadata": {},
   "source": [
    "#### 使用isnull()和notnull()来检查缺失数据"
   ]
  },
  {
   "cell_type": "code",
   "execution_count": 11,
   "id": "5d6620c8",
   "metadata": {},
   "outputs": [
    {
     "data": {
      "text/plain": [
       "a    False\n",
       "b    False\n",
       "c    False\n",
       "d    False\n",
       "e     True\n",
       "dtype: bool"
      ]
     },
     "execution_count": 11,
     "metadata": {},
     "output_type": "execute_result"
    }
   ],
   "source": [
    "pd.isnull(obj)"
   ]
  },
  {
   "cell_type": "code",
   "execution_count": 12,
   "id": "20c8485e",
   "metadata": {},
   "outputs": [
    {
     "data": {
      "text/plain": [
       "a     True\n",
       "b     True\n",
       "c     True\n",
       "d     True\n",
       "e    False\n",
       "dtype: bool"
      ]
     },
     "execution_count": 12,
     "metadata": {},
     "output_type": "execute_result"
    }
   ],
   "source": [
    "pd.notnull(obj)"
   ]
  },
  {
   "cell_type": "markdown",
   "id": "9646b0b6",
   "metadata": {},
   "source": [
    "#### isnull()和notnull()也是Series对象的实例方法"
   ]
  },
  {
   "cell_type": "code",
   "execution_count": 13,
   "id": "6732bfce",
   "metadata": {},
   "outputs": [
    {
     "data": {
      "text/plain": [
       "a    False\n",
       "b    False\n",
       "c    False\n",
       "d    False\n",
       "e     True\n",
       "dtype: bool"
      ]
     },
     "execution_count": 13,
     "metadata": {},
     "output_type": "execute_result"
    }
   ],
   "source": [
    "obj.isnull()"
   ]
  },
  {
   "cell_type": "code",
   "execution_count": 14,
   "id": "2ba41a69",
   "metadata": {},
   "outputs": [
    {
     "data": {
      "text/plain": [
       "a     True\n",
       "b     True\n",
       "c     True\n",
       "d     True\n",
       "e    False\n",
       "dtype: bool"
      ]
     },
     "execution_count": 14,
     "metadata": {},
     "output_type": "execute_result"
    }
   ],
   "source": [
    "obj.notnull()"
   ]
  },
  {
   "cell_type": "markdown",
   "id": "f7d5ce2b",
   "metadata": {},
   "source": [
    "## 3.4 values和index属性："
   ]
  },
  {
   "cell_type": "code",
   "execution_count": 15,
   "id": "7d9cdb73",
   "metadata": {},
   "outputs": [
    {
     "data": {
      "text/plain": [
       "a    8\n",
       "b    7\n",
       "c    6\n",
       "d    9\n",
       "dtype: int64"
      ]
     },
     "execution_count": 15,
     "metadata": {},
     "output_type": "execute_result"
    }
   ],
   "source": [
    "obj = pd.Series({'d': 9,'a': 8,'b': 7,'c': 6},index=['a','b','c','d'])\n",
    "obj"
   ]
  },
  {
   "cell_type": "markdown",
   "id": "9d75845f",
   "metadata": {},
   "source": [
    "#### 通过array和index属性分别获得Series对象的值数组和索引信息"
   ]
  },
  {
   "cell_type": "code",
   "execution_count": 16,
   "id": "9f724091",
   "metadata": {},
   "outputs": [
    {
     "data": {
      "text/plain": [
       "<PandasArray>\n",
       "[8, 7, 6, 9]\n",
       "Length: 4, dtype: int64"
      ]
     },
     "execution_count": 16,
     "metadata": {},
     "output_type": "execute_result"
    }
   ],
   "source": [
    "obj.array"
   ]
  },
  {
   "cell_type": "code",
   "execution_count": 17,
   "id": "52b9718c",
   "metadata": {},
   "outputs": [
    {
     "data": {
      "text/plain": [
       "Index(['a', 'b', 'c', 'd'], dtype='object')"
      ]
     },
     "execution_count": 17,
     "metadata": {},
     "output_type": "execute_result"
    }
   ],
   "source": [
    "obj.index"
   ]
  },
  {
   "cell_type": "markdown",
   "id": "728a92cd",
   "metadata": {},
   "source": [
    "#### 通过标签索引的方式选择数据"
   ]
  },
  {
   "cell_type": "code",
   "execution_count": 18,
   "id": "3d21743b",
   "metadata": {},
   "outputs": [
    {
     "data": {
      "text/plain": [
       "8"
      ]
     },
     "execution_count": 18,
     "metadata": {},
     "output_type": "execute_result"
    }
   ],
   "source": [
    "# 获取单个数据\n",
    "obj[0]"
   ]
  },
  {
   "cell_type": "code",
   "execution_count": 19,
   "id": "bb6fe2f7",
   "metadata": {},
   "outputs": [
    {
     "data": {
      "text/plain": [
       "8"
      ]
     },
     "execution_count": 19,
     "metadata": {},
     "output_type": "execute_result"
    }
   ],
   "source": [
    "obj['a']"
   ]
  },
  {
   "cell_type": "code",
   "execution_count": 20,
   "id": "805de819",
   "metadata": {},
   "outputs": [
    {
     "data": {
      "text/plain": [
       "d    9\n",
       "a    8\n",
       "c    6\n",
       "dtype: int64"
      ]
     },
     "execution_count": 20,
     "metadata": {},
     "output_type": "execute_result"
    }
   ],
   "source": [
    "# 使用索引列表，获取一组数据\n",
    "obj[['d','a','c']]"
   ]
  },
  {
   "cell_type": "markdown",
   "id": "0fa79db0",
   "metadata": {},
   "source": [
    "#### 通过按位置赋值的方式更改Series对象索引"
   ]
  },
  {
   "cell_type": "code",
   "execution_count": 21,
   "id": "7fac3732",
   "metadata": {},
   "outputs": [
    {
     "data": {
      "text/plain": [
       "AA    8\n",
       "BB    7\n",
       "CC    6\n",
       "DD    9\n",
       "dtype: int64"
      ]
     },
     "execution_count": 21,
     "metadata": {},
     "output_type": "execute_result"
    }
   ],
   "source": [
    "obj.index = ['AA','BB','CC','DD']\n",
    "obj"
   ]
  },
  {
   "cell_type": "markdown",
   "id": "18e80ee2",
   "metadata": {},
   "source": [
    "#### Series对象自身及其索引都有name属性"
   ]
  },
  {
   "cell_type": "code",
   "execution_count": 22,
   "id": "77251e2c",
   "metadata": {},
   "outputs": [],
   "source": [
    "obj.name = '数据'\n",
    "obj.index.name = '索引'"
   ]
  },
  {
   "cell_type": "code",
   "execution_count": 23,
   "id": "a8bb9454",
   "metadata": {},
   "outputs": [
    {
     "data": {
      "text/plain": [
       "索引\n",
       "AA    8\n",
       "BB    7\n",
       "CC    6\n",
       "DD    9\n",
       "Name: 数据, dtype: int64"
      ]
     },
     "execution_count": 23,
     "metadata": {},
     "output_type": "execute_result"
    }
   ],
   "source": [
    "obj"
   ]
  },
  {
   "cell_type": "markdown",
   "id": "7bda1edd",
   "metadata": {},
   "source": [
    "## 3.5 自动对齐索引："
   ]
  },
  {
   "cell_type": "code",
   "execution_count": 24,
   "id": "02146726",
   "metadata": {},
   "outputs": [
    {
     "data": {
      "text/plain": [
       "d    9\n",
       "a    8\n",
       "b    7\n",
       "c    6\n",
       "dtype: int64"
      ]
     },
     "execution_count": 24,
     "metadata": {},
     "output_type": "execute_result"
    }
   ],
   "source": [
    "obj_1 = pd.Series({'d': 9,'a': 8,'b': 7,'c': 6})\n",
    "obj_1"
   ]
  },
  {
   "cell_type": "code",
   "execution_count": 25,
   "id": "0ee6a4ef",
   "metadata": {},
   "outputs": [
    {
     "data": {
      "text/plain": [
       "f    5\n",
       "e    4\n",
       "d    3\n",
       "c    2\n",
       "dtype: int64"
      ]
     },
     "execution_count": 25,
     "metadata": {},
     "output_type": "execute_result"
    }
   ],
   "source": [
    "obj_2 = pd.Series({'f': 5,'e': 4,'d': 3,'c': 2})\n",
    "obj_2"
   ]
  },
  {
   "cell_type": "code",
   "execution_count": 26,
   "id": "85636712",
   "metadata": {},
   "outputs": [
    {
     "data": {
      "text/plain": [
       "a     NaN\n",
       "b     NaN\n",
       "c     8.0\n",
       "d    12.0\n",
       "e     NaN\n",
       "f     NaN\n",
       "dtype: float64"
      ]
     },
     "execution_count": 26,
     "metadata": {},
     "output_type": "execute_result"
    }
   ],
   "source": [
    "obj_1 + obj_2"
   ]
  },
  {
   "cell_type": "code",
   "execution_count": null,
   "id": "b8bdd57e",
   "metadata": {},
   "outputs": [],
   "source": []
  },
  {
   "cell_type": "code",
   "execution_count": null,
   "id": "7672e3a2",
   "metadata": {},
   "outputs": [],
   "source": []
  },
  {
   "cell_type": "code",
   "execution_count": null,
   "id": "d3f7d05f",
   "metadata": {},
   "outputs": [],
   "source": []
  },
  {
   "cell_type": "code",
   "execution_count": null,
   "id": "b7e4039b",
   "metadata": {},
   "outputs": [],
   "source": []
  }
 ],
 "metadata": {
  "kernelspec": {
   "display_name": "Python 3 (ipykernel)",
   "language": "python",
   "name": "python3"
  },
  "language_info": {
   "codemirror_mode": {
    "name": "ipython",
    "version": 3
   },
   "file_extension": ".py",
   "mimetype": "text/x-python",
   "name": "python",
   "nbconvert_exporter": "python",
   "pygments_lexer": "ipython3",
   "version": "3.9.12"
  }
 },
 "nbformat": 4,
 "nbformat_minor": 5
}
