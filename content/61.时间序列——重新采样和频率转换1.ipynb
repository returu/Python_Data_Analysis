{
 "cells": [
  {
   "cell_type": "code",
   "execution_count": 1,
   "id": "08fa3eaa",
   "metadata": {},
   "outputs": [],
   "source": [
    "import numpy as np\n",
    "import pandas as pd"
   ]
  },
  {
   "cell_type": "markdown",
   "id": "c83783dc",
   "metadata": {},
   "source": [
    "### pandas 对象具有 resample 方法，这是所有频率转换的工具函数。 resample 具有与 groupby 类似的 API：调用 resample 对数据进行分组，然后再调用聚合函数："
   ]
  },
  {
   "cell_type": "code",
   "execution_count": 2,
   "id": "a5f1ab34",
   "metadata": {},
   "outputs": [],
   "source": [
    "dates = pd.date_range(\"2022-01-01\", periods=100)"
   ]
  },
  {
   "cell_type": "code",
   "execution_count": 3,
   "id": "b308211f",
   "metadata": {},
   "outputs": [
    {
     "data": {
      "text/plain": [
       "2022-01-01     0\n",
       "2022-01-02     1\n",
       "2022-01-03     2\n",
       "2022-01-04     3\n",
       "2022-01-05     4\n",
       "              ..\n",
       "2022-04-06    95\n",
       "2022-04-07    96\n",
       "2022-04-08    97\n",
       "2022-04-09    98\n",
       "2022-04-10    99\n",
       "Freq: D, Length: 100, dtype: int32"
      ]
     },
     "execution_count": 3,
     "metadata": {},
     "output_type": "execute_result"
    }
   ],
   "source": [
    "ts = pd.Series(np.arange(len(dates)), index=dates)\n",
    "ts"
   ]
  },
  {
   "cell_type": "code",
   "execution_count": 4,
   "id": "1b137da8",
   "metadata": {},
   "outputs": [
    {
     "data": {
      "text/plain": [
       "2022-01-31    30\n",
       "2022-02-28    58\n",
       "2022-03-31    89\n",
       "2022-04-30    99\n",
       "Freq: M, dtype: int32"
      ]
     },
     "execution_count": 4,
     "metadata": {},
     "output_type": "execute_result"
    }
   ],
   "source": [
    "ts.resample(\"M\").max()"
   ]
  },
  {
   "cell_type": "code",
   "execution_count": 5,
   "id": "b69e92d0",
   "metadata": {},
   "outputs": [
    {
     "data": {
      "text/plain": [
       "2022-01    30\n",
       "2022-02    58\n",
       "2022-03    89\n",
       "2022-04    99\n",
       "Freq: M, dtype: int32"
      ]
     },
     "execution_count": 5,
     "metadata": {},
     "output_type": "execute_result"
    }
   ],
   "source": [
    "# 对区间进行聚合\n",
    "ts.resample(rule=\"M\" , kind=\"period\").max()"
   ]
  },
  {
   "cell_type": "markdown",
   "id": "f323aa4b",
   "metadata": {},
   "source": [
    "# 1.向下采样："
   ]
  },
  {
   "cell_type": "code",
   "execution_count": 6,
   "id": "6d358b60",
   "metadata": {},
   "outputs": [],
   "source": [
    "# 首先生成一些一小时内的频率数据\n",
    "dates = pd.date_range(\"2022-01-01\", periods=12, freq=\"H\")"
   ]
  },
  {
   "cell_type": "code",
   "execution_count": 7,
   "id": "7b08f1cc",
   "metadata": {},
   "outputs": [
    {
     "data": {
      "text/plain": [
       "2022-01-01 00:00:00     0\n",
       "2022-01-01 01:00:00     1\n",
       "2022-01-01 02:00:00     2\n",
       "2022-01-01 03:00:00     3\n",
       "2022-01-01 04:00:00     4\n",
       "2022-01-01 05:00:00     5\n",
       "2022-01-01 06:00:00     6\n",
       "2022-01-01 07:00:00     7\n",
       "2022-01-01 08:00:00     8\n",
       "2022-01-01 09:00:00     9\n",
       "2022-01-01 10:00:00    10\n",
       "2022-01-01 11:00:00    11\n",
       "Freq: H, dtype: int32"
      ]
     },
     "execution_count": 7,
     "metadata": {},
     "output_type": "execute_result"
    }
   ],
   "source": [
    "ts = pd.Series(np.arange(len(dates)), index=dates)\n",
    "ts"
   ]
  },
  {
   "cell_type": "code",
   "execution_count": 8,
   "id": "4c2fe449",
   "metadata": {},
   "outputs": [
    {
     "data": {
      "text/plain": [
       "2022-01-01 00:00:00    10\n",
       "2022-01-01 05:00:00    35\n",
       "2022-01-01 10:00:00    21\n",
       "Freq: 5H, dtype: int32"
      ]
     },
     "execution_count": 8,
     "metadata": {},
     "output_type": "execute_result"
    }
   ],
   "source": [
    "# 通过计算每一组的加和将这些数据聚合到5小时的块或柱内\n",
    "ts.resample(\"5h\").sum()"
   ]
  },
  {
   "cell_type": "markdown",
   "id": "6539d992",
   "metadata": {},
   "source": [
    "### closed参数："
   ]
  },
  {
   "cell_type": "code",
   "execution_count": 9,
   "id": "f90a959d",
   "metadata": {},
   "outputs": [
    {
     "data": {
      "text/plain": [
       "2022-01-01 00:00:00    10\n",
       "2022-01-01 05:00:00    35\n",
       "2022-01-01 10:00:00    21\n",
       "Freq: 5H, dtype: int32"
      ]
     },
     "execution_count": 9,
     "metadata": {},
     "output_type": "execute_result"
    }
   ],
   "source": [
    "# closed=\"left\"：向下采样时每个区间的左端是封闭的(包含的)\n",
    "# 此时，传递的频率以5小时的增量定义箱体边界。对于这个频率，默认情况下，左箱体边界是包含的，\n",
    "# 因此00:00值包含在00:00 到05:00 时间间隔内，而05:00值不包含在该时间间隔内。\n",
    "ts.resample(\"5h\" , closed=\"left\").sum()"
   ]
  },
  {
   "cell_type": "code",
   "execution_count": 10,
   "id": "be770012",
   "metadata": {
    "scrolled": true
   },
   "outputs": [
    {
     "data": {
      "text/plain": [
       "2021-12-31 19:00:00     0\n",
       "2022-01-01 00:00:00    15\n",
       "2022-01-01 05:00:00    40\n",
       "2022-01-01 10:00:00    11\n",
       "Freq: 5H, dtype: int32"
      ]
     },
     "execution_count": 10,
     "metadata": {},
     "output_type": "execute_result"
    }
   ],
   "source": [
    "# closed=\"right\"：向下采样时每个区间的右端是封闭的(包含的)\n",
    "# 因此00:00值不包含在00:00 到05:00 时间间隔内，而05:00值包含在该时间间隔内。\n",
    "ts.resample(\"5h\" , closed=\"right\").sum()"
   ]
  },
  {
   "cell_type": "markdown",
   "id": "1037f6a9",
   "metadata": {},
   "source": [
    "### label参数："
   ]
  },
  {
   "cell_type": "code",
   "execution_count": 11,
   "id": "06f72d77",
   "metadata": {},
   "outputs": [
    {
     "data": {
      "text/plain": [
       "2022-01-01 00:00:00     0\n",
       "2022-01-01 05:00:00    15\n",
       "2022-01-01 10:00:00    40\n",
       "2022-01-01 15:00:00    11\n",
       "Freq: 5H, dtype: int32"
      ]
     },
     "execution_count": 11,
     "metadata": {},
     "output_type": "execute_result"
    }
   ],
   "source": [
    "# 生成的时间序列由每个箱体左侧的时间戳标记。通过传递 label=\"right\"，你可以用右箱体边界标记它们\n",
    "ts.resample(\"5h\" , closed=\"right\" , label=\"right\").sum()"
   ]
  },
  {
   "cell_type": "markdown",
   "id": "139de75e",
   "metadata": {},
   "source": [
    "### to_offset："
   ]
  },
  {
   "cell_type": "code",
   "execution_count": 12,
   "id": "249d7896",
   "metadata": {},
   "outputs": [],
   "source": [
    "from pandas.tseries.frequencies import to_offset"
   ]
  },
  {
   "cell_type": "code",
   "execution_count": 13,
   "id": "4762d00e",
   "metadata": {},
   "outputs": [
    {
     "data": {
      "text/plain": [
       "2022-01-01 00:00:00     0\n",
       "2022-01-01 05:00:00    15\n",
       "2022-01-01 10:00:00    40\n",
       "2022-01-01 15:00:00    11\n",
       "Freq: 5H, dtype: int32"
      ]
     },
     "execution_count": 13,
     "metadata": {},
     "output_type": "execute_result"
    }
   ],
   "source": [
    "result = ts.resample(\"5h\", closed=\"right\", label=\"right\").sum()\n",
    "result"
   ]
  },
  {
   "cell_type": "code",
   "execution_count": 14,
   "id": "7cd243c4",
   "metadata": {},
   "outputs": [],
   "source": [
    "result.index = result.index + to_offset(\"-1h\")"
   ]
  },
  {
   "cell_type": "code",
   "execution_count": 15,
   "id": "8f4b94f6",
   "metadata": {},
   "outputs": [
    {
     "data": {
      "text/plain": [
       "2021-12-31 23:00:00     0\n",
       "2022-01-01 04:00:00    15\n",
       "2022-01-01 09:00:00    40\n",
       "2022-01-01 14:00:00    11\n",
       "Freq: 5H, dtype: int32"
      ]
     },
     "execution_count": 15,
     "metadata": {},
     "output_type": "execute_result"
    }
   ],
   "source": [
    "result"
   ]
  },
  {
   "cell_type": "markdown",
   "id": "7c4e96ec",
   "metadata": {},
   "source": [
    "## 1.1 开端-峰值-谷值-结束（OHLC）重新采样："
   ]
  },
  {
   "cell_type": "markdown",
   "id": "a28be98d",
   "metadata": {},
   "source": [
    "### ohlc 聚合函数："
   ]
  },
  {
   "cell_type": "code",
   "execution_count": 16,
   "id": "ee686a62",
   "metadata": {},
   "outputs": [
    {
     "data": {
      "text/plain": [
       "2022-01-01 00:00:00     8\n",
       "2022-01-01 01:00:00     7\n",
       "2022-01-01 02:00:00    11\n",
       "2022-01-01 03:00:00     1\n",
       "2022-01-01 04:00:00     0\n",
       "2022-01-01 05:00:00     4\n",
       "2022-01-01 06:00:00     5\n",
       "2022-01-01 07:00:00     6\n",
       "2022-01-01 08:00:00     9\n",
       "2022-01-01 09:00:00     3\n",
       "2022-01-01 10:00:00    10\n",
       "2022-01-01 11:00:00     2\n",
       "Freq: H, dtype: int32"
      ]
     },
     "execution_count": 16,
     "metadata": {},
     "output_type": "execute_result"
    }
   ],
   "source": [
    "ts = pd.Series(np.random.permutation(np.arange(len(dates))), index=dates)\n",
    "ts"
   ]
  },
  {
   "cell_type": "code",
   "execution_count": 17,
   "id": "610d8e8d",
   "metadata": {},
   "outputs": [
    {
     "data": {
      "text/html": [
       "<div>\n",
       "<style scoped>\n",
       "    .dataframe tbody tr th:only-of-type {\n",
       "        vertical-align: middle;\n",
       "    }\n",
       "\n",
       "    .dataframe tbody tr th {\n",
       "        vertical-align: top;\n",
       "    }\n",
       "\n",
       "    .dataframe thead th {\n",
       "        text-align: right;\n",
       "    }\n",
       "</style>\n",
       "<table border=\"1\" class=\"dataframe\">\n",
       "  <thead>\n",
       "    <tr style=\"text-align: right;\">\n",
       "      <th></th>\n",
       "      <th>open</th>\n",
       "      <th>high</th>\n",
       "      <th>low</th>\n",
       "      <th>close</th>\n",
       "    </tr>\n",
       "  </thead>\n",
       "  <tbody>\n",
       "    <tr>\n",
       "      <th>2022-01-01 00:00:00</th>\n",
       "      <td>8</td>\n",
       "      <td>11</td>\n",
       "      <td>0</td>\n",
       "      <td>0</td>\n",
       "    </tr>\n",
       "    <tr>\n",
       "      <th>2022-01-01 05:00:00</th>\n",
       "      <td>4</td>\n",
       "      <td>9</td>\n",
       "      <td>3</td>\n",
       "      <td>3</td>\n",
       "    </tr>\n",
       "    <tr>\n",
       "      <th>2022-01-01 10:00:00</th>\n",
       "      <td>10</td>\n",
       "      <td>10</td>\n",
       "      <td>2</td>\n",
       "      <td>2</td>\n",
       "    </tr>\n",
       "  </tbody>\n",
       "</table>\n",
       "</div>"
      ],
      "text/plain": [
       "                     open  high  low  close\n",
       "2022-01-01 00:00:00     8    11    0      0\n",
       "2022-01-01 05:00:00     4     9    3      3\n",
       "2022-01-01 10:00:00    10    10    2      2"
      ]
     },
     "execution_count": 17,
     "metadata": {},
     "output_type": "execute_result"
    }
   ],
   "source": [
    "ts.resample(\"5h\").ohlc()"
   ]
  },
  {
   "cell_type": "markdown",
   "id": "a560b0c5",
   "metadata": {},
   "source": [
    "# 2.向上采样（Upsampling ）和插值（Interpolation）："
   ]
  },
  {
   "cell_type": "code",
   "execution_count": 18,
   "id": "d64177ba",
   "metadata": {},
   "outputs": [
    {
     "data": {
      "text/html": [
       "<div>\n",
       "<style scoped>\n",
       "    .dataframe tbody tr th:only-of-type {\n",
       "        vertical-align: middle;\n",
       "    }\n",
       "\n",
       "    .dataframe tbody tr th {\n",
       "        vertical-align: top;\n",
       "    }\n",
       "\n",
       "    .dataframe thead th {\n",
       "        text-align: right;\n",
       "    }\n",
       "</style>\n",
       "<table border=\"1\" class=\"dataframe\">\n",
       "  <thead>\n",
       "    <tr style=\"text-align: right;\">\n",
       "      <th></th>\n",
       "      <th>A</th>\n",
       "      <th>B</th>\n",
       "      <th>C</th>\n",
       "    </tr>\n",
       "  </thead>\n",
       "  <tbody>\n",
       "    <tr>\n",
       "      <th>2022-01-03</th>\n",
       "      <td>0</td>\n",
       "      <td>1</td>\n",
       "      <td>2</td>\n",
       "    </tr>\n",
       "    <tr>\n",
       "      <th>2022-01-10</th>\n",
       "      <td>3</td>\n",
       "      <td>4</td>\n",
       "      <td>5</td>\n",
       "    </tr>\n",
       "  </tbody>\n",
       "</table>\n",
       "</div>"
      ],
      "text/plain": [
       "            A  B  C\n",
       "2022-01-03  0  1  2\n",
       "2022-01-10  3  4  5"
      ]
     },
     "execution_count": 18,
     "metadata": {},
     "output_type": "execute_result"
    }
   ],
   "source": [
    "# 首先生成一个包含每周数据的DataFrame\n",
    "df = pd.DataFrame(np.arange(6).reshape((2, 3)),\n",
    "                     index=pd.date_range(\"2022-01-01\",periods=2,freq=\"W-MON\"),# W-MON：每周一\n",
    "                     columns=[\"A\", \"B\", \"C\"])\n",
    "\n",
    "df"
   ]
  },
  {
   "cell_type": "markdown",
   "id": "91df005b",
   "metadata": {},
   "source": [
    "### 当对该数据使用聚合函数时，每一组只有一个值，会在间隙中产生缺失值。使用 asfreq 方法在不聚合的情况下转换到更高频率："
   ]
  },
  {
   "cell_type": "code",
   "execution_count": 19,
   "id": "24ae3d7e",
   "metadata": {},
   "outputs": [
    {
     "data": {
      "text/html": [
       "<div>\n",
       "<style scoped>\n",
       "    .dataframe tbody tr th:only-of-type {\n",
       "        vertical-align: middle;\n",
       "    }\n",
       "\n",
       "    .dataframe tbody tr th {\n",
       "        vertical-align: top;\n",
       "    }\n",
       "\n",
       "    .dataframe thead th {\n",
       "        text-align: right;\n",
       "    }\n",
       "</style>\n",
       "<table border=\"1\" class=\"dataframe\">\n",
       "  <thead>\n",
       "    <tr style=\"text-align: right;\">\n",
       "      <th></th>\n",
       "      <th>A</th>\n",
       "      <th>B</th>\n",
       "      <th>C</th>\n",
       "    </tr>\n",
       "  </thead>\n",
       "  <tbody>\n",
       "    <tr>\n",
       "      <th>2022-01-03</th>\n",
       "      <td>0.0</td>\n",
       "      <td>1.0</td>\n",
       "      <td>2.0</td>\n",
       "    </tr>\n",
       "    <tr>\n",
       "      <th>2022-01-04</th>\n",
       "      <td>NaN</td>\n",
       "      <td>NaN</td>\n",
       "      <td>NaN</td>\n",
       "    </tr>\n",
       "    <tr>\n",
       "      <th>2022-01-05</th>\n",
       "      <td>NaN</td>\n",
       "      <td>NaN</td>\n",
       "      <td>NaN</td>\n",
       "    </tr>\n",
       "    <tr>\n",
       "      <th>2022-01-06</th>\n",
       "      <td>NaN</td>\n",
       "      <td>NaN</td>\n",
       "      <td>NaN</td>\n",
       "    </tr>\n",
       "    <tr>\n",
       "      <th>2022-01-07</th>\n",
       "      <td>NaN</td>\n",
       "      <td>NaN</td>\n",
       "      <td>NaN</td>\n",
       "    </tr>\n",
       "    <tr>\n",
       "      <th>2022-01-08</th>\n",
       "      <td>NaN</td>\n",
       "      <td>NaN</td>\n",
       "      <td>NaN</td>\n",
       "    </tr>\n",
       "    <tr>\n",
       "      <th>2022-01-09</th>\n",
       "      <td>NaN</td>\n",
       "      <td>NaN</td>\n",
       "      <td>NaN</td>\n",
       "    </tr>\n",
       "    <tr>\n",
       "      <th>2022-01-10</th>\n",
       "      <td>3.0</td>\n",
       "      <td>4.0</td>\n",
       "      <td>5.0</td>\n",
       "    </tr>\n",
       "  </tbody>\n",
       "</table>\n",
       "</div>"
      ],
      "text/plain": [
       "              A    B    C\n",
       "2022-01-03  0.0  1.0  2.0\n",
       "2022-01-04  NaN  NaN  NaN\n",
       "2022-01-05  NaN  NaN  NaN\n",
       "2022-01-06  NaN  NaN  NaN\n",
       "2022-01-07  NaN  NaN  NaN\n",
       "2022-01-08  NaN  NaN  NaN\n",
       "2022-01-09  NaN  NaN  NaN\n",
       "2022-01-10  3.0  4.0  5.0"
      ]
     },
     "execution_count": 19,
     "metadata": {},
     "output_type": "execute_result"
    }
   ],
   "source": [
    "df_daily = df.resample(\"D\").asfreq()\n",
    "df_daily"
   ]
  },
  {
   "cell_type": "markdown",
   "id": "cd1b83ed",
   "metadata": {},
   "source": [
    "### fillna和reindex方法中可用的填充或插值方法可用于重采样。"
   ]
  },
  {
   "cell_type": "code",
   "execution_count": 20,
   "id": "aecc6dfb",
   "metadata": {
    "scrolled": true
   },
   "outputs": [
    {
     "data": {
      "text/html": [
       "<div>\n",
       "<style scoped>\n",
       "    .dataframe tbody tr th:only-of-type {\n",
       "        vertical-align: middle;\n",
       "    }\n",
       "\n",
       "    .dataframe tbody tr th {\n",
       "        vertical-align: top;\n",
       "    }\n",
       "\n",
       "    .dataframe thead th {\n",
       "        text-align: right;\n",
       "    }\n",
       "</style>\n",
       "<table border=\"1\" class=\"dataframe\">\n",
       "  <thead>\n",
       "    <tr style=\"text-align: right;\">\n",
       "      <th></th>\n",
       "      <th>A</th>\n",
       "      <th>B</th>\n",
       "      <th>C</th>\n",
       "    </tr>\n",
       "  </thead>\n",
       "  <tbody>\n",
       "    <tr>\n",
       "      <th>2022-01-03</th>\n",
       "      <td>0</td>\n",
       "      <td>1</td>\n",
       "      <td>2</td>\n",
       "    </tr>\n",
       "    <tr>\n",
       "      <th>2022-01-04</th>\n",
       "      <td>0</td>\n",
       "      <td>1</td>\n",
       "      <td>2</td>\n",
       "    </tr>\n",
       "    <tr>\n",
       "      <th>2022-01-05</th>\n",
       "      <td>0</td>\n",
       "      <td>1</td>\n",
       "      <td>2</td>\n",
       "    </tr>\n",
       "    <tr>\n",
       "      <th>2022-01-06</th>\n",
       "      <td>0</td>\n",
       "      <td>1</td>\n",
       "      <td>2</td>\n",
       "    </tr>\n",
       "    <tr>\n",
       "      <th>2022-01-07</th>\n",
       "      <td>0</td>\n",
       "      <td>1</td>\n",
       "      <td>2</td>\n",
       "    </tr>\n",
       "    <tr>\n",
       "      <th>2022-01-08</th>\n",
       "      <td>0</td>\n",
       "      <td>1</td>\n",
       "      <td>2</td>\n",
       "    </tr>\n",
       "    <tr>\n",
       "      <th>2022-01-09</th>\n",
       "      <td>0</td>\n",
       "      <td>1</td>\n",
       "      <td>2</td>\n",
       "    </tr>\n",
       "    <tr>\n",
       "      <th>2022-01-10</th>\n",
       "      <td>3</td>\n",
       "      <td>4</td>\n",
       "      <td>5</td>\n",
       "    </tr>\n",
       "  </tbody>\n",
       "</table>\n",
       "</div>"
      ],
      "text/plain": [
       "            A  B  C\n",
       "2022-01-03  0  1  2\n",
       "2022-01-04  0  1  2\n",
       "2022-01-05  0  1  2\n",
       "2022-01-06  0  1  2\n",
       "2022-01-07  0  1  2\n",
       "2022-01-08  0  1  2\n",
       "2022-01-09  0  1  2\n",
       "2022-01-10  3  4  5"
      ]
     },
     "execution_count": 20,
     "metadata": {},
     "output_type": "execute_result"
    }
   ],
   "source": [
    "# 假设你想在非周一的日期上向前填充每周数值：\n",
    "df.resample(\"D\").ffill()"
   ]
  },
  {
   "cell_type": "code",
   "execution_count": 21,
   "id": "805cdaf5",
   "metadata": {},
   "outputs": [
    {
     "data": {
      "text/html": [
       "<div>\n",
       "<style scoped>\n",
       "    .dataframe tbody tr th:only-of-type {\n",
       "        vertical-align: middle;\n",
       "    }\n",
       "\n",
       "    .dataframe tbody tr th {\n",
       "        vertical-align: top;\n",
       "    }\n",
       "\n",
       "    .dataframe thead th {\n",
       "        text-align: right;\n",
       "    }\n",
       "</style>\n",
       "<table border=\"1\" class=\"dataframe\">\n",
       "  <thead>\n",
       "    <tr style=\"text-align: right;\">\n",
       "      <th></th>\n",
       "      <th>A</th>\n",
       "      <th>B</th>\n",
       "      <th>C</th>\n",
       "    </tr>\n",
       "  </thead>\n",
       "  <tbody>\n",
       "    <tr>\n",
       "      <th>2022-01-03</th>\n",
       "      <td>0.0</td>\n",
       "      <td>1.0</td>\n",
       "      <td>2.0</td>\n",
       "    </tr>\n",
       "    <tr>\n",
       "      <th>2022-01-04</th>\n",
       "      <td>0.0</td>\n",
       "      <td>1.0</td>\n",
       "      <td>2.0</td>\n",
       "    </tr>\n",
       "    <tr>\n",
       "      <th>2022-01-05</th>\n",
       "      <td>0.0</td>\n",
       "      <td>1.0</td>\n",
       "      <td>2.0</td>\n",
       "    </tr>\n",
       "    <tr>\n",
       "      <th>2022-01-06</th>\n",
       "      <td>0.0</td>\n",
       "      <td>1.0</td>\n",
       "      <td>2.0</td>\n",
       "    </tr>\n",
       "    <tr>\n",
       "      <th>2022-01-07</th>\n",
       "      <td>NaN</td>\n",
       "      <td>NaN</td>\n",
       "      <td>NaN</td>\n",
       "    </tr>\n",
       "    <tr>\n",
       "      <th>2022-01-08</th>\n",
       "      <td>NaN</td>\n",
       "      <td>NaN</td>\n",
       "      <td>NaN</td>\n",
       "    </tr>\n",
       "    <tr>\n",
       "      <th>2022-01-09</th>\n",
       "      <td>NaN</td>\n",
       "      <td>NaN</td>\n",
       "      <td>NaN</td>\n",
       "    </tr>\n",
       "    <tr>\n",
       "      <th>2022-01-10</th>\n",
       "      <td>3.0</td>\n",
       "      <td>4.0</td>\n",
       "      <td>5.0</td>\n",
       "    </tr>\n",
       "  </tbody>\n",
       "</table>\n",
       "</div>"
      ],
      "text/plain": [
       "              A    B    C\n",
       "2022-01-03  0.0  1.0  2.0\n",
       "2022-01-04  0.0  1.0  2.0\n",
       "2022-01-05  0.0  1.0  2.0\n",
       "2022-01-06  0.0  1.0  2.0\n",
       "2022-01-07  NaN  NaN  NaN\n",
       "2022-01-08  NaN  NaN  NaN\n",
       "2022-01-09  NaN  NaN  NaN\n",
       "2022-01-10  3.0  4.0  5.0"
      ]
     },
     "execution_count": 21,
     "metadata": {},
     "output_type": "execute_result"
    }
   ],
   "source": [
    "# 也可以选择仅向前填充一定数量的区间，以限制继续使用观测值的时距离\n",
    "df.resample(\"D\").ffill(limit=3)"
   ]
  },
  {
   "cell_type": "markdown",
   "id": "8c6bd82d",
   "metadata": {},
   "source": [
    "### 需要注意的是，新日期索引根本不需要与旧日期索引重合："
   ]
  },
  {
   "cell_type": "code",
   "execution_count": 22,
   "id": "073a7685",
   "metadata": {},
   "outputs": [
    {
     "data": {
      "text/html": [
       "<div>\n",
       "<style scoped>\n",
       "    .dataframe tbody tr th:only-of-type {\n",
       "        vertical-align: middle;\n",
       "    }\n",
       "\n",
       "    .dataframe tbody tr th {\n",
       "        vertical-align: top;\n",
       "    }\n",
       "\n",
       "    .dataframe thead th {\n",
       "        text-align: right;\n",
       "    }\n",
       "</style>\n",
       "<table border=\"1\" class=\"dataframe\">\n",
       "  <thead>\n",
       "    <tr style=\"text-align: right;\">\n",
       "      <th></th>\n",
       "      <th>A</th>\n",
       "      <th>B</th>\n",
       "      <th>C</th>\n",
       "    </tr>\n",
       "  </thead>\n",
       "  <tbody>\n",
       "    <tr>\n",
       "      <th>2022-01-04</th>\n",
       "      <td>0</td>\n",
       "      <td>1</td>\n",
       "      <td>2</td>\n",
       "    </tr>\n",
       "    <tr>\n",
       "      <th>2022-01-11</th>\n",
       "      <td>3</td>\n",
       "      <td>4</td>\n",
       "      <td>5</td>\n",
       "    </tr>\n",
       "  </tbody>\n",
       "</table>\n",
       "</div>"
      ],
      "text/plain": [
       "            A  B  C\n",
       "2022-01-04  0  1  2\n",
       "2022-01-11  3  4  5"
      ]
     },
     "execution_count": 22,
     "metadata": {},
     "output_type": "execute_result"
    }
   ],
   "source": [
    "# W-TUE：每周二\n",
    "df.resample(\"W-TUE\").ffill()"
   ]
  },
  {
   "cell_type": "code",
   "execution_count": null,
   "id": "60b3e632",
   "metadata": {},
   "outputs": [],
   "source": []
  },
  {
   "cell_type": "code",
   "execution_count": null,
   "id": "a9fdbb0e",
   "metadata": {},
   "outputs": [],
   "source": []
  },
  {
   "cell_type": "code",
   "execution_count": null,
   "id": "b393b1ca",
   "metadata": {},
   "outputs": [],
   "source": []
  },
  {
   "cell_type": "code",
   "execution_count": null,
   "id": "2a13df2b",
   "metadata": {},
   "outputs": [],
   "source": []
  },
  {
   "cell_type": "code",
   "execution_count": null,
   "id": "aae46606",
   "metadata": {},
   "outputs": [],
   "source": []
  },
  {
   "cell_type": "code",
   "execution_count": null,
   "id": "c8b0ac9e",
   "metadata": {},
   "outputs": [],
   "source": []
  },
  {
   "cell_type": "code",
   "execution_count": null,
   "id": "c8ec6d41",
   "metadata": {},
   "outputs": [],
   "source": []
  },
  {
   "cell_type": "code",
   "execution_count": null,
   "id": "40b4ca6e",
   "metadata": {},
   "outputs": [],
   "source": []
  },
  {
   "cell_type": "code",
   "execution_count": null,
   "id": "73ce92a3",
   "metadata": {},
   "outputs": [],
   "source": []
  },
  {
   "cell_type": "code",
   "execution_count": null,
   "id": "ce002785",
   "metadata": {},
   "outputs": [],
   "source": []
  },
  {
   "cell_type": "code",
   "execution_count": null,
   "id": "07cffd3f",
   "metadata": {},
   "outputs": [],
   "source": []
  },
  {
   "cell_type": "code",
   "execution_count": null,
   "id": "8cca31af",
   "metadata": {},
   "outputs": [],
   "source": []
  },
  {
   "cell_type": "code",
   "execution_count": null,
   "id": "724cbf31",
   "metadata": {},
   "outputs": [],
   "source": []
  },
  {
   "cell_type": "code",
   "execution_count": null,
   "id": "ef2e5466",
   "metadata": {},
   "outputs": [],
   "source": []
  }
 ],
 "metadata": {
  "kernelspec": {
   "display_name": "Python 3 (ipykernel)",
   "language": "python",
   "name": "python3"
  },
  "language_info": {
   "codemirror_mode": {
    "name": "ipython",
    "version": 3
   },
   "file_extension": ".py",
   "mimetype": "text/x-python",
   "name": "python",
   "nbconvert_exporter": "python",
   "pygments_lexer": "ipython3",
   "version": "3.9.12"
  }
 },
 "nbformat": 4,
 "nbformat_minor": 5
}
