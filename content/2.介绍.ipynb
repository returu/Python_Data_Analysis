{
 "cells": [
  {
   "cell_type": "code",
   "execution_count": 1,
   "id": "0a181844",
   "metadata": {},
   "outputs": [],
   "source": [
    "import numpy as np\n",
    "import time"
   ]
  },
  {
   "cell_type": "code",
   "execution_count": 2,
   "id": "533e378e",
   "metadata": {},
   "outputs": [
    {
     "name": "stdout",
     "output_type": "stream",
     "text": [
      "706 ms ± 17.3 ms per loop (mean ± std. dev. of 7 runs, 1 loop each)\n"
     ]
    }
   ],
   "source": [
    "%%timeit\n",
    "def pysum():\n",
    "    a = list(range(1_000_000))\n",
    "    b = list(range(1_000_000))\n",
    "    c = []\n",
    "    \n",
    "    for i in range(len(a)):\n",
    "        c.append(a[i]**2 + b[i]**3)\n",
    "    return c\n",
    "\n",
    "pysum()"
   ]
  },
  {
   "cell_type": "code",
   "execution_count": 3,
   "id": "6dc20b60",
   "metadata": {},
   "outputs": [
    {
     "name": "stdout",
     "output_type": "stream",
     "text": [
      "170 ms ± 7.07 ms per loop (mean ± std. dev. of 7 runs, 10 loops each)\n"
     ]
    }
   ],
   "source": [
    "%%timeit\n",
    "def npsum():\n",
    "    a = np.array(list(range(1_000_000)))\n",
    "    b = np.array(list(range(1_000_000)))\n",
    "    c = a**2 + b**3\n",
    "    return c \n",
    "\n",
    "\n",
    "npsum()"
   ]
  },
  {
   "cell_type": "code",
   "execution_count": null,
   "id": "2da9a24e",
   "metadata": {},
   "outputs": [],
   "source": []
  },
  {
   "cell_type": "code",
   "execution_count": null,
   "id": "94f2b24e",
   "metadata": {},
   "outputs": [],
   "source": []
  },
  {
   "cell_type": "code",
   "execution_count": null,
   "id": "113a3c5b",
   "metadata": {},
   "outputs": [],
   "source": []
  }
 ],
 "metadata": {
  "kernelspec": {
   "display_name": "Python 3 (ipykernel)",
   "language": "python",
   "name": "python3"
  },
  "language_info": {
   "codemirror_mode": {
    "name": "ipython",
    "version": 3
   },
   "file_extension": ".py",
   "mimetype": "text/x-python",
   "name": "python",
   "nbconvert_exporter": "python",
   "pygments_lexer": "ipython3",
   "version": "3.9.12"
  }
 },
 "nbformat": 4,
 "nbformat_minor": 5
}
