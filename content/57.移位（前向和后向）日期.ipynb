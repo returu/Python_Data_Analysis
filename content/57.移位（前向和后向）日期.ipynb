{
 "cells": [
  {
   "cell_type": "code",
   "execution_count": 1,
   "id": "38a0c928",
   "metadata": {},
   "outputs": [],
   "source": [
    "import numpy as np\n",
    "import pandas as pd"
   ]
  },
  {
   "cell_type": "markdown",
   "id": "aa937382",
   "metadata": {},
   "source": [
    "# 1.移位（Shifting）:"
   ]
  },
  {
   "cell_type": "code",
   "execution_count": 2,
   "id": "aa065a7d",
   "metadata": {},
   "outputs": [
    {
     "data": {
      "text/plain": [
       "2022-12-12    1\n",
       "2022-12-13    2\n",
       "2022-12-14    3\n",
       "2022-12-15    4\n",
       "2022-12-16    5\n",
       "Freq: D, dtype: int32"
      ]
     },
     "execution_count": 2,
     "metadata": {},
     "output_type": "execute_result"
    }
   ],
   "source": [
    "ts = pd.Series(np.arange(1,6) , index=pd.date_range(\"2022-12-12\" , periods=5))\n",
    "ts"
   ]
  },
  {
   "cell_type": "code",
   "execution_count": 3,
   "id": "efe8517a",
   "metadata": {},
   "outputs": [
    {
     "data": {
      "text/plain": [
       "2022-12-12    NaN\n",
       "2022-12-13    NaN\n",
       "2022-12-14    1.0\n",
       "2022-12-15    2.0\n",
       "2022-12-16    3.0\n",
       "Freq: D, dtype: float64"
      ]
     },
     "execution_count": 3,
     "metadata": {},
     "output_type": "execute_result"
    }
   ],
   "source": [
    "ts.shift(2)"
   ]
  },
  {
   "cell_type": "code",
   "execution_count": 4,
   "id": "ccf9026b",
   "metadata": {},
   "outputs": [
    {
     "data": {
      "text/plain": [
       "2022-12-12    3.0\n",
       "2022-12-13    4.0\n",
       "2022-12-14    5.0\n",
       "2022-12-15    NaN\n",
       "2022-12-16    NaN\n",
       "Freq: D, dtype: float64"
      ]
     },
     "execution_count": 4,
     "metadata": {},
     "output_type": "execute_result"
    }
   ],
   "source": [
    "ts.shift(-2)"
   ]
  },
  {
   "cell_type": "markdown",
   "id": "b61693b5",
   "metadata": {},
   "source": [
    "### shift 的一个常见用途是计算时间序列或DataFrame 多列时间序列的百分比变化："
   ]
  },
  {
   "cell_type": "code",
   "execution_count": 5,
   "id": "eb0e3dfd",
   "metadata": {},
   "outputs": [
    {
     "data": {
      "text/plain": [
       "2022-12-12         NaN\n",
       "2022-12-13    1.000000\n",
       "2022-12-14    0.500000\n",
       "2022-12-15    0.333333\n",
       "2022-12-16    0.250000\n",
       "Freq: D, dtype: float64"
      ]
     },
     "execution_count": 5,
     "metadata": {},
     "output_type": "execute_result"
    }
   ],
   "source": [
    "ts / ts.shift(1) - 1"
   ]
  },
  {
   "cell_type": "markdown",
   "id": "06945e51",
   "metadata": {},
   "source": [
    "## 1.1 传递频率以推移时间戳"
   ]
  },
  {
   "cell_type": "code",
   "execution_count": 6,
   "id": "b9557b23",
   "metadata": {},
   "outputs": [
    {
     "data": {
      "text/plain": [
       "2022-12-12    1\n",
       "2022-12-13    2\n",
       "2022-12-14    3\n",
       "2022-12-15    4\n",
       "2022-12-16    5\n",
       "Freq: D, dtype: int32"
      ]
     },
     "execution_count": 6,
     "metadata": {},
     "output_type": "execute_result"
    }
   ],
   "source": [
    "ts"
   ]
  },
  {
   "cell_type": "markdown",
   "id": "325563cc",
   "metadata": {},
   "source": [
    "### 如果频率已知，则可以将其传递给 shift 以推移时间戳，而不仅仅是数据："
   ]
  },
  {
   "cell_type": "code",
   "execution_count": 7,
   "id": "41dede05",
   "metadata": {},
   "outputs": [
    {
     "data": {
      "text/plain": [
       "2022-12-14    1\n",
       "2022-12-15    2\n",
       "2022-12-16    3\n",
       "2022-12-17    4\n",
       "2022-12-18    5\n",
       "Freq: D, dtype: int32"
      ]
     },
     "execution_count": 7,
     "metadata": {},
     "output_type": "execute_result"
    }
   ],
   "source": [
    "ts.shift(2 , freq=\"D\")"
   ]
  },
  {
   "cell_type": "markdown",
   "id": "a0ca1914",
   "metadata": {},
   "source": [
    "### 也可以传递其他频率，让你可以灵活地移位数据："
   ]
  },
  {
   "cell_type": "code",
   "execution_count": 8,
   "id": "71bb6e39",
   "metadata": {},
   "outputs": [
    {
     "data": {
      "text/plain": [
       "2022-12-12 03:00:00    1\n",
       "2022-12-13 03:00:00    2\n",
       "2022-12-14 03:00:00    3\n",
       "2022-12-15 03:00:00    4\n",
       "2022-12-16 03:00:00    5\n",
       "Freq: D, dtype: int32"
      ]
     },
     "execution_count": 8,
     "metadata": {},
     "output_type": "execute_result"
    }
   ],
   "source": [
    "ts.shift(2 , freq=\"1h30min\")"
   ]
  },
  {
   "cell_type": "code",
   "execution_count": 9,
   "id": "4473ea45",
   "metadata": {},
   "outputs": [
    {
     "data": {
      "text/plain": [
       "2022-12-12 03:00:00    1\n",
       "2022-12-13 03:00:00    2\n",
       "2022-12-14 03:00:00    3\n",
       "2022-12-15 03:00:00    4\n",
       "2022-12-16 03:00:00    5\n",
       "Freq: D, dtype: int32"
      ]
     },
     "execution_count": 9,
     "metadata": {},
     "output_type": "execute_result"
    }
   ],
   "source": [
    "# 这里的 T 代表分钟。\n",
    "ts.shift(2,freq=\"90T\")"
   ]
  },
  {
   "cell_type": "markdown",
   "id": "f033ca07",
   "metadata": {},
   "source": [
    "# 2.使用偏置移位日期："
   ]
  },
  {
   "cell_type": "markdown",
   "id": "3b9736e4",
   "metadata": {},
   "source": [
    "### pandas 日期偏量也可以使用 datetime 或 Timestamp 对象："
   ]
  },
  {
   "cell_type": "code",
   "execution_count": 10,
   "id": "1405e5c6",
   "metadata": {},
   "outputs": [
    {
     "data": {
      "text/plain": [
       "Timestamp('2022-12-15 00:00:00')"
      ]
     },
     "execution_count": 10,
     "metadata": {},
     "output_type": "execute_result"
    }
   ],
   "source": [
    "from pandas.tseries.offsets import Day , MonthEnd\n",
    "from datetime import datetime\n",
    "\n",
    "now = datetime(2022,12,12)\n",
    "now + 3*Day()"
   ]
  },
  {
   "cell_type": "markdown",
   "id": "dff81857",
   "metadata": {},
   "source": [
    "### 如果添加像 MonthEnd 这样的锚定偏置量，第一个增量将根据频率规则将日期“前滚”到下一个日期："
   ]
  },
  {
   "cell_type": "code",
   "execution_count": 11,
   "id": "6766ba44",
   "metadata": {},
   "outputs": [
    {
     "data": {
      "text/plain": [
       "Timestamp('2022-12-31 00:00:00')"
      ]
     },
     "execution_count": 11,
     "metadata": {},
     "output_type": "execute_result"
    }
   ],
   "source": [
    "now + MonthEnd()"
   ]
  },
  {
   "cell_type": "code",
   "execution_count": 12,
   "id": "e01ffe92",
   "metadata": {},
   "outputs": [
    {
     "data": {
      "text/plain": [
       "Timestamp('2023-01-31 00:00:00')"
      ]
     },
     "execution_count": 12,
     "metadata": {},
     "output_type": "execute_result"
    }
   ],
   "source": [
    "now + MonthEnd(2)"
   ]
  },
  {
   "cell_type": "markdown",
   "id": "b53f8dc4",
   "metadata": {},
   "source": [
    "### 锚定的偏置量可以使用 rollforward 和 rollback 方法将日期显式地向前或向后“滚动”："
   ]
  },
  {
   "cell_type": "code",
   "execution_count": 13,
   "id": "11ade5a4",
   "metadata": {},
   "outputs": [],
   "source": [
    "offset = MonthEnd()"
   ]
  },
  {
   "cell_type": "code",
   "execution_count": 14,
   "id": "2ad0c18f",
   "metadata": {},
   "outputs": [
    {
     "data": {
      "text/plain": [
       "Timestamp('2022-12-31 00:00:00')"
      ]
     },
     "execution_count": 14,
     "metadata": {},
     "output_type": "execute_result"
    }
   ],
   "source": [
    "offset.rollforward(now)"
   ]
  },
  {
   "cell_type": "code",
   "execution_count": 15,
   "id": "c4a99163",
   "metadata": {},
   "outputs": [
    {
     "data": {
      "text/plain": [
       "Timestamp('2022-11-30 00:00:00')"
      ]
     },
     "execution_count": 15,
     "metadata": {},
     "output_type": "execute_result"
    }
   ],
   "source": [
    "offset.rollback(now)"
   ]
  },
  {
   "cell_type": "markdown",
   "id": "347802e1",
   "metadata": {},
   "source": [
    "# 3.将移位方法与 groupby 一起使用是日期偏置的一种创造性用法："
   ]
  },
  {
   "cell_type": "code",
   "execution_count": 16,
   "id": "6868fb1e",
   "metadata": {},
   "outputs": [
    {
     "data": {
      "text/plain": [
       "2022-12-12     0\n",
       "2022-12-16     1\n",
       "2022-12-20     2\n",
       "2022-12-24     3\n",
       "2022-12-28     4\n",
       "2023-01-01     5\n",
       "2023-01-05     6\n",
       "2023-01-09     7\n",
       "2023-01-13     8\n",
       "2023-01-17     9\n",
       "2023-01-21    10\n",
       "2023-01-25    11\n",
       "2023-01-29    12\n",
       "2023-02-02    13\n",
       "2023-02-06    14\n",
       "2023-02-10    15\n",
       "2023-02-14    16\n",
       "2023-02-18    17\n",
       "2023-02-22    18\n",
       "2023-02-26    19\n",
       "Freq: 4D, dtype: int32"
      ]
     },
     "execution_count": 16,
     "metadata": {},
     "output_type": "execute_result"
    }
   ],
   "source": [
    "ts = pd.Series(np.arange(20) , index=pd.date_range(\"2022-12-12\" , periods=20 , freq=\"4D\"))\n",
    "ts"
   ]
  },
  {
   "cell_type": "code",
   "execution_count": 17,
   "id": "15301977",
   "metadata": {},
   "outputs": [],
   "source": [
    "grouped = ts.groupby(MonthEnd().rollforward)"
   ]
  },
  {
   "cell_type": "code",
   "execution_count": 18,
   "id": "9555056a",
   "metadata": {},
   "outputs": [
    {
     "name": "stdout",
     "output_type": "stream",
     "text": [
      "2022-12-31 00:00:00\n",
      "2022-12-12    0\n",
      "2022-12-16    1\n",
      "2022-12-20    2\n",
      "2022-12-24    3\n",
      "2022-12-28    4\n",
      "Freq: 4D, dtype: int32\n",
      "2023-01-31 00:00:00\n",
      "2023-01-01     5\n",
      "2023-01-05     6\n",
      "2023-01-09     7\n",
      "2023-01-13     8\n",
      "2023-01-17     9\n",
      "2023-01-21    10\n",
      "2023-01-25    11\n",
      "2023-01-29    12\n",
      "Freq: 4D, dtype: int32\n",
      "2023-02-28 00:00:00\n",
      "2023-02-02    13\n",
      "2023-02-06    14\n",
      "2023-02-10    15\n",
      "2023-02-14    16\n",
      "2023-02-18    17\n",
      "2023-02-22    18\n",
      "2023-02-26    19\n",
      "Freq: 4D, dtype: int32\n"
     ]
    }
   ],
   "source": [
    "for name,value in grouped:\n",
    "    print(name)\n",
    "    print(value)"
   ]
  },
  {
   "cell_type": "code",
   "execution_count": 19,
   "id": "fa03667c",
   "metadata": {},
   "outputs": [
    {
     "data": {
      "text/plain": [
       "2022-12-31     2.0\n",
       "2023-01-31     8.5\n",
       "2023-02-28    16.0\n",
       "dtype: float64"
      ]
     },
     "execution_count": 19,
     "metadata": {},
     "output_type": "execute_result"
    }
   ],
   "source": [
    "grouped.mean()"
   ]
  },
  {
   "cell_type": "markdown",
   "id": "9feaf56e",
   "metadata": {},
   "source": [
    "### 更简单快捷的方法是使用后续会介绍的resample 方法（重采样）："
   ]
  },
  {
   "cell_type": "code",
   "execution_count": 20,
   "id": "cbfee20c",
   "metadata": {},
   "outputs": [
    {
     "data": {
      "text/plain": [
       "2022-12-31     2.0\n",
       "2023-01-31     8.5\n",
       "2023-02-28    16.0\n",
       "Freq: M, dtype: float64"
      ]
     },
     "execution_count": 20,
     "metadata": {},
     "output_type": "execute_result"
    }
   ],
   "source": [
    "ts.resample(\"M\").mean()"
   ]
  },
  {
   "cell_type": "code",
   "execution_count": null,
   "id": "4557ae6b",
   "metadata": {},
   "outputs": [],
   "source": []
  },
  {
   "cell_type": "code",
   "execution_count": null,
   "id": "310971db",
   "metadata": {},
   "outputs": [],
   "source": []
  },
  {
   "cell_type": "code",
   "execution_count": null,
   "id": "ecabbc46",
   "metadata": {},
   "outputs": [],
   "source": []
  },
  {
   "cell_type": "code",
   "execution_count": null,
   "id": "c735f7dd",
   "metadata": {},
   "outputs": [],
   "source": []
  },
  {
   "cell_type": "code",
   "execution_count": null,
   "id": "a52c744e",
   "metadata": {},
   "outputs": [],
   "source": []
  },
  {
   "cell_type": "code",
   "execution_count": null,
   "id": "befe1d61",
   "metadata": {},
   "outputs": [],
   "source": []
  },
  {
   "cell_type": "code",
   "execution_count": null,
   "id": "6acd8e1e",
   "metadata": {},
   "outputs": [],
   "source": []
  },
  {
   "cell_type": "code",
   "execution_count": null,
   "id": "46a1a402",
   "metadata": {},
   "outputs": [],
   "source": []
  }
 ],
 "metadata": {
  "kernelspec": {
   "display_name": "Python 3 (ipykernel)",
   "language": "python",
   "name": "python3"
  },
  "language_info": {
   "codemirror_mode": {
    "name": "ipython",
    "version": 3
   },
   "file_extension": ".py",
   "mimetype": "text/x-python",
   "name": "python",
   "nbconvert_exporter": "python",
   "pygments_lexer": "ipython3",
   "version": "3.9.12"
  }
 },
 "nbformat": 4,
 "nbformat_minor": 5
}
