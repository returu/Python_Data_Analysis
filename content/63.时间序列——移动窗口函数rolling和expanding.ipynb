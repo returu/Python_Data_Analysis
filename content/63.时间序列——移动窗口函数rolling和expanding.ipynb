{
 "cells": [
  {
   "cell_type": "code",
   "execution_count": 1,
   "id": "c1090be8",
   "metadata": {},
   "outputs": [],
   "source": [
    "import numpy as np\n",
    "import pandas as pd"
   ]
  },
  {
   "cell_type": "markdown",
   "id": "a809cb39",
   "metadata": {},
   "source": [
    "# 1.rolling ："
   ]
  },
  {
   "cell_type": "code",
   "execution_count": 2,
   "id": "4134921f",
   "metadata": {},
   "outputs": [],
   "source": [
    "dates = pd.date_range('2022-1-3','2022-1-15')"
   ]
  },
  {
   "cell_type": "code",
   "execution_count": 3,
   "id": "da625a7c",
   "metadata": {},
   "outputs": [
    {
     "data": {
      "text/html": [
       "<div>\n",
       "<style scoped>\n",
       "    .dataframe tbody tr th:only-of-type {\n",
       "        vertical-align: middle;\n",
       "    }\n",
       "\n",
       "    .dataframe tbody tr th {\n",
       "        vertical-align: top;\n",
       "    }\n",
       "\n",
       "    .dataframe thead th {\n",
       "        text-align: right;\n",
       "    }\n",
       "</style>\n",
       "<table border=\"1\" class=\"dataframe\">\n",
       "  <thead>\n",
       "    <tr style=\"text-align: right;\">\n",
       "      <th></th>\n",
       "      <th>data1</th>\n",
       "      <th>data2</th>\n",
       "    </tr>\n",
       "  </thead>\n",
       "  <tbody>\n",
       "    <tr>\n",
       "      <th>2022-01-03</th>\n",
       "      <td>0</td>\n",
       "      <td>1</td>\n",
       "    </tr>\n",
       "    <tr>\n",
       "      <th>2022-01-04</th>\n",
       "      <td>2</td>\n",
       "      <td>3</td>\n",
       "    </tr>\n",
       "    <tr>\n",
       "      <th>2022-01-05</th>\n",
       "      <td>4</td>\n",
       "      <td>5</td>\n",
       "    </tr>\n",
       "    <tr>\n",
       "      <th>2022-01-06</th>\n",
       "      <td>6</td>\n",
       "      <td>7</td>\n",
       "    </tr>\n",
       "    <tr>\n",
       "      <th>2022-01-07</th>\n",
       "      <td>8</td>\n",
       "      <td>9</td>\n",
       "    </tr>\n",
       "    <tr>\n",
       "      <th>2022-01-08</th>\n",
       "      <td>10</td>\n",
       "      <td>11</td>\n",
       "    </tr>\n",
       "    <tr>\n",
       "      <th>2022-01-09</th>\n",
       "      <td>12</td>\n",
       "      <td>13</td>\n",
       "    </tr>\n",
       "    <tr>\n",
       "      <th>2022-01-10</th>\n",
       "      <td>14</td>\n",
       "      <td>15</td>\n",
       "    </tr>\n",
       "    <tr>\n",
       "      <th>2022-01-11</th>\n",
       "      <td>16</td>\n",
       "      <td>17</td>\n",
       "    </tr>\n",
       "    <tr>\n",
       "      <th>2022-01-12</th>\n",
       "      <td>18</td>\n",
       "      <td>19</td>\n",
       "    </tr>\n",
       "    <tr>\n",
       "      <th>2022-01-13</th>\n",
       "      <td>20</td>\n",
       "      <td>21</td>\n",
       "    </tr>\n",
       "    <tr>\n",
       "      <th>2022-01-14</th>\n",
       "      <td>22</td>\n",
       "      <td>23</td>\n",
       "    </tr>\n",
       "    <tr>\n",
       "      <th>2022-01-15</th>\n",
       "      <td>24</td>\n",
       "      <td>25</td>\n",
       "    </tr>\n",
       "  </tbody>\n",
       "</table>\n",
       "</div>"
      ],
      "text/plain": [
       "            data1  data2\n",
       "2022-01-03      0      1\n",
       "2022-01-04      2      3\n",
       "2022-01-05      4      5\n",
       "2022-01-06      6      7\n",
       "2022-01-07      8      9\n",
       "2022-01-08     10     11\n",
       "2022-01-09     12     13\n",
       "2022-01-10     14     15\n",
       "2022-01-11     16     17\n",
       "2022-01-12     18     19\n",
       "2022-01-13     20     21\n",
       "2022-01-14     22     23\n",
       "2022-01-15     24     25"
      ]
     },
     "execution_count": 3,
     "metadata": {},
     "output_type": "execute_result"
    }
   ],
   "source": [
    "df = pd.DataFrame(data = np.arange(len(dates)*2).reshape(-1,2) , columns=[\"data1\",\"data2\"],index=dates)\n",
    "df"
   ]
  },
  {
   "cell_type": "code",
   "execution_count": 4,
   "id": "71324ebb",
   "metadata": {},
   "outputs": [
    {
     "data": {
      "text/html": [
       "<div>\n",
       "<style scoped>\n",
       "    .dataframe tbody tr th:only-of-type {\n",
       "        vertical-align: middle;\n",
       "    }\n",
       "\n",
       "    .dataframe tbody tr th {\n",
       "        vertical-align: top;\n",
       "    }\n",
       "\n",
       "    .dataframe thead th {\n",
       "        text-align: right;\n",
       "    }\n",
       "</style>\n",
       "<table border=\"1\" class=\"dataframe\">\n",
       "  <thead>\n",
       "    <tr style=\"text-align: right;\">\n",
       "      <th></th>\n",
       "      <th>data1</th>\n",
       "      <th>data2</th>\n",
       "    </tr>\n",
       "  </thead>\n",
       "  <tbody>\n",
       "    <tr>\n",
       "      <th>2022-01-03</th>\n",
       "      <td>0</td>\n",
       "      <td>1</td>\n",
       "    </tr>\n",
       "    <tr>\n",
       "      <th>2022-01-04</th>\n",
       "      <td>2</td>\n",
       "      <td>3</td>\n",
       "    </tr>\n",
       "    <tr>\n",
       "      <th>2022-01-05</th>\n",
       "      <td>4</td>\n",
       "      <td>5</td>\n",
       "    </tr>\n",
       "    <tr>\n",
       "      <th>2022-01-06</th>\n",
       "      <td>6</td>\n",
       "      <td>7</td>\n",
       "    </tr>\n",
       "    <tr>\n",
       "      <th>2022-01-07</th>\n",
       "      <td>8</td>\n",
       "      <td>9</td>\n",
       "    </tr>\n",
       "    <tr>\n",
       "      <th>2022-01-10</th>\n",
       "      <td>14</td>\n",
       "      <td>15</td>\n",
       "    </tr>\n",
       "    <tr>\n",
       "      <th>2022-01-11</th>\n",
       "      <td>16</td>\n",
       "      <td>17</td>\n",
       "    </tr>\n",
       "    <tr>\n",
       "      <th>2022-01-12</th>\n",
       "      <td>18</td>\n",
       "      <td>19</td>\n",
       "    </tr>\n",
       "    <tr>\n",
       "      <th>2022-01-13</th>\n",
       "      <td>20</td>\n",
       "      <td>21</td>\n",
       "    </tr>\n",
       "    <tr>\n",
       "      <th>2022-01-14</th>\n",
       "      <td>22</td>\n",
       "      <td>23</td>\n",
       "    </tr>\n",
       "  </tbody>\n",
       "</table>\n",
       "</div>"
      ],
      "text/plain": [
       "            data1  data2\n",
       "2022-01-03      0      1\n",
       "2022-01-04      2      3\n",
       "2022-01-05      4      5\n",
       "2022-01-06      6      7\n",
       "2022-01-07      8      9\n",
       "2022-01-10     14     15\n",
       "2022-01-11     16     17\n",
       "2022-01-12     18     19\n",
       "2022-01-13     20     21\n",
       "2022-01-14     22     23"
      ]
     },
     "execution_count": 4,
     "metadata": {},
     "output_type": "execute_result"
    }
   ],
   "source": [
    "# 按照工作日频率进行重新采样\n",
    "df = df.resample(\"B\").ffill()\n",
    "df"
   ]
  },
  {
   "cell_type": "code",
   "execution_count": 5,
   "id": "64d90765",
   "metadata": {
    "scrolled": true
   },
   "outputs": [
    {
     "data": {
      "text/plain": [
       "2022-01-03     0\n",
       "2022-01-04     2\n",
       "2022-01-05     4\n",
       "2022-01-06     6\n",
       "2022-01-07     8\n",
       "2022-01-10    14\n",
       "2022-01-11    16\n",
       "2022-01-12    18\n",
       "2022-01-13    20\n",
       "2022-01-14    22\n",
       "Freq: B, Name: data1, dtype: int32"
      ]
     },
     "execution_count": 5,
     "metadata": {},
     "output_type": "execute_result"
    }
   ],
   "source": [
    "# 获取一列数据\n",
    "data = df[\"data1\"]\n",
    "data"
   ]
  },
  {
   "cell_type": "markdown",
   "id": "1d5ae68b",
   "metadata": {},
   "source": [
    "## 1.1 获得窗口大小为3时的移动窗口平均值："
   ]
  },
  {
   "cell_type": "code",
   "execution_count": 6,
   "id": "511289b7",
   "metadata": {},
   "outputs": [
    {
     "data": {
      "text/plain": [
       "2022-01-03     NaN\n",
       "2022-01-04     NaN\n",
       "2022-01-05     6.0\n",
       "2022-01-06    12.0\n",
       "2022-01-07    18.0\n",
       "2022-01-10    28.0\n",
       "2022-01-11    38.0\n",
       "2022-01-12    48.0\n",
       "2022-01-13    54.0\n",
       "2022-01-14    60.0\n",
       "Freq: B, Name: data1, dtype: float64"
      ]
     },
     "execution_count": 6,
     "metadata": {},
     "output_type": "execute_result"
    }
   ],
   "source": [
    "data.rolling(3).sum()"
   ]
  },
  {
   "cell_type": "markdown",
   "id": "feb7428b",
   "metadata": {},
   "source": [
    "### min_periods参数"
   ]
  },
  {
   "cell_type": "code",
   "execution_count": 7,
   "id": "915a16e2",
   "metadata": {},
   "outputs": [
    {
     "data": {
      "text/plain": [
       "2022-01-03     NaN\n",
       "2022-01-04     2.0\n",
       "2022-01-05     6.0\n",
       "2022-01-06    12.0\n",
       "2022-01-07    18.0\n",
       "2022-01-10    28.0\n",
       "2022-01-11    38.0\n",
       "2022-01-12    48.0\n",
       "2022-01-13    54.0\n",
       "2022-01-14    60.0\n",
       "Freq: B, Name: data1, dtype: float64"
      ]
     },
     "execution_count": 7,
     "metadata": {},
     "output_type": "execute_result"
    }
   ],
   "source": [
    "data.rolling(3 , min_periods=2).sum()"
   ]
  },
  {
   "cell_type": "markdown",
   "id": "0b63149f",
   "metadata": {},
   "source": [
    "### center参数"
   ]
  },
  {
   "cell_type": "code",
   "execution_count": 8,
   "id": "70e870cb",
   "metadata": {},
   "outputs": [
    {
     "data": {
      "text/plain": [
       "2022-01-03     NaN\n",
       "2022-01-04     6.0\n",
       "2022-01-05    12.0\n",
       "2022-01-06    18.0\n",
       "2022-01-07    28.0\n",
       "2022-01-10    38.0\n",
       "2022-01-11    48.0\n",
       "2022-01-12    54.0\n",
       "2022-01-13    60.0\n",
       "2022-01-14     NaN\n",
       "Freq: B, Name: data1, dtype: float64"
      ]
     },
     "execution_count": 8,
     "metadata": {},
     "output_type": "execute_result"
    }
   ],
   "source": [
    "data.rolling(3 , center=True).sum()"
   ]
  },
  {
   "cell_type": "markdown",
   "id": "3c420958",
   "metadata": {},
   "source": [
    "## 1.2 rolling 函数也可以接收一个表示固定大小的时间偏置字符串："
   ]
  },
  {
   "cell_type": "code",
   "execution_count": 9,
   "id": "cf8e1e9b",
   "metadata": {},
   "outputs": [
    {
     "data": {
      "text/plain": [
       "2022-01-03     0.0\n",
       "2022-01-04     2.0\n",
       "2022-01-05     6.0\n",
       "2022-01-06    12.0\n",
       "2022-01-07    18.0\n",
       "2022-01-10    14.0\n",
       "2022-01-11    30.0\n",
       "2022-01-12    48.0\n",
       "2022-01-13    54.0\n",
       "2022-01-14    60.0\n",
       "Freq: B, Name: data1, dtype: float64"
      ]
     },
     "execution_count": 9,
     "metadata": {},
     "output_type": "execute_result"
    }
   ],
   "source": [
    "data.rolling(\"3D\").sum()"
   ]
  },
  {
   "cell_type": "markdown",
   "id": "a2c91217",
   "metadata": {},
   "source": [
    "## 1.3 在 DataFrame 上调用移动窗口函数会将转换应用于每一列："
   ]
  },
  {
   "cell_type": "code",
   "execution_count": 10,
   "id": "fd0a1e7d",
   "metadata": {},
   "outputs": [
    {
     "data": {
      "text/html": [
       "<div>\n",
       "<style scoped>\n",
       "    .dataframe tbody tr th:only-of-type {\n",
       "        vertical-align: middle;\n",
       "    }\n",
       "\n",
       "    .dataframe tbody tr th {\n",
       "        vertical-align: top;\n",
       "    }\n",
       "\n",
       "    .dataframe thead th {\n",
       "        text-align: right;\n",
       "    }\n",
       "</style>\n",
       "<table border=\"1\" class=\"dataframe\">\n",
       "  <thead>\n",
       "    <tr style=\"text-align: right;\">\n",
       "      <th></th>\n",
       "      <th>data1</th>\n",
       "      <th>data2</th>\n",
       "    </tr>\n",
       "  </thead>\n",
       "  <tbody>\n",
       "    <tr>\n",
       "      <th>2022-01-03</th>\n",
       "      <td>NaN</td>\n",
       "      <td>NaN</td>\n",
       "    </tr>\n",
       "    <tr>\n",
       "      <th>2022-01-04</th>\n",
       "      <td>NaN</td>\n",
       "      <td>NaN</td>\n",
       "    </tr>\n",
       "    <tr>\n",
       "      <th>2022-01-05</th>\n",
       "      <td>6.0</td>\n",
       "      <td>9.0</td>\n",
       "    </tr>\n",
       "    <tr>\n",
       "      <th>2022-01-06</th>\n",
       "      <td>12.0</td>\n",
       "      <td>15.0</td>\n",
       "    </tr>\n",
       "    <tr>\n",
       "      <th>2022-01-07</th>\n",
       "      <td>18.0</td>\n",
       "      <td>21.0</td>\n",
       "    </tr>\n",
       "    <tr>\n",
       "      <th>2022-01-10</th>\n",
       "      <td>28.0</td>\n",
       "      <td>31.0</td>\n",
       "    </tr>\n",
       "    <tr>\n",
       "      <th>2022-01-11</th>\n",
       "      <td>38.0</td>\n",
       "      <td>41.0</td>\n",
       "    </tr>\n",
       "    <tr>\n",
       "      <th>2022-01-12</th>\n",
       "      <td>48.0</td>\n",
       "      <td>51.0</td>\n",
       "    </tr>\n",
       "    <tr>\n",
       "      <th>2022-01-13</th>\n",
       "      <td>54.0</td>\n",
       "      <td>57.0</td>\n",
       "    </tr>\n",
       "    <tr>\n",
       "      <th>2022-01-14</th>\n",
       "      <td>60.0</td>\n",
       "      <td>63.0</td>\n",
       "    </tr>\n",
       "  </tbody>\n",
       "</table>\n",
       "</div>"
      ],
      "text/plain": [
       "            data1  data2\n",
       "2022-01-03    NaN    NaN\n",
       "2022-01-04    NaN    NaN\n",
       "2022-01-05    6.0    9.0\n",
       "2022-01-06   12.0   15.0\n",
       "2022-01-07   18.0   21.0\n",
       "2022-01-10   28.0   31.0\n",
       "2022-01-11   38.0   41.0\n",
       "2022-01-12   48.0   51.0\n",
       "2022-01-13   54.0   57.0\n",
       "2022-01-14   60.0   63.0"
      ]
     },
     "execution_count": 10,
     "metadata": {},
     "output_type": "execute_result"
    }
   ],
   "source": [
    "df.rolling(3).sum()"
   ]
  },
  {
   "cell_type": "markdown",
   "id": "50e8278e",
   "metadata": {},
   "source": [
    "# 2.expanding:"
   ]
  },
  {
   "cell_type": "code",
   "execution_count": 11,
   "id": "2d656e37",
   "metadata": {},
   "outputs": [
    {
     "data": {
      "text/plain": [
       "2022-01-03     0\n",
       "2022-01-04     2\n",
       "2022-01-05     4\n",
       "2022-01-06     6\n",
       "2022-01-07     8\n",
       "2022-01-10    14\n",
       "2022-01-11    16\n",
       "2022-01-12    18\n",
       "2022-01-13    20\n",
       "2022-01-14    22\n",
       "Freq: B, Name: data1, dtype: int32"
      ]
     },
     "execution_count": 11,
     "metadata": {},
     "output_type": "execute_result"
    }
   ],
   "source": [
    "data"
   ]
  },
  {
   "cell_type": "code",
   "execution_count": 12,
   "id": "503ecbb1",
   "metadata": {},
   "outputs": [
    {
     "data": {
      "text/plain": [
       "2022-01-03      NaN\n",
       "2022-01-04      NaN\n",
       "2022-01-05      6.0\n",
       "2022-01-06     12.0\n",
       "2022-01-07     20.0\n",
       "2022-01-10     34.0\n",
       "2022-01-11     50.0\n",
       "2022-01-12     68.0\n",
       "2022-01-13     88.0\n",
       "2022-01-14    110.0\n",
       "Freq: B, Name: data1, dtype: float64"
      ]
     },
     "execution_count": 12,
     "metadata": {},
     "output_type": "execute_result"
    }
   ],
   "source": [
    "data.expanding(min_periods=3).sum()"
   ]
  },
  {
   "cell_type": "code",
   "execution_count": null,
   "id": "ed38cb2f",
   "metadata": {},
   "outputs": [],
   "source": []
  },
  {
   "cell_type": "code",
   "execution_count": null,
   "id": "11535500",
   "metadata": {},
   "outputs": [],
   "source": []
  },
  {
   "cell_type": "code",
   "execution_count": null,
   "id": "d7d62e76",
   "metadata": {},
   "outputs": [],
   "source": []
  },
  {
   "cell_type": "code",
   "execution_count": null,
   "id": "1fc64b1b",
   "metadata": {},
   "outputs": [],
   "source": []
  },
  {
   "cell_type": "code",
   "execution_count": null,
   "id": "a3ec7ff4",
   "metadata": {},
   "outputs": [],
   "source": []
  },
  {
   "cell_type": "code",
   "execution_count": null,
   "id": "bbf0001f",
   "metadata": {},
   "outputs": [],
   "source": []
  },
  {
   "cell_type": "code",
   "execution_count": null,
   "id": "8ca3f21c",
   "metadata": {},
   "outputs": [],
   "source": []
  },
  {
   "cell_type": "code",
   "execution_count": null,
   "id": "1ee1121e",
   "metadata": {},
   "outputs": [],
   "source": []
  },
  {
   "cell_type": "code",
   "execution_count": null,
   "id": "2fde49fd",
   "metadata": {},
   "outputs": [],
   "source": []
  },
  {
   "cell_type": "code",
   "execution_count": null,
   "id": "c88b8fb2",
   "metadata": {},
   "outputs": [],
   "source": []
  },
  {
   "cell_type": "code",
   "execution_count": null,
   "id": "a313cc21",
   "metadata": {},
   "outputs": [],
   "source": []
  },
  {
   "cell_type": "code",
   "execution_count": null,
   "id": "27cb6cfd",
   "metadata": {},
   "outputs": [],
   "source": []
  },
  {
   "cell_type": "code",
   "execution_count": null,
   "id": "df94f7cc",
   "metadata": {},
   "outputs": [],
   "source": []
  },
  {
   "cell_type": "code",
   "execution_count": null,
   "id": "97a5266a",
   "metadata": {},
   "outputs": [],
   "source": []
  },
  {
   "cell_type": "code",
   "execution_count": null,
   "id": "16a8294e",
   "metadata": {},
   "outputs": [],
   "source": []
  },
  {
   "cell_type": "code",
   "execution_count": null,
   "id": "db25c628",
   "metadata": {},
   "outputs": [],
   "source": []
  },
  {
   "cell_type": "code",
   "execution_count": null,
   "id": "388b7181",
   "metadata": {},
   "outputs": [],
   "source": []
  }
 ],
 "metadata": {
  "kernelspec": {
   "display_name": "Python 3 (ipykernel)",
   "language": "python",
   "name": "python3"
  },
  "language_info": {
   "codemirror_mode": {
    "name": "ipython",
    "version": 3
   },
   "file_extension": ".py",
   "mimetype": "text/x-python",
   "name": "python",
   "nbconvert_exporter": "python",
   "pygments_lexer": "ipython3",
   "version": "3.9.12"
  }
 },
 "nbformat": 4,
 "nbformat_minor": 5
}
