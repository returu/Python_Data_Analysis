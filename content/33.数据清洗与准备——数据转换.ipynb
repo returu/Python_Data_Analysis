{
 "cells": [
  {
   "cell_type": "code",
   "execution_count": 1,
   "id": "013994e7",
   "metadata": {},
   "outputs": [],
   "source": [
    "import numpy as np\n",
    "import pandas as pd"
   ]
  },
  {
   "cell_type": "markdown",
   "id": "1a31c912",
   "metadata": {},
   "source": [
    "# 1.离散化和分箱："
   ]
  },
  {
   "cell_type": "markdown",
   "id": "c2fe9124",
   "metadata": {},
   "source": [
    "#### cut()方法"
   ]
  },
  {
   "cell_type": "code",
   "execution_count": 2,
   "id": "07528a95",
   "metadata": {},
   "outputs": [],
   "source": [
    "# 将年龄按照18~25,26~35,36~60,60~100分组\n",
    "ages = [22,21,25,28,21,23,36,33,65,46,40,39]\n",
    "bins = [18,25,35,60,100]"
   ]
  },
  {
   "cell_type": "code",
   "execution_count": 3,
   "id": "449f39b4",
   "metadata": {},
   "outputs": [
    {
     "data": {
      "text/plain": [
       "[(18, 25], (18, 25], (18, 25], (25, 35], (18, 25], ..., (25, 35], (60, 100], (35, 60], (35, 60], (35, 60]]\n",
       "Length: 12\n",
       "Categories (4, interval[int64, right]): [(18, 25] < (25, 35] < (35, 60] < (60, 100]]"
      ]
     },
     "execution_count": 3,
     "metadata": {},
     "output_type": "execute_result"
    }
   ],
   "source": [
    "ages_cate = pd.cut(ages,bins)\n",
    "ages_cate"
   ]
  },
  {
   "cell_type": "code",
   "execution_count": 4,
   "id": "13852996",
   "metadata": {},
   "outputs": [
    {
     "data": {
      "text/plain": [
       "IntervalIndex([(18, 25], (25, 35], (35, 60], (60, 100]], dtype='interval[int64, right]')"
      ]
     },
     "execution_count": 4,
     "metadata": {},
     "output_type": "execute_result"
    }
   ],
   "source": [
    "# 类别数组\n",
    "ages_cate.categories"
   ]
  },
  {
   "cell_type": "code",
   "execution_count": 5,
   "id": "e1d9dce0",
   "metadata": {},
   "outputs": [
    {
     "data": {
      "text/plain": [
       "array([0, 0, 0, 1, 0, 0, 2, 1, 3, 2, 2, 2], dtype=int8)"
      ]
     },
     "execution_count": 5,
     "metadata": {},
     "output_type": "execute_result"
    }
   ],
   "source": [
    "# 不同年龄在类别数组中的索引值\n",
    "ages_cate.codes"
   ]
  },
  {
   "cell_type": "code",
   "execution_count": 6,
   "id": "4939023c",
   "metadata": {},
   "outputs": [
    {
     "data": {
      "text/plain": [
       "(18, 25]     5\n",
       "(35, 60]     4\n",
       "(25, 35]     2\n",
       "(60, 100]    1\n",
       "dtype: int64"
      ]
     },
     "execution_count": 6,
     "metadata": {},
     "output_type": "execute_result"
    }
   ],
   "source": [
    "# pandas.cut 结果中的 箱（bin）数量的 计数\n",
    "pd.value_counts(ages_cate)"
   ]
  },
  {
   "cell_type": "markdown",
   "id": "3793e5ed",
   "metadata": {},
   "source": [
    "#### 通过传递right=False改变区间"
   ]
  },
  {
   "cell_type": "code",
   "execution_count": 7,
   "id": "73102713",
   "metadata": {},
   "outputs": [
    {
     "data": {
      "text/plain": [
       "IntervalIndex([(18, 25], (25, 35], (35, 60], (60, 100]], dtype='interval[int64, right]')"
      ]
     },
     "execution_count": 7,
     "metadata": {},
     "output_type": "execute_result"
    }
   ],
   "source": [
    "ages_cate = pd.cut(ages,bins)\n",
    "ages_cate.categories"
   ]
  },
  {
   "cell_type": "code",
   "execution_count": 8,
   "id": "54e9aa40",
   "metadata": {},
   "outputs": [
    {
     "data": {
      "text/plain": [
       "IntervalIndex([[18, 25), [25, 35), [35, 60), [60, 100)], dtype='interval[int64, left]')"
      ]
     },
     "execution_count": 8,
     "metadata": {},
     "output_type": "execute_result"
    }
   ],
   "source": [
    "ages_cate2 = pd.cut(ages,bins,right=False)\n",
    "ages_cate2.categories"
   ]
  },
  {
   "cell_type": "markdown",
   "id": "afb2254b",
   "metadata": {},
   "source": [
    "#### 通过向labels选项传递一个列表或数组来自定义箱名"
   ]
  },
  {
   "cell_type": "code",
   "execution_count": 9,
   "id": "e2569660",
   "metadata": {},
   "outputs": [],
   "source": [
    "ages = [22,21,25,28,21,23,36,33,65,46,40,39]\n",
    "bins = [18,25,35,60,100]\n",
    "group_names =['未成年','成年','中年','老年']"
   ]
  },
  {
   "cell_type": "code",
   "execution_count": 10,
   "id": "a68d18ff",
   "metadata": {},
   "outputs": [
    {
     "data": {
      "text/plain": [
       "['未成年', '未成年', '未成年', '成年', '未成年', ..., '成年', '老年', '中年', '中年', '中年']\n",
       "Length: 12\n",
       "Categories (4, object): ['未成年' < '成年' < '中年' < '老年']"
      ]
     },
     "execution_count": 10,
     "metadata": {},
     "output_type": "execute_result"
    }
   ],
   "source": [
    "ages_cate = pd.cut(ages,bins,labels=group_names)\n",
    "ages_cate"
   ]
  },
  {
   "cell_type": "markdown",
   "id": "9763aab0",
   "metadata": {},
   "source": [
    "#### 也可以传入希望切分的数量，系统会根据最大值和最小值自动计算出等长的箱，其中precision选项用于设置精度限制。"
   ]
  },
  {
   "cell_type": "code",
   "execution_count": 11,
   "id": "1f5a1dac",
   "metadata": {},
   "outputs": [],
   "source": [
    "ages = [22,21,25,28,21,23,36,33,65,46,40,39]"
   ]
  },
  {
   "cell_type": "code",
   "execution_count": 12,
   "id": "88055a6e",
   "metadata": {},
   "outputs": [
    {
     "data": {
      "text/plain": [
       "[(20.96, 32.0], (20.96, 32.0], (20.96, 32.0], (20.96, 32.0], (20.96, 32.0], ..., (32.0, 43.0], (54.0, 65.0], (43.0, 54.0], (32.0, 43.0], (32.0, 43.0]]\n",
       "Length: 12\n",
       "Categories (4, interval[float64, right]): [(20.96, 32.0] < (32.0, 43.0] < (43.0, 54.0] < (54.0, 65.0]]"
      ]
     },
     "execution_count": 12,
     "metadata": {},
     "output_type": "execute_result"
    }
   ],
   "source": [
    "ages_cate = pd.cut(ages,4,precision=2)\n",
    "ages_cate"
   ]
  },
  {
   "cell_type": "markdown",
   "id": "be0f8755",
   "metadata": {},
   "source": [
    "### qcut()方法"
   ]
  },
  {
   "cell_type": "code",
   "execution_count": 13,
   "id": "95efb88c",
   "metadata": {},
   "outputs": [
    {
     "data": {
      "text/plain": [
       "[(-0.817, 0.0586], (0.0586, 0.828], (-0.817, 0.0586], (0.0586, 0.828], (-0.817, 0.0586], ..., (-2.776, -0.817], (0.828, 2.261], (-2.776, -0.817], (-0.817, 0.0586], (-0.817, 0.0586]]\n",
       "Length: 100\n",
       "Categories (4, interval[float64, right]): [(-2.776, -0.817] < (-0.817, 0.0586] < (0.0586, 0.828] < (0.828, 2.261]]"
      ]
     },
     "execution_count": 13,
     "metadata": {},
     "output_type": "execute_result"
    }
   ],
   "source": [
    "data = np.random.randn(100)\n",
    "data_cate = pd.qcut(data,4) # 切分成四份\n",
    "data_cate"
   ]
  },
  {
   "cell_type": "code",
   "execution_count": 14,
   "id": "cbc092e7",
   "metadata": {},
   "outputs": [
    {
     "data": {
      "text/plain": [
       "(-2.776, -0.817]    25\n",
       "(-0.817, 0.0586]    25\n",
       "(0.0586, 0.828]     25\n",
       "(0.828, 2.261]      25\n",
       "dtype: int64"
      ]
     },
     "execution_count": 14,
     "metadata": {},
     "output_type": "execute_result"
    }
   ],
   "source": [
    "pd.value_counts(data_cate)"
   ]
  },
  {
   "cell_type": "markdown",
   "id": "3f0fc327",
   "metadata": {},
   "source": [
    "#### 传入自定义的分位数"
   ]
  },
  {
   "cell_type": "code",
   "execution_count": 15,
   "id": "e0af373f",
   "metadata": {},
   "outputs": [
    {
     "data": {
      "text/plain": [
       "[(-1.275, 0.0586], (0.0586, 1.297], (-1.275, 0.0586], (0.0586, 1.297], (-1.275, 0.0586], ..., (-2.776, -1.275], (0.0586, 1.297], (-1.275, 0.0586], (-1.275, 0.0586], (-1.275, 0.0586]]\n",
       "Length: 100\n",
       "Categories (4, interval[float64, right]): [(-2.776, -1.275] < (-1.275, 0.0586] < (0.0586, 1.297] < (1.297, 2.261]]"
      ]
     },
     "execution_count": 15,
     "metadata": {},
     "output_type": "execute_result"
    }
   ],
   "source": [
    "data_cate = pd.qcut(data,[0,0.1,0.5,0.9,1])\n",
    "data_cate"
   ]
  },
  {
   "cell_type": "code",
   "execution_count": 16,
   "id": "baed09c6",
   "metadata": {},
   "outputs": [
    {
     "data": {
      "text/plain": [
       "(-1.275, 0.0586]    40\n",
       "(0.0586, 1.297]     40\n",
       "(-2.776, -1.275]    10\n",
       "(1.297, 2.261]      10\n",
       "dtype: int64"
      ]
     },
     "execution_count": 16,
     "metadata": {},
     "output_type": "execute_result"
    }
   ],
   "source": [
    "pd.value_counts(data_cate)"
   ]
  },
  {
   "cell_type": "markdown",
   "id": "96a0da52",
   "metadata": {},
   "source": [
    "# 2.检测和过滤异常值"
   ]
  },
  {
   "cell_type": "code",
   "execution_count": 17,
   "id": "1ffb403f",
   "metadata": {},
   "outputs": [
    {
     "data": {
      "text/html": [
       "<div>\n",
       "<style scoped>\n",
       "    .dataframe tbody tr th:only-of-type {\n",
       "        vertical-align: middle;\n",
       "    }\n",
       "\n",
       "    .dataframe tbody tr th {\n",
       "        vertical-align: top;\n",
       "    }\n",
       "\n",
       "    .dataframe thead th {\n",
       "        text-align: right;\n",
       "    }\n",
       "</style>\n",
       "<table border=\"1\" class=\"dataframe\">\n",
       "  <thead>\n",
       "    <tr style=\"text-align: right;\">\n",
       "      <th></th>\n",
       "      <th>0</th>\n",
       "      <th>1</th>\n",
       "      <th>2</th>\n",
       "      <th>3</th>\n",
       "    </tr>\n",
       "  </thead>\n",
       "  <tbody>\n",
       "    <tr>\n",
       "      <th>0</th>\n",
       "      <td>3</td>\n",
       "      <td>-97</td>\n",
       "      <td>31</td>\n",
       "      <td>-16</td>\n",
       "    </tr>\n",
       "    <tr>\n",
       "      <th>1</th>\n",
       "      <td>-33</td>\n",
       "      <td>49</td>\n",
       "      <td>27</td>\n",
       "      <td>46</td>\n",
       "    </tr>\n",
       "    <tr>\n",
       "      <th>2</th>\n",
       "      <td>-72</td>\n",
       "      <td>-41</td>\n",
       "      <td>15</td>\n",
       "      <td>-96</td>\n",
       "    </tr>\n",
       "    <tr>\n",
       "      <th>3</th>\n",
       "      <td>8</td>\n",
       "      <td>-100</td>\n",
       "      <td>-84</td>\n",
       "      <td>4</td>\n",
       "    </tr>\n",
       "    <tr>\n",
       "      <th>4</th>\n",
       "      <td>1</td>\n",
       "      <td>76</td>\n",
       "      <td>-53</td>\n",
       "      <td>-15</td>\n",
       "    </tr>\n",
       "    <tr>\n",
       "      <th>5</th>\n",
       "      <td>45</td>\n",
       "      <td>-8</td>\n",
       "      <td>-81</td>\n",
       "      <td>-98</td>\n",
       "    </tr>\n",
       "  </tbody>\n",
       "</table>\n",
       "</div>"
      ],
      "text/plain": [
       "    0    1   2   3\n",
       "0   3  -97  31 -16\n",
       "1 -33   49  27  46\n",
       "2 -72  -41  15 -96\n",
       "3   8 -100 -84   4\n",
       "4   1   76 -53 -15\n",
       "5  45   -8 -81 -98"
      ]
     },
     "execution_count": 17,
     "metadata": {},
     "output_type": "execute_result"
    }
   ],
   "source": [
    "data = pd.DataFrame(np.random.randint(-100,100,(6, 4)))\n",
    "data"
   ]
  },
  {
   "cell_type": "code",
   "execution_count": 18,
   "id": "e1c26856",
   "metadata": {},
   "outputs": [
    {
     "data": {
      "text/html": [
       "<div>\n",
       "<style scoped>\n",
       "    .dataframe tbody tr th:only-of-type {\n",
       "        vertical-align: middle;\n",
       "    }\n",
       "\n",
       "    .dataframe tbody tr th {\n",
       "        vertical-align: top;\n",
       "    }\n",
       "\n",
       "    .dataframe thead th {\n",
       "        text-align: right;\n",
       "    }\n",
       "</style>\n",
       "<table border=\"1\" class=\"dataframe\">\n",
       "  <thead>\n",
       "    <tr style=\"text-align: right;\">\n",
       "      <th></th>\n",
       "      <th>0</th>\n",
       "      <th>1</th>\n",
       "      <th>2</th>\n",
       "      <th>3</th>\n",
       "    </tr>\n",
       "  </thead>\n",
       "  <tbody>\n",
       "    <tr>\n",
       "      <th>count</th>\n",
       "      <td>6.000000</td>\n",
       "      <td>6.000000</td>\n",
       "      <td>6.000000</td>\n",
       "      <td>6.000000</td>\n",
       "    </tr>\n",
       "    <tr>\n",
       "      <th>mean</th>\n",
       "      <td>-8.000000</td>\n",
       "      <td>-20.166667</td>\n",
       "      <td>-24.166667</td>\n",
       "      <td>-29.166667</td>\n",
       "    </tr>\n",
       "    <tr>\n",
       "      <th>std</th>\n",
       "      <td>39.969989</td>\n",
       "      <td>73.335985</td>\n",
       "      <td>54.473541</td>\n",
       "      <td>57.146887</td>\n",
       "    </tr>\n",
       "    <tr>\n",
       "      <th>min</th>\n",
       "      <td>-72.000000</td>\n",
       "      <td>-100.000000</td>\n",
       "      <td>-84.000000</td>\n",
       "      <td>-98.000000</td>\n",
       "    </tr>\n",
       "    <tr>\n",
       "      <th>25%</th>\n",
       "      <td>-24.500000</td>\n",
       "      <td>-83.000000</td>\n",
       "      <td>-74.000000</td>\n",
       "      <td>-76.000000</td>\n",
       "    </tr>\n",
       "    <tr>\n",
       "      <th>50%</th>\n",
       "      <td>2.000000</td>\n",
       "      <td>-24.500000</td>\n",
       "      <td>-19.000000</td>\n",
       "      <td>-15.500000</td>\n",
       "    </tr>\n",
       "    <tr>\n",
       "      <th>75%</th>\n",
       "      <td>6.750000</td>\n",
       "      <td>34.750000</td>\n",
       "      <td>24.000000</td>\n",
       "      <td>-0.750000</td>\n",
       "    </tr>\n",
       "    <tr>\n",
       "      <th>max</th>\n",
       "      <td>45.000000</td>\n",
       "      <td>76.000000</td>\n",
       "      <td>31.000000</td>\n",
       "      <td>46.000000</td>\n",
       "    </tr>\n",
       "  </tbody>\n",
       "</table>\n",
       "</div>"
      ],
      "text/plain": [
       "               0           1          2          3\n",
       "count   6.000000    6.000000   6.000000   6.000000\n",
       "mean   -8.000000  -20.166667 -24.166667 -29.166667\n",
       "std    39.969989   73.335985  54.473541  57.146887\n",
       "min   -72.000000 -100.000000 -84.000000 -98.000000\n",
       "25%   -24.500000  -83.000000 -74.000000 -76.000000\n",
       "50%     2.000000  -24.500000 -19.000000 -15.500000\n",
       "75%     6.750000   34.750000  24.000000  -0.750000\n",
       "max    45.000000   76.000000  31.000000  46.000000"
      ]
     },
     "execution_count": 18,
     "metadata": {},
     "output_type": "execute_result"
    }
   ],
   "source": [
    "# 汇总统计\n",
    "data.describe()"
   ]
  },
  {
   "cell_type": "markdown",
   "id": "a5fc0fd4",
   "metadata": {},
   "source": [
    "#### 假设你想在其中一列中查找绝对值超过 50 的值"
   ]
  },
  {
   "cell_type": "code",
   "execution_count": 19,
   "id": "6b33ed02",
   "metadata": {},
   "outputs": [],
   "source": [
    "col = data[2]"
   ]
  },
  {
   "cell_type": "code",
   "execution_count": 20,
   "id": "e830382c",
   "metadata": {},
   "outputs": [
    {
     "data": {
      "text/plain": [
       "3   -84\n",
       "4   -53\n",
       "5   -81\n",
       "Name: 2, dtype: int32"
      ]
     },
     "execution_count": 20,
     "metadata": {},
     "output_type": "execute_result"
    }
   ],
   "source": [
    "col[col.abs() > 50]"
   ]
  },
  {
   "cell_type": "markdown",
   "id": "2b64532a",
   "metadata": {},
   "source": [
    "#### 如要选择值超过 50 或 –50 的所有行，可以在布尔值DataFrame上使用 any 方法"
   ]
  },
  {
   "cell_type": "code",
   "execution_count": 21,
   "id": "301af5d9",
   "metadata": {},
   "outputs": [
    {
     "data": {
      "text/html": [
       "<div>\n",
       "<style scoped>\n",
       "    .dataframe tbody tr th:only-of-type {\n",
       "        vertical-align: middle;\n",
       "    }\n",
       "\n",
       "    .dataframe tbody tr th {\n",
       "        vertical-align: top;\n",
       "    }\n",
       "\n",
       "    .dataframe thead th {\n",
       "        text-align: right;\n",
       "    }\n",
       "</style>\n",
       "<table border=\"1\" class=\"dataframe\">\n",
       "  <thead>\n",
       "    <tr style=\"text-align: right;\">\n",
       "      <th></th>\n",
       "      <th>0</th>\n",
       "      <th>1</th>\n",
       "      <th>2</th>\n",
       "      <th>3</th>\n",
       "    </tr>\n",
       "  </thead>\n",
       "  <tbody>\n",
       "    <tr>\n",
       "      <th>0</th>\n",
       "      <td>3</td>\n",
       "      <td>-97</td>\n",
       "      <td>31</td>\n",
       "      <td>-16</td>\n",
       "    </tr>\n",
       "    <tr>\n",
       "      <th>2</th>\n",
       "      <td>-72</td>\n",
       "      <td>-41</td>\n",
       "      <td>15</td>\n",
       "      <td>-96</td>\n",
       "    </tr>\n",
       "    <tr>\n",
       "      <th>3</th>\n",
       "      <td>8</td>\n",
       "      <td>-100</td>\n",
       "      <td>-84</td>\n",
       "      <td>4</td>\n",
       "    </tr>\n",
       "    <tr>\n",
       "      <th>4</th>\n",
       "      <td>1</td>\n",
       "      <td>76</td>\n",
       "      <td>-53</td>\n",
       "      <td>-15</td>\n",
       "    </tr>\n",
       "    <tr>\n",
       "      <th>5</th>\n",
       "      <td>45</td>\n",
       "      <td>-8</td>\n",
       "      <td>-81</td>\n",
       "      <td>-98</td>\n",
       "    </tr>\n",
       "  </tbody>\n",
       "</table>\n",
       "</div>"
      ],
      "text/plain": [
       "    0    1   2   3\n",
       "0   3  -97  31 -16\n",
       "2 -72  -41  15 -96\n",
       "3   8 -100 -84   4\n",
       "4   1   76 -53 -15\n",
       "5  45   -8 -81 -98"
      ]
     },
     "execution_count": 21,
     "metadata": {},
     "output_type": "execute_result"
    }
   ],
   "source": [
    "data[(data.abs() > 50).any(axis=\"columns\")]"
   ]
  },
  {
   "cell_type": "markdown",
   "id": "220d9574",
   "metadata": {},
   "source": [
    "#### 通过np.sign()，限制值超出 –50 到 50的区间"
   ]
  },
  {
   "cell_type": "code",
   "execution_count": 22,
   "id": "9473070b",
   "metadata": {},
   "outputs": [],
   "source": [
    "data[(data.abs() > 50)] = np.sign(data)*50"
   ]
  },
  {
   "cell_type": "code",
   "execution_count": 23,
   "id": "8eb432ae",
   "metadata": {},
   "outputs": [
    {
     "data": {
      "text/html": [
       "<div>\n",
       "<style scoped>\n",
       "    .dataframe tbody tr th:only-of-type {\n",
       "        vertical-align: middle;\n",
       "    }\n",
       "\n",
       "    .dataframe tbody tr th {\n",
       "        vertical-align: top;\n",
       "    }\n",
       "\n",
       "    .dataframe thead th {\n",
       "        text-align: right;\n",
       "    }\n",
       "</style>\n",
       "<table border=\"1\" class=\"dataframe\">\n",
       "  <thead>\n",
       "    <tr style=\"text-align: right;\">\n",
       "      <th></th>\n",
       "      <th>0</th>\n",
       "      <th>1</th>\n",
       "      <th>2</th>\n",
       "      <th>3</th>\n",
       "    </tr>\n",
       "  </thead>\n",
       "  <tbody>\n",
       "    <tr>\n",
       "      <th>0</th>\n",
       "      <td>3</td>\n",
       "      <td>-50</td>\n",
       "      <td>31</td>\n",
       "      <td>-16</td>\n",
       "    </tr>\n",
       "    <tr>\n",
       "      <th>1</th>\n",
       "      <td>-33</td>\n",
       "      <td>49</td>\n",
       "      <td>27</td>\n",
       "      <td>46</td>\n",
       "    </tr>\n",
       "    <tr>\n",
       "      <th>2</th>\n",
       "      <td>-50</td>\n",
       "      <td>-41</td>\n",
       "      <td>15</td>\n",
       "      <td>-50</td>\n",
       "    </tr>\n",
       "    <tr>\n",
       "      <th>3</th>\n",
       "      <td>8</td>\n",
       "      <td>-50</td>\n",
       "      <td>-50</td>\n",
       "      <td>4</td>\n",
       "    </tr>\n",
       "    <tr>\n",
       "      <th>4</th>\n",
       "      <td>1</td>\n",
       "      <td>50</td>\n",
       "      <td>-50</td>\n",
       "      <td>-15</td>\n",
       "    </tr>\n",
       "    <tr>\n",
       "      <th>5</th>\n",
       "      <td>45</td>\n",
       "      <td>-8</td>\n",
       "      <td>-50</td>\n",
       "      <td>-50</td>\n",
       "    </tr>\n",
       "  </tbody>\n",
       "</table>\n",
       "</div>"
      ],
      "text/plain": [
       "    0   1   2   3\n",
       "0   3 -50  31 -16\n",
       "1 -33  49  27  46\n",
       "2 -50 -41  15 -50\n",
       "3   8 -50 -50   4\n",
       "4   1  50 -50 -15\n",
       "5  45  -8 -50 -50"
      ]
     },
     "execution_count": 23,
     "metadata": {},
     "output_type": "execute_result"
    }
   ],
   "source": [
    "data"
   ]
  },
  {
   "cell_type": "code",
   "execution_count": null,
   "id": "35bbc485",
   "metadata": {},
   "outputs": [],
   "source": []
  },
  {
   "cell_type": "code",
   "execution_count": null,
   "id": "6043b911",
   "metadata": {},
   "outputs": [],
   "source": []
  }
 ],
 "metadata": {
  "kernelspec": {
   "display_name": "Python 3 (ipykernel)",
   "language": "python",
   "name": "python3"
  },
  "language_info": {
   "codemirror_mode": {
    "name": "ipython",
    "version": 3
   },
   "file_extension": ".py",
   "mimetype": "text/x-python",
   "name": "python",
   "nbconvert_exporter": "python",
   "pygments_lexer": "ipython3",
   "version": "3.9.12"
  }
 },
 "nbformat": 4,
 "nbformat_minor": 5
}
